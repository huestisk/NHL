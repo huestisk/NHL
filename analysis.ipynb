{
 "metadata": {
  "language_info": {
   "codemirror_mode": {
    "name": "ipython",
    "version": 3
   },
   "file_extension": ".py",
   "mimetype": "text/x-python",
   "name": "python",
   "nbconvert_exporter": "python",
   "pygments_lexer": "ipython3",
   "version": "3.8.3"
  },
  "orig_nbformat": 2,
  "kernelspec": {
   "name": "python383jvsc74a57bd00be40f15dcfa6f86363c9264ef3f626f3c3a3ec773f4020b380e97c2efd2229f",
   "display_name": "Python 3.8.3 64-bit ('base': conda)"
  }
 },
 "nbformat": 4,
 "nbformat_minor": 2,
 "cells": [
  {
   "cell_type": "code",
   "execution_count": 1,
   "metadata": {},
   "outputs": [],
   "source": [
    "import numpy as np\n",
    "import pandas as pd\n",
    "from common import convert_to_matches"
   ]
  },
  {
   "cell_type": "code",
   "execution_count": 2,
   "metadata": {},
   "outputs": [
    {
     "output_type": "execute_result",
     "data": {
      "text/plain": [
       "        Date                Visitor  Visitor Goals                 Home  \\\n",
       "0 2019-04-10    Pittsburgh Penguins              3   New York Islanders   \n",
       "1 2019-04-10           Dallas Stars              3  Nashville Predators   \n",
       "2 2019-04-10        St. Louis Blues              2        Winnipeg Jets   \n",
       "3 2019-04-10   Vegas Golden Knights              2      San Jose Sharks   \n",
       "4 2019-04-10  Columbus Blue Jackets              4  Tampa Bay Lightning   \n",
       "\n",
       "   Home Goals Overtime  Attendance          Length  \\\n",
       "0           4       OT       13917 0 days 03:06:00   \n",
       "1           2      NaN       17458 0 days 02:30:00   \n",
       "2           1      NaN       15321 0 days 02:31:00   \n",
       "3           5      NaN       17562 0 days 02:39:00   \n",
       "4           3      NaN       19092 0 days 02:28:00   \n",
       "\n",
       "                                               Notes     Season      Type  \n",
       "0  at Nassau Veterans Memorial Coliseum (Uniondal...  2018-2019  playoffs  \n",
       "1                                                NaN  2018-2019  playoffs  \n",
       "2                                                NaN  2018-2019  playoffs  \n",
       "3                                                NaN  2018-2019  playoffs  \n",
       "4                                                NaN  2018-2019  playoffs  "
      ],
      "text/html": "<div>\n<style scoped>\n    .dataframe tbody tr th:only-of-type {\n        vertical-align: middle;\n    }\n\n    .dataframe tbody tr th {\n        vertical-align: top;\n    }\n\n    .dataframe thead th {\n        text-align: right;\n    }\n</style>\n<table border=\"1\" class=\"dataframe\">\n  <thead>\n    <tr style=\"text-align: right;\">\n      <th></th>\n      <th>Date</th>\n      <th>Visitor</th>\n      <th>Visitor Goals</th>\n      <th>Home</th>\n      <th>Home Goals</th>\n      <th>Overtime</th>\n      <th>Attendance</th>\n      <th>Length</th>\n      <th>Notes</th>\n      <th>Season</th>\n      <th>Type</th>\n    </tr>\n  </thead>\n  <tbody>\n    <tr>\n      <th>0</th>\n      <td>2019-04-10</td>\n      <td>Pittsburgh Penguins</td>\n      <td>3</td>\n      <td>New York Islanders</td>\n      <td>4</td>\n      <td>OT</td>\n      <td>13917</td>\n      <td>0 days 03:06:00</td>\n      <td>at Nassau Veterans Memorial Coliseum (Uniondal...</td>\n      <td>2018-2019</td>\n      <td>playoffs</td>\n    </tr>\n    <tr>\n      <th>1</th>\n      <td>2019-04-10</td>\n      <td>Dallas Stars</td>\n      <td>3</td>\n      <td>Nashville Predators</td>\n      <td>2</td>\n      <td>NaN</td>\n      <td>17458</td>\n      <td>0 days 02:30:00</td>\n      <td>NaN</td>\n      <td>2018-2019</td>\n      <td>playoffs</td>\n    </tr>\n    <tr>\n      <th>2</th>\n      <td>2019-04-10</td>\n      <td>St. Louis Blues</td>\n      <td>2</td>\n      <td>Winnipeg Jets</td>\n      <td>1</td>\n      <td>NaN</td>\n      <td>15321</td>\n      <td>0 days 02:31:00</td>\n      <td>NaN</td>\n      <td>2018-2019</td>\n      <td>playoffs</td>\n    </tr>\n    <tr>\n      <th>3</th>\n      <td>2019-04-10</td>\n      <td>Vegas Golden Knights</td>\n      <td>2</td>\n      <td>San Jose Sharks</td>\n      <td>5</td>\n      <td>NaN</td>\n      <td>17562</td>\n      <td>0 days 02:39:00</td>\n      <td>NaN</td>\n      <td>2018-2019</td>\n      <td>playoffs</td>\n    </tr>\n    <tr>\n      <th>4</th>\n      <td>2019-04-10</td>\n      <td>Columbus Blue Jackets</td>\n      <td>4</td>\n      <td>Tampa Bay Lightning</td>\n      <td>3</td>\n      <td>NaN</td>\n      <td>19092</td>\n      <td>0 days 02:28:00</td>\n      <td>NaN</td>\n      <td>2018-2019</td>\n      <td>playoffs</td>\n    </tr>\n  </tbody>\n</table>\n</div>"
     },
     "metadata": {},
     "execution_count": 2
    }
   ],
   "source": [
    "scores = pd.read_pickle('data/scores.pkl')\n",
    "scores.head()"
   ]
  },
  {
   "cell_type": "code",
   "execution_count": 3,
   "metadata": {},
   "outputs": [
    {
     "output_type": "execute_result",
     "data": {
      "text/plain": [
       "['OT', NaN, '2OT', 'SO', '5OT']\n",
       "Categories (4, object): ['OT', '2OT', 'SO', '5OT']"
      ]
     },
     "metadata": {},
     "execution_count": 3
    }
   ],
   "source": [
    "scores['Overtime'].unique()"
   ]
  },
  {
   "cell_type": "code",
   "execution_count": 16,
   "metadata": {},
   "outputs": [],
   "source": [
    "def prematch_stats(df, team, opponent, show_games=False):\n",
    "    df = df.loc[df['Season'] == '2020-2021']\n",
    "    data = convert_to_matches(df, team, opponent)\n",
    "    if show_games:\n",
    "        display(data)\n",
    "        print()\n",
    "    # for season, data in df.groupby('Season'):\n",
    "    # wins\n",
    "    wins = sum(data['Goals'] > data['GA'])\n",
    "    home_wins = sum((data['Goals'] > data['GA']) & data['Home'])\n",
    "    away_wins = wins - home_wins\n",
    "    # losses\n",
    "    losses = sum((data['Goals'] < data['GA']) & pd.isnull(data['Overtime']))\n",
    "    home_losses = sum((data['Goals'] < data['GA']) & pd.isnull(data['Overtime']) & data['Home'])\n",
    "    away_losses = losses - home_losses\n",
    "    # overtime\n",
    "    ot_losses = sum((data['Goals'] < data['GA']) & pd.notnull(data['Overtime']))\n",
    "    home_ot_losses = sum((data['Goals'] < data['GA']) & pd.notnull(data['Overtime']) & data['Home'])\n",
    "    away_ot_losses = ot_losses - home_ot_losses\n",
    "    # other\n",
    "    ot_wins = sum((data['Goals'] > data['GA']) & pd.notnull(data['Overtime']))\n",
    "    so_losses = sum((data['Goals'] < data['GA']) & (data['Overtime'] == 'SO'))\n",
    "    so_wins = sum((data['Goals'] > data['GA']) & (data['Overtime'] == 'SO'))\n",
    "\n",
    "    print(\"Record: {}-{}-{}\".format(wins, losses, ot_losses))\n",
    "    print(\"Home Record: {}-{}-{}\".format(home_wins, home_losses, home_ot_losses))\n",
    "    print(\"Away Record: {}-{}-{}\".format(away_wins, away_losses, away_ot_losses))"
   ]
  },
  {
   "cell_type": "code",
   "execution_count": 22,
   "metadata": {},
   "outputs": [
    {
     "output_type": "display_data",
     "data": {
      "text/plain": "                  Team          Opponent  Goals  GA   Home Overtime  \\\n0  Carolina Hurricanes  Florida Panthers      3   4   True       OT   \n4  Carolina Hurricanes  Florida Panthers      4   3  False       SO   \n5  Carolina Hurricanes  Florida Panthers      3   2  False       OT   \n1  Carolina Hurricanes  Florida Panthers      4   2   True      NaN   \n2  Carolina Hurricanes  Florida Panthers      5   2   True      NaN   \n3  Carolina Hurricanes  Florida Panthers      3   0   True      NaN   \n6  Carolina Hurricanes  Florida Panthers      4   2  False      NaN   \n7  Carolina Hurricanes  Florida Panthers      3   4  False       OT   \n\n        Date     Season            Type  \n0 2021-02-17  2020-2021  regular season  \n4 2021-02-27  2020-2021  regular season  \n5 2021-03-01  2020-2021  regular season  \n1 2021-03-07  2020-2021  regular season  \n2 2021-04-06  2020-2021  regular season  \n3 2021-04-08  2020-2021  regular season  \n6 2021-04-22  2020-2021  regular season  \n7 2021-04-24  2020-2021  regular season  ",
      "text/html": "<div>\n<style scoped>\n    .dataframe tbody tr th:only-of-type {\n        vertical-align: middle;\n    }\n\n    .dataframe tbody tr th {\n        vertical-align: top;\n    }\n\n    .dataframe thead th {\n        text-align: right;\n    }\n</style>\n<table border=\"1\" class=\"dataframe\">\n  <thead>\n    <tr style=\"text-align: right;\">\n      <th></th>\n      <th>Team</th>\n      <th>Opponent</th>\n      <th>Goals</th>\n      <th>GA</th>\n      <th>Home</th>\n      <th>Overtime</th>\n      <th>Date</th>\n      <th>Season</th>\n      <th>Type</th>\n    </tr>\n  </thead>\n  <tbody>\n    <tr>\n      <th>0</th>\n      <td>Carolina Hurricanes</td>\n      <td>Florida Panthers</td>\n      <td>3</td>\n      <td>4</td>\n      <td>True</td>\n      <td>OT</td>\n      <td>2021-02-17</td>\n      <td>2020-2021</td>\n      <td>regular season</td>\n    </tr>\n    <tr>\n      <th>4</th>\n      <td>Carolina Hurricanes</td>\n      <td>Florida Panthers</td>\n      <td>4</td>\n      <td>3</td>\n      <td>False</td>\n      <td>SO</td>\n      <td>2021-02-27</td>\n      <td>2020-2021</td>\n      <td>regular season</td>\n    </tr>\n    <tr>\n      <th>5</th>\n      <td>Carolina Hurricanes</td>\n      <td>Florida Panthers</td>\n      <td>3</td>\n      <td>2</td>\n      <td>False</td>\n      <td>OT</td>\n      <td>2021-03-01</td>\n      <td>2020-2021</td>\n      <td>regular season</td>\n    </tr>\n    <tr>\n      <th>1</th>\n      <td>Carolina Hurricanes</td>\n      <td>Florida Panthers</td>\n      <td>4</td>\n      <td>2</td>\n      <td>True</td>\n      <td>NaN</td>\n      <td>2021-03-07</td>\n      <td>2020-2021</td>\n      <td>regular season</td>\n    </tr>\n    <tr>\n      <th>2</th>\n      <td>Carolina Hurricanes</td>\n      <td>Florida Panthers</td>\n      <td>5</td>\n      <td>2</td>\n      <td>True</td>\n      <td>NaN</td>\n      <td>2021-04-06</td>\n      <td>2020-2021</td>\n      <td>regular season</td>\n    </tr>\n    <tr>\n      <th>3</th>\n      <td>Carolina Hurricanes</td>\n      <td>Florida Panthers</td>\n      <td>3</td>\n      <td>0</td>\n      <td>True</td>\n      <td>NaN</td>\n      <td>2021-04-08</td>\n      <td>2020-2021</td>\n      <td>regular season</td>\n    </tr>\n    <tr>\n      <th>6</th>\n      <td>Carolina Hurricanes</td>\n      <td>Florida Panthers</td>\n      <td>4</td>\n      <td>2</td>\n      <td>False</td>\n      <td>NaN</td>\n      <td>2021-04-22</td>\n      <td>2020-2021</td>\n      <td>regular season</td>\n    </tr>\n    <tr>\n      <th>7</th>\n      <td>Carolina Hurricanes</td>\n      <td>Florida Panthers</td>\n      <td>3</td>\n      <td>4</td>\n      <td>False</td>\n      <td>OT</td>\n      <td>2021-04-24</td>\n      <td>2020-2021</td>\n      <td>regular season</td>\n    </tr>\n  </tbody>\n</table>\n</div>"
     },
     "metadata": {}
    },
    {
     "output_type": "stream",
     "name": "stdout",
     "text": [
      "\nRecord: 6-0-2\nHome Record: 3-0-1\nAway Record: 3-0-1\n\nRecord: 2-4-2\nHome Record: 1-1-2\nAway Record: 1-3-0\n"
     ]
    }
   ],
   "source": [
    "team1 = 'Las Vegas Golden Knights'\n",
    "team2 = 'Florida Panthers'\n",
    "prematch_stats(scores, team1, team2, True)\n",
    "print()\n",
    "prematch_stats(scores, team2, team1)"
   ]
  },
  {
   "cell_type": "code",
   "execution_count": null,
   "metadata": {},
   "outputs": [],
   "source": []
  }
 ]
}