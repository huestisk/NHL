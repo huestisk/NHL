{
 "cells": [
  {
   "cell_type": "code",
   "execution_count": 1,
   "metadata": {},
   "outputs": [],
   "source": [
    "from utils import Scraper, Scores\n",
    "\n",
    "INCLUDE_PLAYOFFS = False\n",
    "SEASON = 2022\n",
    "\n",
    "scraper = Scraper()"
   ]
  },
  {
   "cell_type": "code",
   "execution_count": 2,
   "metadata": {},
   "outputs": [],
   "source": [
    "df_scores = scraper.scrape_scores_by_season(SEASON, playoffs=INCLUDE_PLAYOFFS)"
   ]
  },
  {
   "cell_type": "code",
   "execution_count": 3,
   "metadata": {},
   "outputs": [
    {
     "name": "stderr",
     "output_type": "stream",
     "text": [
      "/Users/kevinhuestis/Development/NHL/utils/scores.py:10: UserWarning: Pandas doesn't allow columns to be created via a new attribute name - see https://pandas.pydata.org/pandas-docs/stable/indexing.html#attribute-access\n",
      "  self.teams = set(self['Home']).union(set(self['Visitor']))\n"
     ]
    },
    {
     "data": {
      "text/html": [
       "<div>\n",
       "<style scoped>\n",
       "    .dataframe tbody tr th:only-of-type {\n",
       "        vertical-align: middle;\n",
       "    }\n",
       "\n",
       "    .dataframe tbody tr th {\n",
       "        vertical-align: top;\n",
       "    }\n",
       "\n",
       "    .dataframe thead th {\n",
       "        text-align: right;\n",
       "    }\n",
       "</style>\n",
       "<table border=\"1\" class=\"dataframe\">\n",
       "  <thead>\n",
       "    <tr style=\"text-align: right;\">\n",
       "      <th></th>\n",
       "      <th>Team</th>\n",
       "      <th>Games</th>\n",
       "      <th>Wins</th>\n",
       "      <th>Losses</th>\n",
       "      <th>OT Losses</th>\n",
       "      <th>Points</th>\n",
       "      <th>P%</th>\n",
       "      <th>OT Wins</th>\n",
       "      <th>Reg Win</th>\n",
       "    </tr>\n",
       "  </thead>\n",
       "  <tbody>\n",
       "    <tr>\n",
       "      <th>17</th>\n",
       "      <td>Florida Panthers</td>\n",
       "      <td>82</td>\n",
       "      <td>58</td>\n",
       "      <td>16</td>\n",
       "      <td>8</td>\n",
       "      <td>124</td>\n",
       "      <td>1.5122</td>\n",
       "      <td>14</td>\n",
       "      <td>44</td>\n",
       "    </tr>\n",
       "    <tr>\n",
       "      <th>10</th>\n",
       "      <td>Colorado Avalanche</td>\n",
       "      <td>82</td>\n",
       "      <td>56</td>\n",
       "      <td>18</td>\n",
       "      <td>8</td>\n",
       "      <td>120</td>\n",
       "      <td>1.4634</td>\n",
       "      <td>14</td>\n",
       "      <td>42</td>\n",
       "    </tr>\n",
       "    <tr>\n",
       "      <th>20</th>\n",
       "      <td>Toronto Maple Leafs</td>\n",
       "      <td>82</td>\n",
       "      <td>54</td>\n",
       "      <td>20</td>\n",
       "      <td>8</td>\n",
       "      <td>116</td>\n",
       "      <td>1.4146</td>\n",
       "      <td>14</td>\n",
       "      <td>40</td>\n",
       "    </tr>\n",
       "    <tr>\n",
       "      <th>27</th>\n",
       "      <td>Carolina Hurricanes</td>\n",
       "      <td>82</td>\n",
       "      <td>54</td>\n",
       "      <td>20</td>\n",
       "      <td>8</td>\n",
       "      <td>116</td>\n",
       "      <td>1.4146</td>\n",
       "      <td>14</td>\n",
       "      <td>40</td>\n",
       "    </tr>\n",
       "    <tr>\n",
       "      <th>11</th>\n",
       "      <td>Minnesota Wild</td>\n",
       "      <td>82</td>\n",
       "      <td>53</td>\n",
       "      <td>21</td>\n",
       "      <td>8</td>\n",
       "      <td>114</td>\n",
       "      <td>1.3902</td>\n",
       "      <td>14</td>\n",
       "      <td>39</td>\n",
       "    </tr>\n",
       "  </tbody>\n",
       "</table>\n",
       "</div>"
      ],
      "text/plain": [
       "                   Team  Games  Wins  Losses  OT Losses  Points      P%  \\\n",
       "17     Florida Panthers     82    58      16          8     124  1.5122   \n",
       "10   Colorado Avalanche     82    56      18          8     120  1.4634   \n",
       "20  Toronto Maple Leafs     82    54      20          8     116  1.4146   \n",
       "27  Carolina Hurricanes     82    54      20          8     116  1.4146   \n",
       "11       Minnesota Wild     82    53      21          8     114  1.3902   \n",
       "\n",
       "    OT Wins  Reg Win  \n",
       "17       14       44  \n",
       "10       14       42  \n",
       "20       14       40  \n",
       "27       14       40  \n",
       "11       14       39  "
      ]
     },
     "execution_count": 3,
     "metadata": {},
     "output_type": "execute_result"
    }
   ],
   "source": [
    "scores = Scores(df_scores, SEASON)\n",
    "standings = scores.get_standings()\n",
    "standings.head()"
   ]
  },
  {
   "cell_type": "code",
   "execution_count": 5,
   "metadata": {},
   "outputs": [
    {
     "data": {
      "text/plain": [
       "{'Team': 'Florida Panthers',\n",
       " 'Games': 4,\n",
       " 'Wins': 2,\n",
       " 'Losses': 2,\n",
       " 'OT Losses': 0,\n",
       " 'Points': 4,\n",
       " 'P%': 1.0,\n",
       " 'OT Wins': 0,\n",
       " 'Reg Win': 2}"
      ]
     },
     "execution_count": 5,
     "metadata": {},
     "output_type": "execute_result"
    }
   ],
   "source": [
    "scores.get_record(\"Florida Panthers\", \"Tampa Bay Lightning\")"
   ]
  }
 ],
 "metadata": {
  "interpreter": {
   "hash": "cfa33fc82fb70b5f27a2b04622bcfa06deb1108d69c0742c12a024eeb1d8ae3e"
  },
  "kernelspec": {
   "display_name": "Python 3.8.3 64-bit ('base': conda)",
   "language": "python",
   "name": "python3"
  },
  "language_info": {
   "codemirror_mode": {
    "name": "ipython",
    "version": 3
   },
   "file_extension": ".py",
   "mimetype": "text/x-python",
   "name": "python",
   "nbconvert_exporter": "python",
   "pygments_lexer": "ipython3",
   "version": "3.9.4"
  },
  "orig_nbformat": 2
 },
 "nbformat": 4,
 "nbformat_minor": 2
}
