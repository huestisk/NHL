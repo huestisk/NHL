{
 "cells": [
  {
   "cell_type": "markdown",
   "metadata": {},
   "source": [
    "# Analysis of the NHL"
   ]
  },
  {
   "cell_type": "code",
   "execution_count": null,
   "metadata": {},
   "outputs": [],
   "source": [
    "from utils import Database, Scraper, Scores\n",
    "\n",
    "INCLUDE_PLAYOFFS = False\n",
    "SEASON = 2022"
   ]
  },
  {
   "cell_type": "markdown",
   "metadata": {},
   "source": [
    "### Connect to PostgreSQL"
   ]
  },
  {
   "cell_type": "code",
   "execution_count": null,
   "metadata": {},
   "outputs": [],
   "source": [
    "database = Database('config.yaml')"
   ]
  },
  {
   "cell_type": "markdown",
   "metadata": {},
   "source": [
    "### Scrape Data"
   ]
  },
  {
   "cell_type": "code",
   "execution_count": null,
   "metadata": {},
   "outputs": [],
   "source": [
    "# scraper = Scraper()\n",
    "\n",
    "# df_scores = scraper.scrape_scores_by_season(SEASON, playoffs=INCLUDE_PLAYOFFS)\n",
    "# database.upload_pd(df_scores, 'Scores')\n",
    "\n",
    "# scores = Scores(df_scores, SEASON)\n",
    "# standings = scores.get_standings()\n",
    "# standings[:10]"
   ]
  },
  {
   "cell_type": "markdown",
   "metadata": {},
   "source": [
    "### Load from Database"
   ]
  },
  {
   "cell_type": "code",
   "execution_count": null,
   "metadata": {},
   "outputs": [],
   "source": [
    "df_scores = database.load_table('Scores')\n",
    "df_standings = database.load_table('Standings')"
   ]
  },
  {
   "cell_type": "code",
   "execution_count": null,
   "metadata": {},
   "outputs": [],
   "source": [
    "scores = Scores(df_scores, SEASON)\n",
    "scores.get_record(\"Calgary Flames\", \"Edmonton Oilers\")"
   ]
  },
  {
   "cell_type": "code",
   "execution_count": null,
   "metadata": {},
   "outputs": [],
   "source": [
    "df_playoffs = scraper.scrape_scores_by_season(2017, playoffs=True, season=False)\n",
    "goals_per_series = (sum(df_playoffs['Goals Visitor']) + sum(df_playoffs['Goals Home'])) / 15\n",
    "print(goals_per_series)"
   ]
  }
 ],
 "metadata": {
  "interpreter": {
   "hash": "cfa33fc82fb70b5f27a2b04622bcfa06deb1108d69c0742c12a024eeb1d8ae3e"
  },
  "kernelspec": {
   "display_name": "Python 3.8.3 64-bit ('base': conda)",
   "language": "python",
   "name": "python3"
  },
  "language_info": {
   "codemirror_mode": {
    "name": "ipython",
    "version": 3
   },
   "file_extension": ".py",
   "mimetype": "text/x-python",
   "name": "python",
   "nbconvert_exporter": "python",
   "pygments_lexer": "ipython3",
   "version": "3.9.4"
  },
  "orig_nbformat": 2
 },
 "nbformat": 4,
 "nbformat_minor": 2
}
