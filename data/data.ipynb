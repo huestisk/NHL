{
 "metadata": {
  "language_info": {
   "codemirror_mode": {
    "name": "ipython",
    "version": 3
   },
   "file_extension": ".py",
   "mimetype": "text/x-python",
   "name": "python",
   "nbconvert_exporter": "python",
   "pygments_lexer": "ipython3",
   "version": "3.6.13"
  },
  "orig_nbformat": 2,
  "kernelspec": {
   "name": "python3613jvsc74a57bd0d512da359fb9f6a61af3025fc8617ce36d4feb904e9170f7907c75b8a45d11f6",
   "display_name": "Python 3.6.13 64-bit ('nhlEnv': conda)"
  }
 },
 "nbformat": 4,
 "nbformat_minor": 2,
 "cells": [
  {
   "source": [
    "# Merge & Convert Data"
   ],
   "cell_type": "markdown",
   "metadata": {}
  },
  {
   "cell_type": "code",
   "execution_count": 1,
   "metadata": {},
   "outputs": [],
   "source": [
    "import os\n",
    "import pandas as pd\n",
    "import numpy as np"
   ]
  },
  {
   "source": [
    "## Game scores (regular season and playoffs):\n",
    "source: https://www.hockey-reference.com/leagues/NHL_2019_games.html"
   ],
   "cell_type": "markdown",
   "metadata": {}
  },
  {
   "cell_type": "code",
   "execution_count": 2,
   "metadata": {},
   "outputs": [],
   "source": [
    "dfs = []\n",
    "for f in os.listdir():\n",
    "    if f.endswith('.csv') and f.startswith('scores'):\n",
    "        name = f[:-4].split('_')\n",
    "        season = '20' + name[1] + '-20' + name[2]\n",
    "        category = name[3] + ' ' + name[4] if len(name) > 4 else name[3]\n",
    "        tmp_df = pd.read_csv(f)\n",
    "        tmp_df['Season'] = season\n",
    "        tmp_df['Type'] = category\n",
    "        dfs.append(tmp_df)\n",
    "scores = pd.concat(dfs)"
   ]
  },
  {
   "cell_type": "code",
   "execution_count": 3,
   "metadata": {},
   "outputs": [
    {
     "output_type": "stream",
     "name": "stdout",
     "text": [
      "['2018-2019' '2020-2021' '2019-2020']\n"
     ]
    }
   ],
   "source": [
    "print(scores['Season'].unique())"
   ]
  },
  {
   "cell_type": "code",
   "execution_count": 4,
   "metadata": {},
   "outputs": [
    {
     "output_type": "execute_result",
     "data": {
      "text/plain": [
       "         Date                Visitor    G                 Home  G.1  \\\n",
       "0  2019-04-10    Pittsburgh Penguins  3.0   New York Islanders  4.0   \n",
       "1  2019-04-10           Dallas Stars  3.0  Nashville Predators  2.0   \n",
       "2  2019-04-10        St. Louis Blues  2.0        Winnipeg Jets  1.0   \n",
       "3  2019-04-10   Vegas Golden Knights  2.0      San Jose Sharks  5.0   \n",
       "4  2019-04-10  Columbus Blue Jackets  4.0  Tampa Bay Lightning  3.0   \n",
       "\n",
       "  Unnamed: 5     Att.   LOG  \\\n",
       "0         OT  13917.0  3:06   \n",
       "1        NaN  17458.0  2:30   \n",
       "2        NaN  15321.0  2:31   \n",
       "3        NaN  17562.0  2:39   \n",
       "4        NaN  19092.0  2:28   \n",
       "\n",
       "                                               Notes     Season      Type  \n",
       "0  at Nassau Veterans Memorial Coliseum (Uniondal...  2018-2019  playoffs  \n",
       "1                                                NaN  2018-2019  playoffs  \n",
       "2                                                NaN  2018-2019  playoffs  \n",
       "3                                                NaN  2018-2019  playoffs  \n",
       "4                                                NaN  2018-2019  playoffs  "
      ],
      "text/html": "<div>\n<style scoped>\n    .dataframe tbody tr th:only-of-type {\n        vertical-align: middle;\n    }\n\n    .dataframe tbody tr th {\n        vertical-align: top;\n    }\n\n    .dataframe thead th {\n        text-align: right;\n    }\n</style>\n<table border=\"1\" class=\"dataframe\">\n  <thead>\n    <tr style=\"text-align: right;\">\n      <th></th>\n      <th>Date</th>\n      <th>Visitor</th>\n      <th>G</th>\n      <th>Home</th>\n      <th>G.1</th>\n      <th>Unnamed: 5</th>\n      <th>Att.</th>\n      <th>LOG</th>\n      <th>Notes</th>\n      <th>Season</th>\n      <th>Type</th>\n    </tr>\n  </thead>\n  <tbody>\n    <tr>\n      <th>0</th>\n      <td>2019-04-10</td>\n      <td>Pittsburgh Penguins</td>\n      <td>3.0</td>\n      <td>New York Islanders</td>\n      <td>4.0</td>\n      <td>OT</td>\n      <td>13917.0</td>\n      <td>3:06</td>\n      <td>at Nassau Veterans Memorial Coliseum (Uniondal...</td>\n      <td>2018-2019</td>\n      <td>playoffs</td>\n    </tr>\n    <tr>\n      <th>1</th>\n      <td>2019-04-10</td>\n      <td>Dallas Stars</td>\n      <td>3.0</td>\n      <td>Nashville Predators</td>\n      <td>2.0</td>\n      <td>NaN</td>\n      <td>17458.0</td>\n      <td>2:30</td>\n      <td>NaN</td>\n      <td>2018-2019</td>\n      <td>playoffs</td>\n    </tr>\n    <tr>\n      <th>2</th>\n      <td>2019-04-10</td>\n      <td>St. Louis Blues</td>\n      <td>2.0</td>\n      <td>Winnipeg Jets</td>\n      <td>1.0</td>\n      <td>NaN</td>\n      <td>15321.0</td>\n      <td>2:31</td>\n      <td>NaN</td>\n      <td>2018-2019</td>\n      <td>playoffs</td>\n    </tr>\n    <tr>\n      <th>3</th>\n      <td>2019-04-10</td>\n      <td>Vegas Golden Knights</td>\n      <td>2.0</td>\n      <td>San Jose Sharks</td>\n      <td>5.0</td>\n      <td>NaN</td>\n      <td>17562.0</td>\n      <td>2:39</td>\n      <td>NaN</td>\n      <td>2018-2019</td>\n      <td>playoffs</td>\n    </tr>\n    <tr>\n      <th>4</th>\n      <td>2019-04-10</td>\n      <td>Columbus Blue Jackets</td>\n      <td>4.0</td>\n      <td>Tampa Bay Lightning</td>\n      <td>3.0</td>\n      <td>NaN</td>\n      <td>19092.0</td>\n      <td>2:28</td>\n      <td>NaN</td>\n      <td>2018-2019</td>\n      <td>playoffs</td>\n    </tr>\n  </tbody>\n</table>\n</div>"
     },
     "metadata": {},
     "execution_count": 4
    }
   ],
   "source": [
    "scores.head()"
   ]
  },
  {
   "source": [
    "Let's change some of the column names.<br>\n",
    "  * Goals should be clear\n",
    "  * Unnamed shows Overtime\n",
    "  * Att. stands for Attendence\n",
    "  * LOG stands for Length of Game"
   ],
   "cell_type": "markdown",
   "metadata": {}
  },
  {
   "cell_type": "code",
   "execution_count": 5,
   "metadata": {},
   "outputs": [],
   "source": [
    "scores = scores.rename(columns={'G':'Visitor Goals', 'G.1':'Home Goals', 'Unnamed: 5':'Overtime', 'Att.':'Attendance', 'LOG':'Length'}, inplace=False)"
   ]
  },
  {
   "source": [
    "Let's remove the data for the games that haven't been played yet."
   ],
   "cell_type": "markdown",
   "metadata": {}
  },
  {
   "cell_type": "code",
   "execution_count": 6,
   "metadata": {},
   "outputs": [
    {
     "output_type": "execute_result",
     "data": {
      "text/plain": [
       "           Date                Visitor  Visitor Goals                Home  \\\n",
       "692  2021-04-20          Boston Bruins            NaN      Buffalo Sabres   \n",
       "693  2021-04-20      Detroit Red Wings            NaN        Dallas Stars   \n",
       "694  2021-04-20  Columbus Blue Jackets            NaN    Florida Panthers   \n",
       "695  2021-04-20          Anaheim Ducks            NaN   Los Angeles Kings   \n",
       "696  2021-04-20       New York Rangers            NaN  New York Islanders   \n",
       "..          ...                    ...            ...                 ...   \n",
       "860  2021-05-14    Toronto Maple Leafs            NaN       Winnipeg Jets   \n",
       "861  2021-05-15      Vancouver Canucks            NaN     Edmonton Oilers   \n",
       "862  2021-05-16         Calgary Flames            NaN   Vancouver Canucks   \n",
       "863  2021-05-18         Calgary Flames            NaN   Vancouver Canucks   \n",
       "864  2021-05-19      Vancouver Canucks            NaN      Calgary Flames   \n",
       "\n",
       "     Home Goals Overtime  Attendance Length  \\\n",
       "692         NaN      NaN         NaN    NaN   \n",
       "693         NaN      NaN         NaN    NaN   \n",
       "694         NaN      NaN         NaN    NaN   \n",
       "695         NaN      NaN         NaN    NaN   \n",
       "696         NaN      NaN         NaN    NaN   \n",
       "..          ...      ...         ...    ...   \n",
       "860         NaN      NaN         NaN    NaN   \n",
       "861         NaN      NaN         NaN    NaN   \n",
       "862         NaN      NaN         NaN    NaN   \n",
       "863         NaN      NaN         NaN    NaN   \n",
       "864         NaN      NaN         NaN    NaN   \n",
       "\n",
       "                                                 Notes     Season  \\\n",
       "692                                                NaN  2020-2021   \n",
       "693                                                NaN  2020-2021   \n",
       "694                                                NaN  2020-2021   \n",
       "695                                                NaN  2020-2021   \n",
       "696  at Nassau Veterans Memorial Coliseum (Uniondal...  2020-2021   \n",
       "..                                                 ...        ...   \n",
       "860                                                NaN  2020-2021   \n",
       "861                                                NaN  2020-2021   \n",
       "862                                                NaN  2020-2021   \n",
       "863                                                NaN  2020-2021   \n",
       "864                                                NaN  2020-2021   \n",
       "\n",
       "               Type  \n",
       "692  regular season  \n",
       "693  regular season  \n",
       "694  regular season  \n",
       "695  regular season  \n",
       "696  regular season  \n",
       "..              ...  \n",
       "860  regular season  \n",
       "861  regular season  \n",
       "862  regular season  \n",
       "863  regular season  \n",
       "864  regular season  \n",
       "\n",
       "[173 rows x 11 columns]"
      ],
      "text/html": "<div>\n<style scoped>\n    .dataframe tbody tr th:only-of-type {\n        vertical-align: middle;\n    }\n\n    .dataframe tbody tr th {\n        vertical-align: top;\n    }\n\n    .dataframe thead th {\n        text-align: right;\n    }\n</style>\n<table border=\"1\" class=\"dataframe\">\n  <thead>\n    <tr style=\"text-align: right;\">\n      <th></th>\n      <th>Date</th>\n      <th>Visitor</th>\n      <th>Visitor Goals</th>\n      <th>Home</th>\n      <th>Home Goals</th>\n      <th>Overtime</th>\n      <th>Attendance</th>\n      <th>Length</th>\n      <th>Notes</th>\n      <th>Season</th>\n      <th>Type</th>\n    </tr>\n  </thead>\n  <tbody>\n    <tr>\n      <th>692</th>\n      <td>2021-04-20</td>\n      <td>Boston Bruins</td>\n      <td>NaN</td>\n      <td>Buffalo Sabres</td>\n      <td>NaN</td>\n      <td>NaN</td>\n      <td>NaN</td>\n      <td>NaN</td>\n      <td>NaN</td>\n      <td>2020-2021</td>\n      <td>regular season</td>\n    </tr>\n    <tr>\n      <th>693</th>\n      <td>2021-04-20</td>\n      <td>Detroit Red Wings</td>\n      <td>NaN</td>\n      <td>Dallas Stars</td>\n      <td>NaN</td>\n      <td>NaN</td>\n      <td>NaN</td>\n      <td>NaN</td>\n      <td>NaN</td>\n      <td>2020-2021</td>\n      <td>regular season</td>\n    </tr>\n    <tr>\n      <th>694</th>\n      <td>2021-04-20</td>\n      <td>Columbus Blue Jackets</td>\n      <td>NaN</td>\n      <td>Florida Panthers</td>\n      <td>NaN</td>\n      <td>NaN</td>\n      <td>NaN</td>\n      <td>NaN</td>\n      <td>NaN</td>\n      <td>2020-2021</td>\n      <td>regular season</td>\n    </tr>\n    <tr>\n      <th>695</th>\n      <td>2021-04-20</td>\n      <td>Anaheim Ducks</td>\n      <td>NaN</td>\n      <td>Los Angeles Kings</td>\n      <td>NaN</td>\n      <td>NaN</td>\n      <td>NaN</td>\n      <td>NaN</td>\n      <td>NaN</td>\n      <td>2020-2021</td>\n      <td>regular season</td>\n    </tr>\n    <tr>\n      <th>696</th>\n      <td>2021-04-20</td>\n      <td>New York Rangers</td>\n      <td>NaN</td>\n      <td>New York Islanders</td>\n      <td>NaN</td>\n      <td>NaN</td>\n      <td>NaN</td>\n      <td>NaN</td>\n      <td>at Nassau Veterans Memorial Coliseum (Uniondal...</td>\n      <td>2020-2021</td>\n      <td>regular season</td>\n    </tr>\n    <tr>\n      <th>...</th>\n      <td>...</td>\n      <td>...</td>\n      <td>...</td>\n      <td>...</td>\n      <td>...</td>\n      <td>...</td>\n      <td>...</td>\n      <td>...</td>\n      <td>...</td>\n      <td>...</td>\n      <td>...</td>\n    </tr>\n    <tr>\n      <th>860</th>\n      <td>2021-05-14</td>\n      <td>Toronto Maple Leafs</td>\n      <td>NaN</td>\n      <td>Winnipeg Jets</td>\n      <td>NaN</td>\n      <td>NaN</td>\n      <td>NaN</td>\n      <td>NaN</td>\n      <td>NaN</td>\n      <td>2020-2021</td>\n      <td>regular season</td>\n    </tr>\n    <tr>\n      <th>861</th>\n      <td>2021-05-15</td>\n      <td>Vancouver Canucks</td>\n      <td>NaN</td>\n      <td>Edmonton Oilers</td>\n      <td>NaN</td>\n      <td>NaN</td>\n      <td>NaN</td>\n      <td>NaN</td>\n      <td>NaN</td>\n      <td>2020-2021</td>\n      <td>regular season</td>\n    </tr>\n    <tr>\n      <th>862</th>\n      <td>2021-05-16</td>\n      <td>Calgary Flames</td>\n      <td>NaN</td>\n      <td>Vancouver Canucks</td>\n      <td>NaN</td>\n      <td>NaN</td>\n      <td>NaN</td>\n      <td>NaN</td>\n      <td>NaN</td>\n      <td>2020-2021</td>\n      <td>regular season</td>\n    </tr>\n    <tr>\n      <th>863</th>\n      <td>2021-05-18</td>\n      <td>Calgary Flames</td>\n      <td>NaN</td>\n      <td>Vancouver Canucks</td>\n      <td>NaN</td>\n      <td>NaN</td>\n      <td>NaN</td>\n      <td>NaN</td>\n      <td>NaN</td>\n      <td>2020-2021</td>\n      <td>regular season</td>\n    </tr>\n    <tr>\n      <th>864</th>\n      <td>2021-05-19</td>\n      <td>Vancouver Canucks</td>\n      <td>NaN</td>\n      <td>Calgary Flames</td>\n      <td>NaN</td>\n      <td>NaN</td>\n      <td>NaN</td>\n      <td>NaN</td>\n      <td>NaN</td>\n      <td>2020-2021</td>\n      <td>regular season</td>\n    </tr>\n  </tbody>\n</table>\n<p>173 rows × 11 columns</p>\n</div>"
     },
     "metadata": {},
     "execution_count": 6
    }
   ],
   "source": [
    "scores.loc[scores['Visitor Goals'].isnull()]"
   ]
  },
  {
   "cell_type": "code",
   "execution_count": 7,
   "metadata": {},
   "outputs": [],
   "source": [
    "scores = scores.dropna(subset=['Visitor Goals'])\n",
    "scores['Attendance'] = scores['Attendance'].fillna(0)\n",
    "scores['Length'] = scores['Length'].fillna('0:00')"
   ]
  },
  {
   "source": [
    "Any convert the data types, just to clean things up a bit."
   ],
   "cell_type": "markdown",
   "metadata": {}
  },
  {
   "cell_type": "code",
   "execution_count": 8,
   "metadata": {},
   "outputs": [
    {
     "output_type": "execute_result",
     "data": {
      "text/plain": [
       "Date              object\n",
       "Visitor           object\n",
       "Visitor Goals    float64\n",
       "Home              object\n",
       "Home Goals       float64\n",
       "Overtime          object\n",
       "Attendance       float64\n",
       "Length            object\n",
       "Notes             object\n",
       "Season            object\n",
       "Type              object\n",
       "dtype: object"
      ]
     },
     "metadata": {},
     "execution_count": 8
    }
   ],
   "source": [
    "scores.dtypes"
   ]
  },
  {
   "cell_type": "code",
   "execution_count": 9,
   "metadata": {},
   "outputs": [
    {
     "output_type": "execute_result",
     "data": {
      "text/plain": [
       "Date             26096\n",
       "Visitor          26096\n",
       "Visitor Goals    26096\n",
       "Home             26096\n",
       "Home Goals       26096\n",
       "Overtime         26096\n",
       "Attendance       26096\n",
       "Length           26096\n",
       "Notes            26096\n",
       "Season           26096\n",
       "Type             26096\n",
       "dtype: int64"
      ]
     },
     "metadata": {},
     "execution_count": 9
    }
   ],
   "source": [
    "scores.memory_usage(index=False)"
   ]
  },
  {
   "cell_type": "code",
   "execution_count": 10,
   "metadata": {},
   "outputs": [],
   "source": [
    "scores['Date'] = scores['Date'].astype('datetime64')\n",
    "scores['Visitor'] = scores['Visitor'].astype('category')\n",
    "scores['Visitor Goals'] = scores['Visitor Goals'].astype('int64')\n",
    "scores['Home'] = scores['Home'].astype('category')\n",
    "scores['Home Goals'] = scores['Home Goals'].astype('int64')\n",
    "scores['Overtime'] = scores['Overtime'].astype('category')\n",
    "scores['Attendance'] = scores['Attendance'].astype('int64')\n",
    "scores['Length'] = pd.to_timedelta((scores['Length'].str.split(':', expand=True).astype(int) * (60, 1)).sum(axis=1), unit='min')\n",
    "scores['Season'] = scores['Season'].astype('category')\n",
    "scores['Type'] = scores['Type'].astype('category')"
   ]
  },
  {
   "cell_type": "code",
   "execution_count": 11,
   "metadata": {},
   "outputs": [
    {
     "output_type": "execute_result",
     "data": {
      "text/plain": [
       "        Date                Visitor  Visitor Goals                 Home  \\\n",
       "0 2019-04-10    Pittsburgh Penguins              3   New York Islanders   \n",
       "1 2019-04-10           Dallas Stars              3  Nashville Predators   \n",
       "2 2019-04-10        St. Louis Blues              2        Winnipeg Jets   \n",
       "3 2019-04-10   Vegas Golden Knights              2      San Jose Sharks   \n",
       "4 2019-04-10  Columbus Blue Jackets              4  Tampa Bay Lightning   \n",
       "\n",
       "   Home Goals Overtime  Attendance          Length  \\\n",
       "0           4       OT       13917 0 days 03:06:00   \n",
       "1           2      NaN       17458 0 days 02:30:00   \n",
       "2           1      NaN       15321 0 days 02:31:00   \n",
       "3           5      NaN       17562 0 days 02:39:00   \n",
       "4           3      NaN       19092 0 days 02:28:00   \n",
       "\n",
       "                                               Notes     Season      Type  \n",
       "0  at Nassau Veterans Memorial Coliseum (Uniondal...  2018-2019  playoffs  \n",
       "1                                                NaN  2018-2019  playoffs  \n",
       "2                                                NaN  2018-2019  playoffs  \n",
       "3                                                NaN  2018-2019  playoffs  \n",
       "4                                                NaN  2018-2019  playoffs  "
      ],
      "text/html": "<div>\n<style scoped>\n    .dataframe tbody tr th:only-of-type {\n        vertical-align: middle;\n    }\n\n    .dataframe tbody tr th {\n        vertical-align: top;\n    }\n\n    .dataframe thead th {\n        text-align: right;\n    }\n</style>\n<table border=\"1\" class=\"dataframe\">\n  <thead>\n    <tr style=\"text-align: right;\">\n      <th></th>\n      <th>Date</th>\n      <th>Visitor</th>\n      <th>Visitor Goals</th>\n      <th>Home</th>\n      <th>Home Goals</th>\n      <th>Overtime</th>\n      <th>Attendance</th>\n      <th>Length</th>\n      <th>Notes</th>\n      <th>Season</th>\n      <th>Type</th>\n    </tr>\n  </thead>\n  <tbody>\n    <tr>\n      <th>0</th>\n      <td>2019-04-10</td>\n      <td>Pittsburgh Penguins</td>\n      <td>3</td>\n      <td>New York Islanders</td>\n      <td>4</td>\n      <td>OT</td>\n      <td>13917</td>\n      <td>0 days 03:06:00</td>\n      <td>at Nassau Veterans Memorial Coliseum (Uniondal...</td>\n      <td>2018-2019</td>\n      <td>playoffs</td>\n    </tr>\n    <tr>\n      <th>1</th>\n      <td>2019-04-10</td>\n      <td>Dallas Stars</td>\n      <td>3</td>\n      <td>Nashville Predators</td>\n      <td>2</td>\n      <td>NaN</td>\n      <td>17458</td>\n      <td>0 days 02:30:00</td>\n      <td>NaN</td>\n      <td>2018-2019</td>\n      <td>playoffs</td>\n    </tr>\n    <tr>\n      <th>2</th>\n      <td>2019-04-10</td>\n      <td>St. Louis Blues</td>\n      <td>2</td>\n      <td>Winnipeg Jets</td>\n      <td>1</td>\n      <td>NaN</td>\n      <td>15321</td>\n      <td>0 days 02:31:00</td>\n      <td>NaN</td>\n      <td>2018-2019</td>\n      <td>playoffs</td>\n    </tr>\n    <tr>\n      <th>3</th>\n      <td>2019-04-10</td>\n      <td>Vegas Golden Knights</td>\n      <td>2</td>\n      <td>San Jose Sharks</td>\n      <td>5</td>\n      <td>NaN</td>\n      <td>17562</td>\n      <td>0 days 02:39:00</td>\n      <td>NaN</td>\n      <td>2018-2019</td>\n      <td>playoffs</td>\n    </tr>\n    <tr>\n      <th>4</th>\n      <td>2019-04-10</td>\n      <td>Columbus Blue Jackets</td>\n      <td>4</td>\n      <td>Tampa Bay Lightning</td>\n      <td>3</td>\n      <td>NaN</td>\n      <td>19092</td>\n      <td>0 days 02:28:00</td>\n      <td>NaN</td>\n      <td>2018-2019</td>\n      <td>playoffs</td>\n    </tr>\n  </tbody>\n</table>\n</div>"
     },
     "metadata": {},
     "execution_count": 11
    }
   ],
   "source": [
    "scores.head()"
   ]
  },
  {
   "source": [
    "Let's save the data for now."
   ],
   "cell_type": "markdown",
   "metadata": {}
  },
  {
   "cell_type": "code",
   "execution_count": 12,
   "metadata": {},
   "outputs": [],
   "source": [
    "scores.to_pickle('scores.pkl')"
   ]
  },
  {
   "source": [
    "## Convert to Standings\n",
    "Let's get a feel for the data by creating Standings"
   ],
   "cell_type": "markdown",
   "metadata": {}
  },
  {
   "cell_type": "code",
   "execution_count": 13,
   "metadata": {},
   "outputs": [
    {
     "output_type": "stream",
     "name": "stdout",
     "text": [
      "Season 2018-2019\n"
     ]
    },
    {
     "output_type": "display_data",
     "data": {
      "text/plain": "                     Team  Games  Wins  Losses  OT Losses  Points        P%  \\\n29    Tampa Bay Lightning   82.0  62.0    16.0        4.0   128.0  0.780488   \n3           Boston Bruins   82.0  49.0    24.0        9.0   107.0  0.652439   \n2          Calgary Flames   82.0  50.0    25.0        7.0   107.0  0.652439   \n10    Washington Capitals   82.0  48.0    26.0        8.0   104.0  0.634146   \n4      New York Islanders   82.0  48.0    27.0        7.0   103.0  0.628049   \n14        San Jose Sharks   82.0  46.0    27.0        9.0   101.0  0.615854   \n8     Nashville Predators   82.0  47.0    29.0        6.0   100.0  0.609756   \n21    Toronto Maple Leafs   82.0  46.0    28.0        8.0   100.0  0.609756   \n27    Pittsburgh Penguins   82.0  44.0    26.0       12.0   100.0  0.609756   \n11          Winnipeg Jets   82.0  47.0    30.0        5.0    99.0  0.603659   \n13    Carolina Hurricanes   82.0  46.0    29.0        7.0    99.0  0.603659   \n26        St. Louis Blues   82.0  45.0    28.0        9.0    99.0  0.603659   \n7   Columbus Blue Jackets   82.0  47.0    31.0        4.0    98.0  0.597561   \n1      Montreal Canadiens   82.0  44.0    30.0        8.0    96.0  0.585366   \n17   Vegas Golden Knights   82.0  43.0    32.0        7.0    93.0  0.567073   \n28           Dallas Stars   82.0  43.0    32.0        7.0    93.0  0.567073   \n23     Colorado Avalanche   82.0  38.0    30.0       14.0    90.0  0.548780   \n6         Arizona Coyotes   82.0  39.0    35.0        8.0    86.0  0.524390   \n19       Florida Panthers   82.0  36.0    32.0       14.0    86.0  0.524390   \n9      Chicago Blackhawks   82.0  36.0    34.0       12.0    84.0  0.512195   \n5          Minnesota Wild   82.0  37.0    36.0        9.0    83.0  0.506098   \n12    Philadelphia Flyers   82.0  37.0    37.0        8.0    82.0  0.500000   \n16      Vancouver Canucks   82.0  35.0    36.0       11.0    81.0  0.493902   \n0           Anaheim Ducks   82.0  35.0    37.0       10.0    80.0  0.487805   \n18        Edmonton Oilers   82.0  35.0    38.0        9.0    79.0  0.481707   \n15       New York Rangers   82.0  32.0    36.0       14.0    78.0  0.475610   \n25         Buffalo Sabres   82.0  33.0    39.0       10.0    76.0  0.463415   \n22      Detroit Red Wings   82.0  32.0    40.0       10.0    74.0  0.451220   \n30      New Jersey Devils   82.0  31.0    41.0       10.0    72.0  0.439024   \n24      Los Angeles Kings   82.0  31.0    42.0        9.0    71.0  0.432927   \n20        Ottawa Senators   82.0  29.0    47.0        6.0    64.0  0.390244   \n\n    OT Wins  Reg Win  \n29     13.0     49.0  \n3      11.0     38.0  \n2       5.0     45.0  \n10      9.0     39.0  \n4      11.0     37.0  \n14      8.0     38.0  \n8       9.0     38.0  \n21      6.0     40.0  \n27      7.0     37.0  \n11      9.0     38.0  \n13      7.0     39.0  \n26      9.0     36.0  \n7      10.0     37.0  \n1       7.0     37.0  \n17      7.0     36.0  \n28      7.0     36.0  \n23      5.0     33.0  \n6       9.0     30.0  \n19     10.0     26.0  \n9      12.0     24.0  \n5       4.0     33.0  \n12      9.0     28.0  \n16     13.0     22.0  \n0       8.0     27.0  \n18     11.0     24.0  \n15      9.0     23.0  \n25     12.0     21.0  \n22     12.0     20.0  \n30      7.0     24.0  \n24      9.0     22.0  \n20      6.0     23.0  ",
      "text/html": "<div>\n<style scoped>\n    .dataframe tbody tr th:only-of-type {\n        vertical-align: middle;\n    }\n\n    .dataframe tbody tr th {\n        vertical-align: top;\n    }\n\n    .dataframe thead th {\n        text-align: right;\n    }\n</style>\n<table border=\"1\" class=\"dataframe\">\n  <thead>\n    <tr style=\"text-align: right;\">\n      <th></th>\n      <th>Team</th>\n      <th>Games</th>\n      <th>Wins</th>\n      <th>Losses</th>\n      <th>OT Losses</th>\n      <th>Points</th>\n      <th>P%</th>\n      <th>OT Wins</th>\n      <th>Reg Win</th>\n    </tr>\n  </thead>\n  <tbody>\n    <tr>\n      <th>29</th>\n      <td>Tampa Bay Lightning</td>\n      <td>82.0</td>\n      <td>62.0</td>\n      <td>16.0</td>\n      <td>4.0</td>\n      <td>128.0</td>\n      <td>0.780488</td>\n      <td>13.0</td>\n      <td>49.0</td>\n    </tr>\n    <tr>\n      <th>3</th>\n      <td>Boston Bruins</td>\n      <td>82.0</td>\n      <td>49.0</td>\n      <td>24.0</td>\n      <td>9.0</td>\n      <td>107.0</td>\n      <td>0.652439</td>\n      <td>11.0</td>\n      <td>38.0</td>\n    </tr>\n    <tr>\n      <th>2</th>\n      <td>Calgary Flames</td>\n      <td>82.0</td>\n      <td>50.0</td>\n      <td>25.0</td>\n      <td>7.0</td>\n      <td>107.0</td>\n      <td>0.652439</td>\n      <td>5.0</td>\n      <td>45.0</td>\n    </tr>\n    <tr>\n      <th>10</th>\n      <td>Washington Capitals</td>\n      <td>82.0</td>\n      <td>48.0</td>\n      <td>26.0</td>\n      <td>8.0</td>\n      <td>104.0</td>\n      <td>0.634146</td>\n      <td>9.0</td>\n      <td>39.0</td>\n    </tr>\n    <tr>\n      <th>4</th>\n      <td>New York Islanders</td>\n      <td>82.0</td>\n      <td>48.0</td>\n      <td>27.0</td>\n      <td>7.0</td>\n      <td>103.0</td>\n      <td>0.628049</td>\n      <td>11.0</td>\n      <td>37.0</td>\n    </tr>\n    <tr>\n      <th>14</th>\n      <td>San Jose Sharks</td>\n      <td>82.0</td>\n      <td>46.0</td>\n      <td>27.0</td>\n      <td>9.0</td>\n      <td>101.0</td>\n      <td>0.615854</td>\n      <td>8.0</td>\n      <td>38.0</td>\n    </tr>\n    <tr>\n      <th>8</th>\n      <td>Nashville Predators</td>\n      <td>82.0</td>\n      <td>47.0</td>\n      <td>29.0</td>\n      <td>6.0</td>\n      <td>100.0</td>\n      <td>0.609756</td>\n      <td>9.0</td>\n      <td>38.0</td>\n    </tr>\n    <tr>\n      <th>21</th>\n      <td>Toronto Maple Leafs</td>\n      <td>82.0</td>\n      <td>46.0</td>\n      <td>28.0</td>\n      <td>8.0</td>\n      <td>100.0</td>\n      <td>0.609756</td>\n      <td>6.0</td>\n      <td>40.0</td>\n    </tr>\n    <tr>\n      <th>27</th>\n      <td>Pittsburgh Penguins</td>\n      <td>82.0</td>\n      <td>44.0</td>\n      <td>26.0</td>\n      <td>12.0</td>\n      <td>100.0</td>\n      <td>0.609756</td>\n      <td>7.0</td>\n      <td>37.0</td>\n    </tr>\n    <tr>\n      <th>11</th>\n      <td>Winnipeg Jets</td>\n      <td>82.0</td>\n      <td>47.0</td>\n      <td>30.0</td>\n      <td>5.0</td>\n      <td>99.0</td>\n      <td>0.603659</td>\n      <td>9.0</td>\n      <td>38.0</td>\n    </tr>\n    <tr>\n      <th>13</th>\n      <td>Carolina Hurricanes</td>\n      <td>82.0</td>\n      <td>46.0</td>\n      <td>29.0</td>\n      <td>7.0</td>\n      <td>99.0</td>\n      <td>0.603659</td>\n      <td>7.0</td>\n      <td>39.0</td>\n    </tr>\n    <tr>\n      <th>26</th>\n      <td>St. Louis Blues</td>\n      <td>82.0</td>\n      <td>45.0</td>\n      <td>28.0</td>\n      <td>9.0</td>\n      <td>99.0</td>\n      <td>0.603659</td>\n      <td>9.0</td>\n      <td>36.0</td>\n    </tr>\n    <tr>\n      <th>7</th>\n      <td>Columbus Blue Jackets</td>\n      <td>82.0</td>\n      <td>47.0</td>\n      <td>31.0</td>\n      <td>4.0</td>\n      <td>98.0</td>\n      <td>0.597561</td>\n      <td>10.0</td>\n      <td>37.0</td>\n    </tr>\n    <tr>\n      <th>1</th>\n      <td>Montreal Canadiens</td>\n      <td>82.0</td>\n      <td>44.0</td>\n      <td>30.0</td>\n      <td>8.0</td>\n      <td>96.0</td>\n      <td>0.585366</td>\n      <td>7.0</td>\n      <td>37.0</td>\n    </tr>\n    <tr>\n      <th>17</th>\n      <td>Vegas Golden Knights</td>\n      <td>82.0</td>\n      <td>43.0</td>\n      <td>32.0</td>\n      <td>7.0</td>\n      <td>93.0</td>\n      <td>0.567073</td>\n      <td>7.0</td>\n      <td>36.0</td>\n    </tr>\n    <tr>\n      <th>28</th>\n      <td>Dallas Stars</td>\n      <td>82.0</td>\n      <td>43.0</td>\n      <td>32.0</td>\n      <td>7.0</td>\n      <td>93.0</td>\n      <td>0.567073</td>\n      <td>7.0</td>\n      <td>36.0</td>\n    </tr>\n    <tr>\n      <th>23</th>\n      <td>Colorado Avalanche</td>\n      <td>82.0</td>\n      <td>38.0</td>\n      <td>30.0</td>\n      <td>14.0</td>\n      <td>90.0</td>\n      <td>0.548780</td>\n      <td>5.0</td>\n      <td>33.0</td>\n    </tr>\n    <tr>\n      <th>6</th>\n      <td>Arizona Coyotes</td>\n      <td>82.0</td>\n      <td>39.0</td>\n      <td>35.0</td>\n      <td>8.0</td>\n      <td>86.0</td>\n      <td>0.524390</td>\n      <td>9.0</td>\n      <td>30.0</td>\n    </tr>\n    <tr>\n      <th>19</th>\n      <td>Florida Panthers</td>\n      <td>82.0</td>\n      <td>36.0</td>\n      <td>32.0</td>\n      <td>14.0</td>\n      <td>86.0</td>\n      <td>0.524390</td>\n      <td>10.0</td>\n      <td>26.0</td>\n    </tr>\n    <tr>\n      <th>9</th>\n      <td>Chicago Blackhawks</td>\n      <td>82.0</td>\n      <td>36.0</td>\n      <td>34.0</td>\n      <td>12.0</td>\n      <td>84.0</td>\n      <td>0.512195</td>\n      <td>12.0</td>\n      <td>24.0</td>\n    </tr>\n    <tr>\n      <th>5</th>\n      <td>Minnesota Wild</td>\n      <td>82.0</td>\n      <td>37.0</td>\n      <td>36.0</td>\n      <td>9.0</td>\n      <td>83.0</td>\n      <td>0.506098</td>\n      <td>4.0</td>\n      <td>33.0</td>\n    </tr>\n    <tr>\n      <th>12</th>\n      <td>Philadelphia Flyers</td>\n      <td>82.0</td>\n      <td>37.0</td>\n      <td>37.0</td>\n      <td>8.0</td>\n      <td>82.0</td>\n      <td>0.500000</td>\n      <td>9.0</td>\n      <td>28.0</td>\n    </tr>\n    <tr>\n      <th>16</th>\n      <td>Vancouver Canucks</td>\n      <td>82.0</td>\n      <td>35.0</td>\n      <td>36.0</td>\n      <td>11.0</td>\n      <td>81.0</td>\n      <td>0.493902</td>\n      <td>13.0</td>\n      <td>22.0</td>\n    </tr>\n    <tr>\n      <th>0</th>\n      <td>Anaheim Ducks</td>\n      <td>82.0</td>\n      <td>35.0</td>\n      <td>37.0</td>\n      <td>10.0</td>\n      <td>80.0</td>\n      <td>0.487805</td>\n      <td>8.0</td>\n      <td>27.0</td>\n    </tr>\n    <tr>\n      <th>18</th>\n      <td>Edmonton Oilers</td>\n      <td>82.0</td>\n      <td>35.0</td>\n      <td>38.0</td>\n      <td>9.0</td>\n      <td>79.0</td>\n      <td>0.481707</td>\n      <td>11.0</td>\n      <td>24.0</td>\n    </tr>\n    <tr>\n      <th>15</th>\n      <td>New York Rangers</td>\n      <td>82.0</td>\n      <td>32.0</td>\n      <td>36.0</td>\n      <td>14.0</td>\n      <td>78.0</td>\n      <td>0.475610</td>\n      <td>9.0</td>\n      <td>23.0</td>\n    </tr>\n    <tr>\n      <th>25</th>\n      <td>Buffalo Sabres</td>\n      <td>82.0</td>\n      <td>33.0</td>\n      <td>39.0</td>\n      <td>10.0</td>\n      <td>76.0</td>\n      <td>0.463415</td>\n      <td>12.0</td>\n      <td>21.0</td>\n    </tr>\n    <tr>\n      <th>22</th>\n      <td>Detroit Red Wings</td>\n      <td>82.0</td>\n      <td>32.0</td>\n      <td>40.0</td>\n      <td>10.0</td>\n      <td>74.0</td>\n      <td>0.451220</td>\n      <td>12.0</td>\n      <td>20.0</td>\n    </tr>\n    <tr>\n      <th>30</th>\n      <td>New Jersey Devils</td>\n      <td>82.0</td>\n      <td>31.0</td>\n      <td>41.0</td>\n      <td>10.0</td>\n      <td>72.0</td>\n      <td>0.439024</td>\n      <td>7.0</td>\n      <td>24.0</td>\n    </tr>\n    <tr>\n      <th>24</th>\n      <td>Los Angeles Kings</td>\n      <td>82.0</td>\n      <td>31.0</td>\n      <td>42.0</td>\n      <td>9.0</td>\n      <td>71.0</td>\n      <td>0.432927</td>\n      <td>9.0</td>\n      <td>22.0</td>\n    </tr>\n    <tr>\n      <th>20</th>\n      <td>Ottawa Senators</td>\n      <td>82.0</td>\n      <td>29.0</td>\n      <td>47.0</td>\n      <td>6.0</td>\n      <td>64.0</td>\n      <td>0.390244</td>\n      <td>6.0</td>\n      <td>23.0</td>\n    </tr>\n  </tbody>\n</table>\n</div>"
     },
     "metadata": {}
    },
    {
     "output_type": "stream",
     "name": "stdout",
     "text": [
      "\n",
      "Season 2019-2020\n"
     ]
    },
    {
     "output_type": "display_data",
     "data": {
      "text/plain": "                     Team  Games  Wins  Losses  OT Losses  Points        P%  \\\n7           Boston Bruins   70.0  44.0    14.0       12.0   100.0  0.714286   \n23        St. Louis Blues   71.0  42.0    19.0       10.0    94.0  0.661972   \n30     Colorado Avalanche   70.0  42.0    20.0        8.0    92.0  0.657143   \n17    Tampa Bay Lightning   70.0  43.0    21.0        6.0    92.0  0.657143   \n1     Washington Capitals   69.0  41.0    20.0        8.0    90.0  0.652174   \n29    Philadelphia Flyers   69.0  41.0    21.0        7.0    89.0  0.644928   \n28    Pittsburgh Penguins   69.0  40.0    23.0        6.0    86.0  0.623188   \n14   Vegas Golden Knights   71.0  39.0    24.0        8.0    86.0  0.605634   \n22    Carolina Hurricanes   68.0  38.0    25.0        5.0    81.0  0.595588   \n21           Dallas Stars   69.0  37.0    24.0        8.0    82.0  0.594203   \n26     New York Islanders   68.0  35.0    23.0       10.0    80.0  0.588235   \n25        Edmonton Oilers   71.0  37.0    25.0        9.0    83.0  0.584507   \n20  Columbus Blue Jackets   70.0  33.0    22.0       15.0    81.0  0.578571   \n12    Toronto Maple Leafs   70.0  36.0    25.0        9.0    81.0  0.578571   \n27    Nashville Predators   69.0  35.0    26.0        8.0    78.0  0.565217   \n0       Vancouver Canucks   69.0  36.0    27.0        6.0    78.0  0.565217   \n11       Florida Panthers   69.0  35.0    26.0        8.0    78.0  0.565217   \n19       New York Rangers   70.0  37.0    28.0        5.0    79.0  0.564286   \n6          Calgary Flames   70.0  36.0    27.0        7.0    79.0  0.564286   \n9           Winnipeg Jets   71.0  37.0    28.0        6.0    80.0  0.563380   \n8          Minnesota Wild   69.0  35.0    27.0        7.0    77.0  0.557971   \n4         Arizona Coyotes   70.0  33.0    29.0        8.0    74.0  0.528571   \n13     Chicago Blackhawks   70.0  32.0    30.0        8.0    72.0  0.514286   \n5      Montreal Canadiens   71.0  31.0    31.0        9.0    71.0  0.500000   \n10         Buffalo Sabres   69.0  30.0    31.0        8.0    68.0  0.492754   \n15      New Jersey Devils   69.0  28.0    29.0       12.0    68.0  0.492754   \n24          Anaheim Ducks   71.0  29.0    33.0        9.0    67.0  0.471831   \n16      Los Angeles Kings   70.0  29.0    35.0        6.0    64.0  0.457143   \n3         San Jose Sharks   70.0  29.0    36.0        5.0    63.0  0.450000   \n2         Ottawa Senators   71.0  25.0    34.0       12.0    62.0  0.436620   \n18      Detroit Red Wings   71.0  17.0    49.0        5.0    39.0  0.274648   \n\n    OT Wins  Reg Win  \n7       6.0     38.0  \n23      9.0     33.0  \n30      5.0     37.0  \n17      8.0     35.0  \n1      10.0     31.0  \n29     10.0     31.0  \n28     11.0     29.0  \n14      9.0     30.0  \n22     11.0     27.0  \n21     11.0     26.0  \n26     11.0     24.0  \n25      6.0     31.0  \n20      8.0     25.0  \n12      8.0     28.0  \n27      7.0     28.0  \n0       9.0     27.0  \n11      5.0     30.0  \n19      6.0     31.0  \n6      11.0     25.0  \n9       7.0     30.0  \n8       5.0     30.0  \n4       7.0     26.0  \n13      9.0     23.0  \n5      12.0     19.0  \n10      8.0     22.0  \n15      6.0     22.0  \n24      9.0     20.0  \n16      8.0     21.0  \n3       7.0     22.0  \n2       7.0     18.0  \n18      4.0     13.0  ",
      "text/html": "<div>\n<style scoped>\n    .dataframe tbody tr th:only-of-type {\n        vertical-align: middle;\n    }\n\n    .dataframe tbody tr th {\n        vertical-align: top;\n    }\n\n    .dataframe thead th {\n        text-align: right;\n    }\n</style>\n<table border=\"1\" class=\"dataframe\">\n  <thead>\n    <tr style=\"text-align: right;\">\n      <th></th>\n      <th>Team</th>\n      <th>Games</th>\n      <th>Wins</th>\n      <th>Losses</th>\n      <th>OT Losses</th>\n      <th>Points</th>\n      <th>P%</th>\n      <th>OT Wins</th>\n      <th>Reg Win</th>\n    </tr>\n  </thead>\n  <tbody>\n    <tr>\n      <th>7</th>\n      <td>Boston Bruins</td>\n      <td>70.0</td>\n      <td>44.0</td>\n      <td>14.0</td>\n      <td>12.0</td>\n      <td>100.0</td>\n      <td>0.714286</td>\n      <td>6.0</td>\n      <td>38.0</td>\n    </tr>\n    <tr>\n      <th>23</th>\n      <td>St. Louis Blues</td>\n      <td>71.0</td>\n      <td>42.0</td>\n      <td>19.0</td>\n      <td>10.0</td>\n      <td>94.0</td>\n      <td>0.661972</td>\n      <td>9.0</td>\n      <td>33.0</td>\n    </tr>\n    <tr>\n      <th>30</th>\n      <td>Colorado Avalanche</td>\n      <td>70.0</td>\n      <td>42.0</td>\n      <td>20.0</td>\n      <td>8.0</td>\n      <td>92.0</td>\n      <td>0.657143</td>\n      <td>5.0</td>\n      <td>37.0</td>\n    </tr>\n    <tr>\n      <th>17</th>\n      <td>Tampa Bay Lightning</td>\n      <td>70.0</td>\n      <td>43.0</td>\n      <td>21.0</td>\n      <td>6.0</td>\n      <td>92.0</td>\n      <td>0.657143</td>\n      <td>8.0</td>\n      <td>35.0</td>\n    </tr>\n    <tr>\n      <th>1</th>\n      <td>Washington Capitals</td>\n      <td>69.0</td>\n      <td>41.0</td>\n      <td>20.0</td>\n      <td>8.0</td>\n      <td>90.0</td>\n      <td>0.652174</td>\n      <td>10.0</td>\n      <td>31.0</td>\n    </tr>\n    <tr>\n      <th>29</th>\n      <td>Philadelphia Flyers</td>\n      <td>69.0</td>\n      <td>41.0</td>\n      <td>21.0</td>\n      <td>7.0</td>\n      <td>89.0</td>\n      <td>0.644928</td>\n      <td>10.0</td>\n      <td>31.0</td>\n    </tr>\n    <tr>\n      <th>28</th>\n      <td>Pittsburgh Penguins</td>\n      <td>69.0</td>\n      <td>40.0</td>\n      <td>23.0</td>\n      <td>6.0</td>\n      <td>86.0</td>\n      <td>0.623188</td>\n      <td>11.0</td>\n      <td>29.0</td>\n    </tr>\n    <tr>\n      <th>14</th>\n      <td>Vegas Golden Knights</td>\n      <td>71.0</td>\n      <td>39.0</td>\n      <td>24.0</td>\n      <td>8.0</td>\n      <td>86.0</td>\n      <td>0.605634</td>\n      <td>9.0</td>\n      <td>30.0</td>\n    </tr>\n    <tr>\n      <th>22</th>\n      <td>Carolina Hurricanes</td>\n      <td>68.0</td>\n      <td>38.0</td>\n      <td>25.0</td>\n      <td>5.0</td>\n      <td>81.0</td>\n      <td>0.595588</td>\n      <td>11.0</td>\n      <td>27.0</td>\n    </tr>\n    <tr>\n      <th>21</th>\n      <td>Dallas Stars</td>\n      <td>69.0</td>\n      <td>37.0</td>\n      <td>24.0</td>\n      <td>8.0</td>\n      <td>82.0</td>\n      <td>0.594203</td>\n      <td>11.0</td>\n      <td>26.0</td>\n    </tr>\n    <tr>\n      <th>26</th>\n      <td>New York Islanders</td>\n      <td>68.0</td>\n      <td>35.0</td>\n      <td>23.0</td>\n      <td>10.0</td>\n      <td>80.0</td>\n      <td>0.588235</td>\n      <td>11.0</td>\n      <td>24.0</td>\n    </tr>\n    <tr>\n      <th>25</th>\n      <td>Edmonton Oilers</td>\n      <td>71.0</td>\n      <td>37.0</td>\n      <td>25.0</td>\n      <td>9.0</td>\n      <td>83.0</td>\n      <td>0.584507</td>\n      <td>6.0</td>\n      <td>31.0</td>\n    </tr>\n    <tr>\n      <th>20</th>\n      <td>Columbus Blue Jackets</td>\n      <td>70.0</td>\n      <td>33.0</td>\n      <td>22.0</td>\n      <td>15.0</td>\n      <td>81.0</td>\n      <td>0.578571</td>\n      <td>8.0</td>\n      <td>25.0</td>\n    </tr>\n    <tr>\n      <th>12</th>\n      <td>Toronto Maple Leafs</td>\n      <td>70.0</td>\n      <td>36.0</td>\n      <td>25.0</td>\n      <td>9.0</td>\n      <td>81.0</td>\n      <td>0.578571</td>\n      <td>8.0</td>\n      <td>28.0</td>\n    </tr>\n    <tr>\n      <th>27</th>\n      <td>Nashville Predators</td>\n      <td>69.0</td>\n      <td>35.0</td>\n      <td>26.0</td>\n      <td>8.0</td>\n      <td>78.0</td>\n      <td>0.565217</td>\n      <td>7.0</td>\n      <td>28.0</td>\n    </tr>\n    <tr>\n      <th>0</th>\n      <td>Vancouver Canucks</td>\n      <td>69.0</td>\n      <td>36.0</td>\n      <td>27.0</td>\n      <td>6.0</td>\n      <td>78.0</td>\n      <td>0.565217</td>\n      <td>9.0</td>\n      <td>27.0</td>\n    </tr>\n    <tr>\n      <th>11</th>\n      <td>Florida Panthers</td>\n      <td>69.0</td>\n      <td>35.0</td>\n      <td>26.0</td>\n      <td>8.0</td>\n      <td>78.0</td>\n      <td>0.565217</td>\n      <td>5.0</td>\n      <td>30.0</td>\n    </tr>\n    <tr>\n      <th>19</th>\n      <td>New York Rangers</td>\n      <td>70.0</td>\n      <td>37.0</td>\n      <td>28.0</td>\n      <td>5.0</td>\n      <td>79.0</td>\n      <td>0.564286</td>\n      <td>6.0</td>\n      <td>31.0</td>\n    </tr>\n    <tr>\n      <th>6</th>\n      <td>Calgary Flames</td>\n      <td>70.0</td>\n      <td>36.0</td>\n      <td>27.0</td>\n      <td>7.0</td>\n      <td>79.0</td>\n      <td>0.564286</td>\n      <td>11.0</td>\n      <td>25.0</td>\n    </tr>\n    <tr>\n      <th>9</th>\n      <td>Winnipeg Jets</td>\n      <td>71.0</td>\n      <td>37.0</td>\n      <td>28.0</td>\n      <td>6.0</td>\n      <td>80.0</td>\n      <td>0.563380</td>\n      <td>7.0</td>\n      <td>30.0</td>\n    </tr>\n    <tr>\n      <th>8</th>\n      <td>Minnesota Wild</td>\n      <td>69.0</td>\n      <td>35.0</td>\n      <td>27.0</td>\n      <td>7.0</td>\n      <td>77.0</td>\n      <td>0.557971</td>\n      <td>5.0</td>\n      <td>30.0</td>\n    </tr>\n    <tr>\n      <th>4</th>\n      <td>Arizona Coyotes</td>\n      <td>70.0</td>\n      <td>33.0</td>\n      <td>29.0</td>\n      <td>8.0</td>\n      <td>74.0</td>\n      <td>0.528571</td>\n      <td>7.0</td>\n      <td>26.0</td>\n    </tr>\n    <tr>\n      <th>13</th>\n      <td>Chicago Blackhawks</td>\n      <td>70.0</td>\n      <td>32.0</td>\n      <td>30.0</td>\n      <td>8.0</td>\n      <td>72.0</td>\n      <td>0.514286</td>\n      <td>9.0</td>\n      <td>23.0</td>\n    </tr>\n    <tr>\n      <th>5</th>\n      <td>Montreal Canadiens</td>\n      <td>71.0</td>\n      <td>31.0</td>\n      <td>31.0</td>\n      <td>9.0</td>\n      <td>71.0</td>\n      <td>0.500000</td>\n      <td>12.0</td>\n      <td>19.0</td>\n    </tr>\n    <tr>\n      <th>10</th>\n      <td>Buffalo Sabres</td>\n      <td>69.0</td>\n      <td>30.0</td>\n      <td>31.0</td>\n      <td>8.0</td>\n      <td>68.0</td>\n      <td>0.492754</td>\n      <td>8.0</td>\n      <td>22.0</td>\n    </tr>\n    <tr>\n      <th>15</th>\n      <td>New Jersey Devils</td>\n      <td>69.0</td>\n      <td>28.0</td>\n      <td>29.0</td>\n      <td>12.0</td>\n      <td>68.0</td>\n      <td>0.492754</td>\n      <td>6.0</td>\n      <td>22.0</td>\n    </tr>\n    <tr>\n      <th>24</th>\n      <td>Anaheim Ducks</td>\n      <td>71.0</td>\n      <td>29.0</td>\n      <td>33.0</td>\n      <td>9.0</td>\n      <td>67.0</td>\n      <td>0.471831</td>\n      <td>9.0</td>\n      <td>20.0</td>\n    </tr>\n    <tr>\n      <th>16</th>\n      <td>Los Angeles Kings</td>\n      <td>70.0</td>\n      <td>29.0</td>\n      <td>35.0</td>\n      <td>6.0</td>\n      <td>64.0</td>\n      <td>0.457143</td>\n      <td>8.0</td>\n      <td>21.0</td>\n    </tr>\n    <tr>\n      <th>3</th>\n      <td>San Jose Sharks</td>\n      <td>70.0</td>\n      <td>29.0</td>\n      <td>36.0</td>\n      <td>5.0</td>\n      <td>63.0</td>\n      <td>0.450000</td>\n      <td>7.0</td>\n      <td>22.0</td>\n    </tr>\n    <tr>\n      <th>2</th>\n      <td>Ottawa Senators</td>\n      <td>71.0</td>\n      <td>25.0</td>\n      <td>34.0</td>\n      <td>12.0</td>\n      <td>62.0</td>\n      <td>0.436620</td>\n      <td>7.0</td>\n      <td>18.0</td>\n    </tr>\n    <tr>\n      <th>18</th>\n      <td>Detroit Red Wings</td>\n      <td>71.0</td>\n      <td>17.0</td>\n      <td>49.0</td>\n      <td>5.0</td>\n      <td>39.0</td>\n      <td>0.274648</td>\n      <td>4.0</td>\n      <td>13.0</td>\n    </tr>\n  </tbody>\n</table>\n</div>"
     },
     "metadata": {}
    },
    {
     "output_type": "stream",
     "name": "stdout",
     "text": [
      "\n",
      "Season 2020-2021\n"
     ]
    },
    {
     "output_type": "display_data",
     "data": {
      "text/plain": "                     Team  Games  Wins  Losses  OT Losses  Points        P%  \\\n18     Colorado Avalanche   43.0  30.0     9.0        4.0    64.0  0.744186   \n23   Vegas Golden Knights   45.0  32.0    11.0        2.0    66.0  0.733333   \n7     Carolina Hurricanes   44.0  29.0    10.0        5.0    63.0  0.715909   \n22    Tampa Bay Lightning   45.0  30.0    13.0        2.0    62.0  0.688889   \n29       Florida Panthers   46.0  29.0    12.0        5.0    63.0  0.684783   \n14    Toronto Maple Leafs   45.0  28.0    12.0        5.0    61.0  0.677778   \n6     Washington Capitals   46.0  29.0    13.0        4.0    62.0  0.673913   \n8          Minnesota Wild   44.0  28.0    13.0        3.0    59.0  0.670455   \n11     New York Islanders   45.0  28.0    13.0        4.0    60.0  0.666667   \n2     Pittsburgh Penguins   45.0  28.0    14.0        3.0    59.0  0.655556   \n9           Boston Bruins   43.0  25.0    12.0        6.0    56.0  0.651163   \n20        Edmonton Oilers   44.0  27.0    15.0        2.0    56.0  0.636364   \n16          Winnipeg Jets   45.0  27.0    15.0        3.0    57.0  0.633333   \n26       New York Rangers   45.0  23.0    16.0        6.0    52.0  0.577778   \n4      Montreal Canadiens   43.0  19.0    15.0        9.0    47.0  0.546512   \n30           Dallas Stars   44.0  18.0    14.0       12.0    48.0  0.545455   \n25    Nashville Predators   47.0  25.0    21.0        1.0    51.0  0.542553   \n21    Philadelphia Flyers   45.0  20.0    18.0        7.0    47.0  0.522222   \n0         St. Louis Blues   43.0  19.0    18.0        6.0    44.0  0.511628   \n3      Chicago Blackhawks   46.0  21.0    20.0        5.0    47.0  0.510870   \n17        Arizona Coyotes   46.0  20.0    21.0        5.0    45.0  0.489130   \n1       Vancouver Canucks   38.0  17.0    18.0        3.0    37.0  0.486842   \n13         Calgary Flames   45.0  19.0    23.0        3.0    41.0  0.455556   \n5         San Jose Sharks   45.0  18.0    22.0        5.0    41.0  0.455556   \n27      Los Angeles Kings   42.0  16.0    20.0        6.0    38.0  0.452381   \n24      Detroit Red Wings   47.0  16.0    24.0        7.0    39.0  0.414894   \n10  Columbus Blue Jackets   47.0  15.0    23.0        9.0    39.0  0.414894   \n28        Ottawa Senators   46.0  16.0    26.0        4.0    36.0  0.391304   \n19      New Jersey Devils   44.0  14.0    24.0        6.0    34.0  0.386364   \n12          Anaheim Ducks   46.0  14.0    25.0        7.0    35.0  0.380435   \n15         Buffalo Sabres   45.0  12.0    26.0        7.0    31.0  0.344444   \n\n    OT Wins  Reg Win  \n18      3.0     27.0  \n23      7.0     25.0  \n7       8.0     21.0  \n22      6.0     24.0  \n29      8.0     21.0  \n14      6.0     22.0  \n6       5.0     24.0  \n8       5.0     23.0  \n11      8.0     20.0  \n2       7.0     21.0  \n9       7.0     18.0  \n20      2.0     25.0  \n16      6.0     21.0  \n26      3.0     20.0  \n4       2.0     17.0  \n30      3.0     15.0  \n25      8.0     17.0  \n21      7.0     13.0  \n0       6.0     13.0  \n3       7.0     14.0  \n17      4.0     16.0  \n1       6.0     11.0  \n13      3.0     16.0  \n5       6.0     12.0  \n27      2.0     14.0  \n24      2.0     14.0  \n10      4.0     11.0  \n28      4.0     12.0  \n19      3.0     11.0  \n12      5.0      9.0  \n15      3.0      9.0  ",
      "text/html": "<div>\n<style scoped>\n    .dataframe tbody tr th:only-of-type {\n        vertical-align: middle;\n    }\n\n    .dataframe tbody tr th {\n        vertical-align: top;\n    }\n\n    .dataframe thead th {\n        text-align: right;\n    }\n</style>\n<table border=\"1\" class=\"dataframe\">\n  <thead>\n    <tr style=\"text-align: right;\">\n      <th></th>\n      <th>Team</th>\n      <th>Games</th>\n      <th>Wins</th>\n      <th>Losses</th>\n      <th>OT Losses</th>\n      <th>Points</th>\n      <th>P%</th>\n      <th>OT Wins</th>\n      <th>Reg Win</th>\n    </tr>\n  </thead>\n  <tbody>\n    <tr>\n      <th>18</th>\n      <td>Colorado Avalanche</td>\n      <td>43.0</td>\n      <td>30.0</td>\n      <td>9.0</td>\n      <td>4.0</td>\n      <td>64.0</td>\n      <td>0.744186</td>\n      <td>3.0</td>\n      <td>27.0</td>\n    </tr>\n    <tr>\n      <th>23</th>\n      <td>Vegas Golden Knights</td>\n      <td>45.0</td>\n      <td>32.0</td>\n      <td>11.0</td>\n      <td>2.0</td>\n      <td>66.0</td>\n      <td>0.733333</td>\n      <td>7.0</td>\n      <td>25.0</td>\n    </tr>\n    <tr>\n      <th>7</th>\n      <td>Carolina Hurricanes</td>\n      <td>44.0</td>\n      <td>29.0</td>\n      <td>10.0</td>\n      <td>5.0</td>\n      <td>63.0</td>\n      <td>0.715909</td>\n      <td>8.0</td>\n      <td>21.0</td>\n    </tr>\n    <tr>\n      <th>22</th>\n      <td>Tampa Bay Lightning</td>\n      <td>45.0</td>\n      <td>30.0</td>\n      <td>13.0</td>\n      <td>2.0</td>\n      <td>62.0</td>\n      <td>0.688889</td>\n      <td>6.0</td>\n      <td>24.0</td>\n    </tr>\n    <tr>\n      <th>29</th>\n      <td>Florida Panthers</td>\n      <td>46.0</td>\n      <td>29.0</td>\n      <td>12.0</td>\n      <td>5.0</td>\n      <td>63.0</td>\n      <td>0.684783</td>\n      <td>8.0</td>\n      <td>21.0</td>\n    </tr>\n    <tr>\n      <th>14</th>\n      <td>Toronto Maple Leafs</td>\n      <td>45.0</td>\n      <td>28.0</td>\n      <td>12.0</td>\n      <td>5.0</td>\n      <td>61.0</td>\n      <td>0.677778</td>\n      <td>6.0</td>\n      <td>22.0</td>\n    </tr>\n    <tr>\n      <th>6</th>\n      <td>Washington Capitals</td>\n      <td>46.0</td>\n      <td>29.0</td>\n      <td>13.0</td>\n      <td>4.0</td>\n      <td>62.0</td>\n      <td>0.673913</td>\n      <td>5.0</td>\n      <td>24.0</td>\n    </tr>\n    <tr>\n      <th>8</th>\n      <td>Minnesota Wild</td>\n      <td>44.0</td>\n      <td>28.0</td>\n      <td>13.0</td>\n      <td>3.0</td>\n      <td>59.0</td>\n      <td>0.670455</td>\n      <td>5.0</td>\n      <td>23.0</td>\n    </tr>\n    <tr>\n      <th>11</th>\n      <td>New York Islanders</td>\n      <td>45.0</td>\n      <td>28.0</td>\n      <td>13.0</td>\n      <td>4.0</td>\n      <td>60.0</td>\n      <td>0.666667</td>\n      <td>8.0</td>\n      <td>20.0</td>\n    </tr>\n    <tr>\n      <th>2</th>\n      <td>Pittsburgh Penguins</td>\n      <td>45.0</td>\n      <td>28.0</td>\n      <td>14.0</td>\n      <td>3.0</td>\n      <td>59.0</td>\n      <td>0.655556</td>\n      <td>7.0</td>\n      <td>21.0</td>\n    </tr>\n    <tr>\n      <th>9</th>\n      <td>Boston Bruins</td>\n      <td>43.0</td>\n      <td>25.0</td>\n      <td>12.0</td>\n      <td>6.0</td>\n      <td>56.0</td>\n      <td>0.651163</td>\n      <td>7.0</td>\n      <td>18.0</td>\n    </tr>\n    <tr>\n      <th>20</th>\n      <td>Edmonton Oilers</td>\n      <td>44.0</td>\n      <td>27.0</td>\n      <td>15.0</td>\n      <td>2.0</td>\n      <td>56.0</td>\n      <td>0.636364</td>\n      <td>2.0</td>\n      <td>25.0</td>\n    </tr>\n    <tr>\n      <th>16</th>\n      <td>Winnipeg Jets</td>\n      <td>45.0</td>\n      <td>27.0</td>\n      <td>15.0</td>\n      <td>3.0</td>\n      <td>57.0</td>\n      <td>0.633333</td>\n      <td>6.0</td>\n      <td>21.0</td>\n    </tr>\n    <tr>\n      <th>26</th>\n      <td>New York Rangers</td>\n      <td>45.0</td>\n      <td>23.0</td>\n      <td>16.0</td>\n      <td>6.0</td>\n      <td>52.0</td>\n      <td>0.577778</td>\n      <td>3.0</td>\n      <td>20.0</td>\n    </tr>\n    <tr>\n      <th>4</th>\n      <td>Montreal Canadiens</td>\n      <td>43.0</td>\n      <td>19.0</td>\n      <td>15.0</td>\n      <td>9.0</td>\n      <td>47.0</td>\n      <td>0.546512</td>\n      <td>2.0</td>\n      <td>17.0</td>\n    </tr>\n    <tr>\n      <th>30</th>\n      <td>Dallas Stars</td>\n      <td>44.0</td>\n      <td>18.0</td>\n      <td>14.0</td>\n      <td>12.0</td>\n      <td>48.0</td>\n      <td>0.545455</td>\n      <td>3.0</td>\n      <td>15.0</td>\n    </tr>\n    <tr>\n      <th>25</th>\n      <td>Nashville Predators</td>\n      <td>47.0</td>\n      <td>25.0</td>\n      <td>21.0</td>\n      <td>1.0</td>\n      <td>51.0</td>\n      <td>0.542553</td>\n      <td>8.0</td>\n      <td>17.0</td>\n    </tr>\n    <tr>\n      <th>21</th>\n      <td>Philadelphia Flyers</td>\n      <td>45.0</td>\n      <td>20.0</td>\n      <td>18.0</td>\n      <td>7.0</td>\n      <td>47.0</td>\n      <td>0.522222</td>\n      <td>7.0</td>\n      <td>13.0</td>\n    </tr>\n    <tr>\n      <th>0</th>\n      <td>St. Louis Blues</td>\n      <td>43.0</td>\n      <td>19.0</td>\n      <td>18.0</td>\n      <td>6.0</td>\n      <td>44.0</td>\n      <td>0.511628</td>\n      <td>6.0</td>\n      <td>13.0</td>\n    </tr>\n    <tr>\n      <th>3</th>\n      <td>Chicago Blackhawks</td>\n      <td>46.0</td>\n      <td>21.0</td>\n      <td>20.0</td>\n      <td>5.0</td>\n      <td>47.0</td>\n      <td>0.510870</td>\n      <td>7.0</td>\n      <td>14.0</td>\n    </tr>\n    <tr>\n      <th>17</th>\n      <td>Arizona Coyotes</td>\n      <td>46.0</td>\n      <td>20.0</td>\n      <td>21.0</td>\n      <td>5.0</td>\n      <td>45.0</td>\n      <td>0.489130</td>\n      <td>4.0</td>\n      <td>16.0</td>\n    </tr>\n    <tr>\n      <th>1</th>\n      <td>Vancouver Canucks</td>\n      <td>38.0</td>\n      <td>17.0</td>\n      <td>18.0</td>\n      <td>3.0</td>\n      <td>37.0</td>\n      <td>0.486842</td>\n      <td>6.0</td>\n      <td>11.0</td>\n    </tr>\n    <tr>\n      <th>13</th>\n      <td>Calgary Flames</td>\n      <td>45.0</td>\n      <td>19.0</td>\n      <td>23.0</td>\n      <td>3.0</td>\n      <td>41.0</td>\n      <td>0.455556</td>\n      <td>3.0</td>\n      <td>16.0</td>\n    </tr>\n    <tr>\n      <th>5</th>\n      <td>San Jose Sharks</td>\n      <td>45.0</td>\n      <td>18.0</td>\n      <td>22.0</td>\n      <td>5.0</td>\n      <td>41.0</td>\n      <td>0.455556</td>\n      <td>6.0</td>\n      <td>12.0</td>\n    </tr>\n    <tr>\n      <th>27</th>\n      <td>Los Angeles Kings</td>\n      <td>42.0</td>\n      <td>16.0</td>\n      <td>20.0</td>\n      <td>6.0</td>\n      <td>38.0</td>\n      <td>0.452381</td>\n      <td>2.0</td>\n      <td>14.0</td>\n    </tr>\n    <tr>\n      <th>24</th>\n      <td>Detroit Red Wings</td>\n      <td>47.0</td>\n      <td>16.0</td>\n      <td>24.0</td>\n      <td>7.0</td>\n      <td>39.0</td>\n      <td>0.414894</td>\n      <td>2.0</td>\n      <td>14.0</td>\n    </tr>\n    <tr>\n      <th>10</th>\n      <td>Columbus Blue Jackets</td>\n      <td>47.0</td>\n      <td>15.0</td>\n      <td>23.0</td>\n      <td>9.0</td>\n      <td>39.0</td>\n      <td>0.414894</td>\n      <td>4.0</td>\n      <td>11.0</td>\n    </tr>\n    <tr>\n      <th>28</th>\n      <td>Ottawa Senators</td>\n      <td>46.0</td>\n      <td>16.0</td>\n      <td>26.0</td>\n      <td>4.0</td>\n      <td>36.0</td>\n      <td>0.391304</td>\n      <td>4.0</td>\n      <td>12.0</td>\n    </tr>\n    <tr>\n      <th>19</th>\n      <td>New Jersey Devils</td>\n      <td>44.0</td>\n      <td>14.0</td>\n      <td>24.0</td>\n      <td>6.0</td>\n      <td>34.0</td>\n      <td>0.386364</td>\n      <td>3.0</td>\n      <td>11.0</td>\n    </tr>\n    <tr>\n      <th>12</th>\n      <td>Anaheim Ducks</td>\n      <td>46.0</td>\n      <td>14.0</td>\n      <td>25.0</td>\n      <td>7.0</td>\n      <td>35.0</td>\n      <td>0.380435</td>\n      <td>5.0</td>\n      <td>9.0</td>\n    </tr>\n    <tr>\n      <th>15</th>\n      <td>Buffalo Sabres</td>\n      <td>45.0</td>\n      <td>12.0</td>\n      <td>26.0</td>\n      <td>7.0</td>\n      <td>31.0</td>\n      <td>0.344444</td>\n      <td>3.0</td>\n      <td>9.0</td>\n    </tr>\n  </tbody>\n</table>\n</div>"
     },
     "metadata": {}
    },
    {
     "output_type": "stream",
     "name": "stdout",
     "text": [
      "\n"
     ]
    }
   ],
   "source": [
    "for name, games in scores.loc[scores['Type'] == 'regular season'].groupby('Season'):\n",
    "    # create empty list\n",
    "    df = pd.DataFrame({\n",
    "        'Team': pd.Series([], dtype='category'),\n",
    "        'Games': pd.Series([], dtype='int'),\n",
    "        'Wins': pd.Series([], dtype='int'),\n",
    "        'Losses': pd.Series([], dtype='int'),\n",
    "        'OT Losses': pd.Series([], dtype='int'),\n",
    "        'Points': pd.Series([], dtype='int'),\n",
    "        'P%': pd.Series([], dtype='float'),\n",
    "        'OT Wins': pd.Series([], dtype='int'),\n",
    "        'Reg Win': pd.Series([], dtype='int')\n",
    "    })\n",
    "    # add teams\n",
    "    df['Team'] = games['Visitor'].unique()\n",
    "    # replace nans with zeros\n",
    "    df = df.apply(lambda x: x.fillna(0) if x.dtype.kind in 'biufc' else x)\n",
    "    # count wins, losses and OT\n",
    "    for _, row in games.iterrows():\n",
    "        home_idx = df.index[df['Team'] == row['Home']].tolist()[0]\n",
    "        visit_idx = df.index[df['Team'] == row['Visitor']].tolist()[0]\n",
    "        if row['Home Goals'] > row['Visitor Goals']:    # Home team wins\n",
    "            df.at[home_idx, 'Wins'] += 1\n",
    "            if pd.notnull(row['Overtime']):   # SO, 2OT, etc possible\n",
    "                df.at[home_idx, 'OT Wins'] += 1\n",
    "                df.at[visit_idx, 'OT Losses'] += 1\n",
    "            else:\n",
    "                df.at[visit_idx, 'Losses'] += 1\n",
    "        elif row['Home Goals'] < row['Visitor Goals']:  # Visitor team wins\n",
    "            df.at[visit_idx, 'Wins'] += 1\n",
    "            if pd.notnull(row['Overtime']):   # SO, 2OT, etc possible\n",
    "                df.at[visit_idx, 'OT Wins'] += 1\n",
    "                df.at[home_idx, 'OT Losses'] += 1\n",
    "            else:\n",
    "                df.at[home_idx, 'Losses'] += 1\n",
    "    # add metrics\n",
    "    df['Games'] = df['Wins'] + df['Losses'] + df['OT Losses']\n",
    "    df['Points'] = 2 * df['Wins'] + 1 * df['OT Losses']\n",
    "    df['Reg Win'] = df['Wins'] - df['OT Wins']\n",
    "    df['P%'] = df['Points'] / (2 * df['Games'])\n",
    "    # print table\n",
    "    print('Season ' + name)\n",
    "    display(df.sort_values('P%', ascending=False)) # since number of games are not always the same\n",
    "    print()"
   ]
  },
  {
   "source": [
    "## Matchups\n",
    "FIXME: Unnecessary<br>\n",
    "Analyse the performance of each team against the others"
   ],
   "cell_type": "markdown",
   "metadata": {}
  },
  {
   "cell_type": "code",
   "execution_count": 14,
   "metadata": {},
   "outputs": [],
   "source": [
    "matches = pd.DataFrame({\n",
    "    'Team': pd.Series([], dtype='category'),\n",
    "    'Opponent': pd.Series([], dtype='category'),\n",
    "    'Goals': pd.Series([], dtype='int'),    # Goals scored\n",
    "    'GA': pd.Series([], dtype='int'),       # Goals against\n",
    "    'Home': pd.Series([], dtype='bool'),\n",
    "    'Overtime': pd.Series([], dtype='bool'),     # FIXME: SO, 2OT, etc.\n",
    "    'Date': pd.Series([], dtype='datetime64[ns]'),\n",
    "    'Season': pd.Series([], dtype='category'),\n",
    "    'Type': pd.Series([], dtype='category')\n",
    "})"
   ]
  },
  {
   "cell_type": "code",
   "execution_count": 15,
   "metadata": {},
   "outputs": [],
   "source": [
    "home = scores.drop(columns=['Attendance', 'Length', 'Notes'])\n",
    "away = home.copy()"
   ]
  },
  {
   "cell_type": "code",
   "execution_count": 16,
   "metadata": {},
   "outputs": [],
   "source": [
    "home = home.rename(columns={'Home':'Team', 'Visitor':'Opponent', 'Home Goals':'Goals', 'Visitor Goals':'GA'}, inplace=False)\n",
    "home['Home'] = True\n",
    "home['Overtime'] = home['Overtime'].notnull()"
   ]
  },
  {
   "cell_type": "code",
   "execution_count": 17,
   "metadata": {},
   "outputs": [],
   "source": [
    "away = away.rename(columns={'Visitor':'Team', 'Home':'Opponent', 'Home Goals':'GA', 'Visitor Goals':'Goals'}, inplace=False)\n",
    "away['Home'] = False\n",
    "away['Overtime'] = away['Overtime'].notnull()"
   ]
  },
  {
   "cell_type": "code",
   "execution_count": 18,
   "metadata": {},
   "outputs": [
    {
     "output_type": "execute_result",
     "data": {
      "text/plain": [
       "                  Team               Opponent  Goals  GA  Home  Overtime  \\\n",
       "0   New York Islanders    Pittsburgh Penguins      4   3  True      True   \n",
       "1  Nashville Predators           Dallas Stars      2   3  True     False   \n",
       "2        Winnipeg Jets        St. Louis Blues      1   2  True     False   \n",
       "3      San Jose Sharks   Vegas Golden Knights      5   2  True     False   \n",
       "4  Tampa Bay Lightning  Columbus Blue Jackets      3   4  True     False   \n",
       "\n",
       "        Date     Season      Type  \n",
       "0 2019-04-10  2018-2019  playoffs  \n",
       "1 2019-04-10  2018-2019  playoffs  \n",
       "2 2019-04-10  2018-2019  playoffs  \n",
       "3 2019-04-10  2018-2019  playoffs  \n",
       "4 2019-04-10  2018-2019  playoffs  "
      ],
      "text/html": "<div>\n<style scoped>\n    .dataframe tbody tr th:only-of-type {\n        vertical-align: middle;\n    }\n\n    .dataframe tbody tr th {\n        vertical-align: top;\n    }\n\n    .dataframe thead th {\n        text-align: right;\n    }\n</style>\n<table border=\"1\" class=\"dataframe\">\n  <thead>\n    <tr style=\"text-align: right;\">\n      <th></th>\n      <th>Team</th>\n      <th>Opponent</th>\n      <th>Goals</th>\n      <th>GA</th>\n      <th>Home</th>\n      <th>Overtime</th>\n      <th>Date</th>\n      <th>Season</th>\n      <th>Type</th>\n    </tr>\n  </thead>\n  <tbody>\n    <tr>\n      <th>0</th>\n      <td>New York Islanders</td>\n      <td>Pittsburgh Penguins</td>\n      <td>4</td>\n      <td>3</td>\n      <td>True</td>\n      <td>True</td>\n      <td>2019-04-10</td>\n      <td>2018-2019</td>\n      <td>playoffs</td>\n    </tr>\n    <tr>\n      <th>1</th>\n      <td>Nashville Predators</td>\n      <td>Dallas Stars</td>\n      <td>2</td>\n      <td>3</td>\n      <td>True</td>\n      <td>False</td>\n      <td>2019-04-10</td>\n      <td>2018-2019</td>\n      <td>playoffs</td>\n    </tr>\n    <tr>\n      <th>2</th>\n      <td>Winnipeg Jets</td>\n      <td>St. Louis Blues</td>\n      <td>1</td>\n      <td>2</td>\n      <td>True</td>\n      <td>False</td>\n      <td>2019-04-10</td>\n      <td>2018-2019</td>\n      <td>playoffs</td>\n    </tr>\n    <tr>\n      <th>3</th>\n      <td>San Jose Sharks</td>\n      <td>Vegas Golden Knights</td>\n      <td>5</td>\n      <td>2</td>\n      <td>True</td>\n      <td>False</td>\n      <td>2019-04-10</td>\n      <td>2018-2019</td>\n      <td>playoffs</td>\n    </tr>\n    <tr>\n      <th>4</th>\n      <td>Tampa Bay Lightning</td>\n      <td>Columbus Blue Jackets</td>\n      <td>3</td>\n      <td>4</td>\n      <td>True</td>\n      <td>False</td>\n      <td>2019-04-10</td>\n      <td>2018-2019</td>\n      <td>playoffs</td>\n    </tr>\n  </tbody>\n</table>\n</div>"
     },
     "metadata": {},
     "execution_count": 18
    }
   ],
   "source": [
    "matches = pd.concat([matches, home, away], ignore_index=True)\n",
    "matches.head()"
   ]
  },
  {
   "source": [
    "## Team analysis"
   ],
   "cell_type": "markdown",
   "metadata": {}
  },
  {
   "cell_type": "code",
   "execution_count": 19,
   "metadata": {},
   "outputs": [],
   "source": [
    "teams = sorted(matches['Team'].unique())\n",
    "\n",
    "def record_per_team(data, team):\n",
    "    record = pd.DataFrame({\n",
    "        'Opponent': pd.Series([], dtype='category'),\n",
    "        'Self': pd.Series([], dtype='bool'),\n",
    "        'Games': pd.Series([], dtype='int'),\n",
    "        'Wins': pd.Series([], dtype='int'),\n",
    "        'Losses': pd.Series([], dtype='int'),\n",
    "        'OT Wins': pd.Series([], dtype='int'),\n",
    "        'OT Losses': pd.Series([], dtype='int'),\n",
    "        'Reg Win': pd.Series([], dtype='int'),\n",
    "        'Goals': pd.Series([], dtype='int'),     # Goals scored\n",
    "        'GA': pd.Series([], dtype='int'),        # Goals against\n",
    "        'Season': pd.Series([], dtype='category')\n",
    "    })\n",
    "    # Add Teams\n",
    "    record['Opponent'] = teams  #data['Team'].unique()\n",
    "    record['Self'] = record['Opponent'] == team\n",
    "    record['Season'] = (data['Season'].unique()).to_list()[0]\n",
    "    # Fill zeros\n",
    "    record = record.apply(lambda x: x.fillna(0) if x.dtype.kind in 'biufc' else x)\n",
    "    # Go through all of the games (FIXME: could be sped up)\n",
    "    for _, row in data.loc[data['Team'] == team].iterrows():\n",
    "        # get oppenent's position in the df\n",
    "        idx = record.index[record['Opponent'] == row['Opponent']].tolist()[0]\n",
    "        # count number of games\n",
    "        record.at[idx, 'Games'] += 1\n",
    "        # count wins, losses and OT\n",
    "        if row['Goals'] > row['GA']:\n",
    "            record.at[idx, 'Wins'] += 1\n",
    "            if row['Overtime']:\n",
    "                record.at[idx, 'OT Wins'] += 1\n",
    "        elif row['Overtime']:\n",
    "            record.at[idx, 'OT Losses'] += 1\n",
    "        else:\n",
    "            record.at[idx, 'Losses'] += 1\n",
    "        # count goals and goals against\n",
    "        record.at[idx, 'Goals'] += row['Goals']\n",
    "        record.at[idx, 'GA'] += row['GA']\n",
    "    # compute goal difference\n",
    "    record['Diff'] = record['Goals'] - record['GA']\n",
    "    # compute regulation wins\n",
    "    record['Reg Win'] = record['Wins'] - record['OT Wins']\n",
    "    # display(record.sort_values('Opponent', ascending=False))\n",
    "    return (record.sort_values('Opponent', ascending=False)).to_numpy()"
   ]
  },
  {
   "cell_type": "code",
   "execution_count": 20,
   "metadata": {},
   "outputs": [
    {
     "output_type": "stream",
     "name": "stdout",
     "text": [
      "2018-2019\n",
      "2019-2020\n",
      "2020-2021\n"
     ]
    }
   ],
   "source": [
    "stats = []\n",
    "teams = sorted(matches['Team'].unique())\n",
    "seasons = sorted(matches['Season'].unique())\n",
    "for season in seasons:\n",
    "    print(season)\n",
    "    for team in teams:\n",
    "        # compute data for regular season matches\n",
    "        season_matches = matches.loc[(matches['Type'] == 'regular season') & (matches['Season'] == season)].copy()\n",
    "        stats.append(record_per_team(season_matches, team))\n",
    "        # compute for playoffs\n",
    "        playoff_matches = matches.loc[(matches['Type'] == 'playoffs') & (matches['Season'] == season)].copy()\n",
    "        if len(playoff_matches) > 0:\n",
    "            stats.append(record_per_team(playoff_matches, team))"
   ]
  },
  {
   "cell_type": "code",
   "execution_count": 21,
   "metadata": {},
   "outputs": [
    {
     "output_type": "execute_result",
     "data": {
      "text/plain": [
       "(155, 31, 12)"
      ]
     },
     "metadata": {},
     "execution_count": 21
    }
   ],
   "source": [
    "stats = np.stack(stats)     # 155 x 31 x 12 matrix of all of the data\n",
    "stats.shape"
   ]
  },
  {
   "source": [
    "## Betting Odds\n",
    "source: https://www.sportsoddshistory.com/nhl-odds/"
   ],
   "cell_type": "markdown",
   "metadata": {}
  },
  {
   "cell_type": "code",
   "execution_count": 22,
   "metadata": {},
   "outputs": [],
   "source": [
    "# TODO: forecast points for the end of the season 2020-21"
   ]
  }
 ]
}