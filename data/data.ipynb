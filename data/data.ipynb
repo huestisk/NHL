{
 "metadata": {
  "language_info": {
   "codemirror_mode": {
    "name": "ipython",
    "version": 3
   },
   "file_extension": ".py",
   "mimetype": "text/x-python",
   "name": "python",
   "nbconvert_exporter": "python",
   "pygments_lexer": "ipython3",
   "version": "3.8.3"
  },
  "orig_nbformat": 2,
  "kernelspec": {
   "name": "python383jvsc74a57bd00be40f15dcfa6f86363c9264ef3f626f3c3a3ec773f4020b380e97c2efd2229f",
   "display_name": "Python 3.8.3 64-bit ('base': conda)"
  }
 },
 "nbformat": 4,
 "nbformat_minor": 2,
 "cells": [
  {
   "source": [
    "# Merge data sources into database"
   ],
   "cell_type": "markdown",
   "metadata": {}
  },
  {
   "cell_type": "code",
   "execution_count": 1,
   "metadata": {},
   "outputs": [],
   "source": [
    "import os\n",
    "import pandas as pd\n",
    "import numpy as np"
   ]
  },
  {
   "source": [
    "## Game scores (regular season and playoffs):\n",
    "CSV data copied from: <br>\n",
    "https://www.hockey-reference.com/leagues/NHL_2019_games.html"
   ],
   "cell_type": "markdown",
   "metadata": {}
  },
  {
   "cell_type": "code",
   "execution_count": 2,
   "metadata": {},
   "outputs": [],
   "source": [
    "dfs = []\n",
    "for f in os.listdir():\n",
    "    if f.endswith('.csv'):\n",
    "        name = f[:-4].split('_')\n",
    "        season = '20' + name[1] + '-20' + name[2]\n",
    "        category = name[3] + ' ' + name[4] if len(name) > 4 else name[3]\n",
    "        tmp_df = pd.read_csv(f)\n",
    "        tmp_df['Season'] = season\n",
    "        tmp_df['Type'] = category\n",
    "        dfs.append(tmp_df)\n",
    "scores = pd.concat(dfs)"
   ]
  },
  {
   "cell_type": "code",
   "execution_count": 3,
   "metadata": {},
   "outputs": [
    {
     "output_type": "stream",
     "name": "stdout",
     "text": [
      "['2018-2019' '2020-2021' '2019-2020']\n"
     ]
    }
   ],
   "source": [
    "print(scores['Season'].unique())"
   ]
  },
  {
   "cell_type": "code",
   "execution_count": 4,
   "metadata": {},
   "outputs": [
    {
     "output_type": "execute_result",
     "data": {
      "text/plain": [
       "         Date                Visitor    G                 Home  G.1  \\\n",
       "0  2019-04-10    Pittsburgh Penguins  3.0   New York Islanders  4.0   \n",
       "1  2019-04-10           Dallas Stars  3.0  Nashville Predators  2.0   \n",
       "2  2019-04-10        St. Louis Blues  2.0        Winnipeg Jets  1.0   \n",
       "3  2019-04-10   Vegas Golden Knights  2.0      San Jose Sharks  5.0   \n",
       "4  2019-04-10  Columbus Blue Jackets  4.0  Tampa Bay Lightning  3.0   \n",
       "\n",
       "  Unnamed: 5     Att.   LOG  \\\n",
       "0         OT  13917.0  3:06   \n",
       "1        NaN  17458.0  2:30   \n",
       "2        NaN  15321.0  2:31   \n",
       "3        NaN  17562.0  2:39   \n",
       "4        NaN  19092.0  2:28   \n",
       "\n",
       "                                               Notes     Season      Type  \n",
       "0  at Nassau Veterans Memorial Coliseum (Uniondal...  2018-2019  playoffs  \n",
       "1                                                NaN  2018-2019  playoffs  \n",
       "2                                                NaN  2018-2019  playoffs  \n",
       "3                                                NaN  2018-2019  playoffs  \n",
       "4                                                NaN  2018-2019  playoffs  "
      ],
      "text/html": "<div>\n<style scoped>\n    .dataframe tbody tr th:only-of-type {\n        vertical-align: middle;\n    }\n\n    .dataframe tbody tr th {\n        vertical-align: top;\n    }\n\n    .dataframe thead th {\n        text-align: right;\n    }\n</style>\n<table border=\"1\" class=\"dataframe\">\n  <thead>\n    <tr style=\"text-align: right;\">\n      <th></th>\n      <th>Date</th>\n      <th>Visitor</th>\n      <th>G</th>\n      <th>Home</th>\n      <th>G.1</th>\n      <th>Unnamed: 5</th>\n      <th>Att.</th>\n      <th>LOG</th>\n      <th>Notes</th>\n      <th>Season</th>\n      <th>Type</th>\n    </tr>\n  </thead>\n  <tbody>\n    <tr>\n      <th>0</th>\n      <td>2019-04-10</td>\n      <td>Pittsburgh Penguins</td>\n      <td>3.0</td>\n      <td>New York Islanders</td>\n      <td>4.0</td>\n      <td>OT</td>\n      <td>13917.0</td>\n      <td>3:06</td>\n      <td>at Nassau Veterans Memorial Coliseum (Uniondal...</td>\n      <td>2018-2019</td>\n      <td>playoffs</td>\n    </tr>\n    <tr>\n      <th>1</th>\n      <td>2019-04-10</td>\n      <td>Dallas Stars</td>\n      <td>3.0</td>\n      <td>Nashville Predators</td>\n      <td>2.0</td>\n      <td>NaN</td>\n      <td>17458.0</td>\n      <td>2:30</td>\n      <td>NaN</td>\n      <td>2018-2019</td>\n      <td>playoffs</td>\n    </tr>\n    <tr>\n      <th>2</th>\n      <td>2019-04-10</td>\n      <td>St. Louis Blues</td>\n      <td>2.0</td>\n      <td>Winnipeg Jets</td>\n      <td>1.0</td>\n      <td>NaN</td>\n      <td>15321.0</td>\n      <td>2:31</td>\n      <td>NaN</td>\n      <td>2018-2019</td>\n      <td>playoffs</td>\n    </tr>\n    <tr>\n      <th>3</th>\n      <td>2019-04-10</td>\n      <td>Vegas Golden Knights</td>\n      <td>2.0</td>\n      <td>San Jose Sharks</td>\n      <td>5.0</td>\n      <td>NaN</td>\n      <td>17562.0</td>\n      <td>2:39</td>\n      <td>NaN</td>\n      <td>2018-2019</td>\n      <td>playoffs</td>\n    </tr>\n    <tr>\n      <th>4</th>\n      <td>2019-04-10</td>\n      <td>Columbus Blue Jackets</td>\n      <td>4.0</td>\n      <td>Tampa Bay Lightning</td>\n      <td>3.0</td>\n      <td>NaN</td>\n      <td>19092.0</td>\n      <td>2:28</td>\n      <td>NaN</td>\n      <td>2018-2019</td>\n      <td>playoffs</td>\n    </tr>\n  </tbody>\n</table>\n</div>"
     },
     "metadata": {},
     "execution_count": 4
    }
   ],
   "source": [
    "scores.head()"
   ]
  },
  {
   "source": [
    "Let's change some of the column names.<br>\n",
    "  * Goals should be clear\n",
    "  * Unnamed shows Overtime\n",
    "  * Att. stands for Attendence\n",
    "  * LOG stands for Length of Game"
   ],
   "cell_type": "markdown",
   "metadata": {}
  },
  {
   "cell_type": "code",
   "execution_count": 5,
   "metadata": {},
   "outputs": [],
   "source": [
    "scores = scores.rename(columns={'G':'Visitor Goals', 'G.1':'Home Goals', 'Unnamed: 5':'Overtime', 'Att.':'Attendance', 'LOG':'Length'}, inplace=False)"
   ]
  },
  {
   "source": [
    "Let's remove the data for the games that haven't been played yet."
   ],
   "cell_type": "markdown",
   "metadata": {}
  },
  {
   "cell_type": "code",
   "execution_count": 6,
   "metadata": {},
   "outputs": [
    {
     "output_type": "execute_result",
     "data": {
      "text/plain": [
       "           Date                Visitor  Visitor Goals                Home  \\\n",
       "692  2021-04-20          Boston Bruins            NaN      Buffalo Sabres   \n",
       "693  2021-04-20      Detroit Red Wings            NaN        Dallas Stars   \n",
       "694  2021-04-20  Columbus Blue Jackets            NaN    Florida Panthers   \n",
       "695  2021-04-20          Anaheim Ducks            NaN   Los Angeles Kings   \n",
       "696  2021-04-20       New York Rangers            NaN  New York Islanders   \n",
       "..          ...                    ...            ...                 ...   \n",
       "860  2021-05-14    Toronto Maple Leafs            NaN       Winnipeg Jets   \n",
       "861  2021-05-15      Vancouver Canucks            NaN     Edmonton Oilers   \n",
       "862  2021-05-16         Calgary Flames            NaN   Vancouver Canucks   \n",
       "863  2021-05-18         Calgary Flames            NaN   Vancouver Canucks   \n",
       "864  2021-05-19      Vancouver Canucks            NaN      Calgary Flames   \n",
       "\n",
       "     Home Goals Overtime  Attendance Length  \\\n",
       "692         NaN      NaN         NaN    NaN   \n",
       "693         NaN      NaN         NaN    NaN   \n",
       "694         NaN      NaN         NaN    NaN   \n",
       "695         NaN      NaN         NaN    NaN   \n",
       "696         NaN      NaN         NaN    NaN   \n",
       "..          ...      ...         ...    ...   \n",
       "860         NaN      NaN         NaN    NaN   \n",
       "861         NaN      NaN         NaN    NaN   \n",
       "862         NaN      NaN         NaN    NaN   \n",
       "863         NaN      NaN         NaN    NaN   \n",
       "864         NaN      NaN         NaN    NaN   \n",
       "\n",
       "                                                 Notes     Season  \\\n",
       "692                                                NaN  2020-2021   \n",
       "693                                                NaN  2020-2021   \n",
       "694                                                NaN  2020-2021   \n",
       "695                                                NaN  2020-2021   \n",
       "696  at Nassau Veterans Memorial Coliseum (Uniondal...  2020-2021   \n",
       "..                                                 ...        ...   \n",
       "860                                                NaN  2020-2021   \n",
       "861                                                NaN  2020-2021   \n",
       "862                                                NaN  2020-2021   \n",
       "863                                                NaN  2020-2021   \n",
       "864                                                NaN  2020-2021   \n",
       "\n",
       "               Type  \n",
       "692  regular season  \n",
       "693  regular season  \n",
       "694  regular season  \n",
       "695  regular season  \n",
       "696  regular season  \n",
       "..              ...  \n",
       "860  regular season  \n",
       "861  regular season  \n",
       "862  regular season  \n",
       "863  regular season  \n",
       "864  regular season  \n",
       "\n",
       "[173 rows x 11 columns]"
      ],
      "text/html": "<div>\n<style scoped>\n    .dataframe tbody tr th:only-of-type {\n        vertical-align: middle;\n    }\n\n    .dataframe tbody tr th {\n        vertical-align: top;\n    }\n\n    .dataframe thead th {\n        text-align: right;\n    }\n</style>\n<table border=\"1\" class=\"dataframe\">\n  <thead>\n    <tr style=\"text-align: right;\">\n      <th></th>\n      <th>Date</th>\n      <th>Visitor</th>\n      <th>Visitor Goals</th>\n      <th>Home</th>\n      <th>Home Goals</th>\n      <th>Overtime</th>\n      <th>Attendance</th>\n      <th>Length</th>\n      <th>Notes</th>\n      <th>Season</th>\n      <th>Type</th>\n    </tr>\n  </thead>\n  <tbody>\n    <tr>\n      <th>692</th>\n      <td>2021-04-20</td>\n      <td>Boston Bruins</td>\n      <td>NaN</td>\n      <td>Buffalo Sabres</td>\n      <td>NaN</td>\n      <td>NaN</td>\n      <td>NaN</td>\n      <td>NaN</td>\n      <td>NaN</td>\n      <td>2020-2021</td>\n      <td>regular season</td>\n    </tr>\n    <tr>\n      <th>693</th>\n      <td>2021-04-20</td>\n      <td>Detroit Red Wings</td>\n      <td>NaN</td>\n      <td>Dallas Stars</td>\n      <td>NaN</td>\n      <td>NaN</td>\n      <td>NaN</td>\n      <td>NaN</td>\n      <td>NaN</td>\n      <td>2020-2021</td>\n      <td>regular season</td>\n    </tr>\n    <tr>\n      <th>694</th>\n      <td>2021-04-20</td>\n      <td>Columbus Blue Jackets</td>\n      <td>NaN</td>\n      <td>Florida Panthers</td>\n      <td>NaN</td>\n      <td>NaN</td>\n      <td>NaN</td>\n      <td>NaN</td>\n      <td>NaN</td>\n      <td>2020-2021</td>\n      <td>regular season</td>\n    </tr>\n    <tr>\n      <th>695</th>\n      <td>2021-04-20</td>\n      <td>Anaheim Ducks</td>\n      <td>NaN</td>\n      <td>Los Angeles Kings</td>\n      <td>NaN</td>\n      <td>NaN</td>\n      <td>NaN</td>\n      <td>NaN</td>\n      <td>NaN</td>\n      <td>2020-2021</td>\n      <td>regular season</td>\n    </tr>\n    <tr>\n      <th>696</th>\n      <td>2021-04-20</td>\n      <td>New York Rangers</td>\n      <td>NaN</td>\n      <td>New York Islanders</td>\n      <td>NaN</td>\n      <td>NaN</td>\n      <td>NaN</td>\n      <td>NaN</td>\n      <td>at Nassau Veterans Memorial Coliseum (Uniondal...</td>\n      <td>2020-2021</td>\n      <td>regular season</td>\n    </tr>\n    <tr>\n      <th>...</th>\n      <td>...</td>\n      <td>...</td>\n      <td>...</td>\n      <td>...</td>\n      <td>...</td>\n      <td>...</td>\n      <td>...</td>\n      <td>...</td>\n      <td>...</td>\n      <td>...</td>\n      <td>...</td>\n    </tr>\n    <tr>\n      <th>860</th>\n      <td>2021-05-14</td>\n      <td>Toronto Maple Leafs</td>\n      <td>NaN</td>\n      <td>Winnipeg Jets</td>\n      <td>NaN</td>\n      <td>NaN</td>\n      <td>NaN</td>\n      <td>NaN</td>\n      <td>NaN</td>\n      <td>2020-2021</td>\n      <td>regular season</td>\n    </tr>\n    <tr>\n      <th>861</th>\n      <td>2021-05-15</td>\n      <td>Vancouver Canucks</td>\n      <td>NaN</td>\n      <td>Edmonton Oilers</td>\n      <td>NaN</td>\n      <td>NaN</td>\n      <td>NaN</td>\n      <td>NaN</td>\n      <td>NaN</td>\n      <td>2020-2021</td>\n      <td>regular season</td>\n    </tr>\n    <tr>\n      <th>862</th>\n      <td>2021-05-16</td>\n      <td>Calgary Flames</td>\n      <td>NaN</td>\n      <td>Vancouver Canucks</td>\n      <td>NaN</td>\n      <td>NaN</td>\n      <td>NaN</td>\n      <td>NaN</td>\n      <td>NaN</td>\n      <td>2020-2021</td>\n      <td>regular season</td>\n    </tr>\n    <tr>\n      <th>863</th>\n      <td>2021-05-18</td>\n      <td>Calgary Flames</td>\n      <td>NaN</td>\n      <td>Vancouver Canucks</td>\n      <td>NaN</td>\n      <td>NaN</td>\n      <td>NaN</td>\n      <td>NaN</td>\n      <td>NaN</td>\n      <td>2020-2021</td>\n      <td>regular season</td>\n    </tr>\n    <tr>\n      <th>864</th>\n      <td>2021-05-19</td>\n      <td>Vancouver Canucks</td>\n      <td>NaN</td>\n      <td>Calgary Flames</td>\n      <td>NaN</td>\n      <td>NaN</td>\n      <td>NaN</td>\n      <td>NaN</td>\n      <td>NaN</td>\n      <td>2020-2021</td>\n      <td>regular season</td>\n    </tr>\n  </tbody>\n</table>\n<p>173 rows × 11 columns</p>\n</div>"
     },
     "metadata": {},
     "execution_count": 6
    }
   ],
   "source": [
    "scores.loc[scores['Visitor Goals'].isnull()]"
   ]
  },
  {
   "cell_type": "code",
   "execution_count": 7,
   "metadata": {},
   "outputs": [],
   "source": [
    "scores = scores.dropna(subset=['Visitor Goals'])\n",
    "scores['Attendance'] = scores['Attendance'].fillna(0)\n",
    "scores['Length'] = scores['Length'].fillna('0:00')"
   ]
  },
  {
   "source": [
    "Any convert the data types, just to clean things up a bit."
   ],
   "cell_type": "markdown",
   "metadata": {}
  },
  {
   "cell_type": "code",
   "execution_count": 8,
   "metadata": {},
   "outputs": [
    {
     "output_type": "execute_result",
     "data": {
      "text/plain": [
       "Date              object\n",
       "Visitor           object\n",
       "Visitor Goals    float64\n",
       "Home              object\n",
       "Home Goals       float64\n",
       "Overtime          object\n",
       "Attendance       float64\n",
       "Length            object\n",
       "Notes             object\n",
       "Season            object\n",
       "Type              object\n",
       "dtype: object"
      ]
     },
     "metadata": {},
     "execution_count": 8
    }
   ],
   "source": [
    "scores.dtypes"
   ]
  },
  {
   "cell_type": "code",
   "execution_count": 9,
   "metadata": {},
   "outputs": [
    {
     "output_type": "execute_result",
     "data": {
      "text/plain": [
       "Date             26096\n",
       "Visitor          26096\n",
       "Visitor Goals    26096\n",
       "Home             26096\n",
       "Home Goals       26096\n",
       "Overtime         26096\n",
       "Attendance       26096\n",
       "Length           26096\n",
       "Notes            26096\n",
       "Season           26096\n",
       "Type             26096\n",
       "dtype: int64"
      ]
     },
     "metadata": {},
     "execution_count": 9
    }
   ],
   "source": [
    "scores.memory_usage(index=False)"
   ]
  },
  {
   "cell_type": "code",
   "execution_count": 10,
   "metadata": {},
   "outputs": [],
   "source": [
    "scores['Date'] = scores['Date'].astype('datetime64')\n",
    "scores['Visitor'] = scores['Visitor'].astype('category')\n",
    "scores['Visitor Goals'] = scores['Visitor Goals'].astype('int64')\n",
    "scores['Home'] = scores['Home'].astype('category')\n",
    "scores['Home Goals'] = scores['Home Goals'].astype('int64')\n",
    "scores['Overtime'] = scores['Overtime'].astype('category')\n",
    "scores['Attendance'] = scores['Attendance'].astype('int64')\n",
    "scores['Length'] = pd.to_timedelta((scores['Length'].str.split(':', expand=True).astype(int) * (60, 1)).sum(axis=1), unit='min')\n",
    "scores['Season'] = scores['Season'].astype('category')\n",
    "scores['Type'] = scores['Type'].astype('category')"
   ]
  },
  {
   "cell_type": "code",
   "execution_count": 11,
   "metadata": {},
   "outputs": [
    {
     "output_type": "execute_result",
     "data": {
      "text/plain": [
       "        Date                Visitor  Visitor Goals                 Home  \\\n",
       "0 2019-04-10    Pittsburgh Penguins              3   New York Islanders   \n",
       "1 2019-04-10           Dallas Stars              3  Nashville Predators   \n",
       "2 2019-04-10        St. Louis Blues              2        Winnipeg Jets   \n",
       "3 2019-04-10   Vegas Golden Knights              2      San Jose Sharks   \n",
       "4 2019-04-10  Columbus Blue Jackets              4  Tampa Bay Lightning   \n",
       "\n",
       "   Home Goals Overtime  Attendance   Length  \\\n",
       "0           4       OT       13917 03:06:00   \n",
       "1           2      NaN       17458 02:30:00   \n",
       "2           1      NaN       15321 02:31:00   \n",
       "3           5      NaN       17562 02:39:00   \n",
       "4           3      NaN       19092 02:28:00   \n",
       "\n",
       "                                               Notes     Season      Type  \n",
       "0  at Nassau Veterans Memorial Coliseum (Uniondal...  2018-2019  playoffs  \n",
       "1                                                NaN  2018-2019  playoffs  \n",
       "2                                                NaN  2018-2019  playoffs  \n",
       "3                                                NaN  2018-2019  playoffs  \n",
       "4                                                NaN  2018-2019  playoffs  "
      ],
      "text/html": "<div>\n<style scoped>\n    .dataframe tbody tr th:only-of-type {\n        vertical-align: middle;\n    }\n\n    .dataframe tbody tr th {\n        vertical-align: top;\n    }\n\n    .dataframe thead th {\n        text-align: right;\n    }\n</style>\n<table border=\"1\" class=\"dataframe\">\n  <thead>\n    <tr style=\"text-align: right;\">\n      <th></th>\n      <th>Date</th>\n      <th>Visitor</th>\n      <th>Visitor Goals</th>\n      <th>Home</th>\n      <th>Home Goals</th>\n      <th>Overtime</th>\n      <th>Attendance</th>\n      <th>Length</th>\n      <th>Notes</th>\n      <th>Season</th>\n      <th>Type</th>\n    </tr>\n  </thead>\n  <tbody>\n    <tr>\n      <th>0</th>\n      <td>2019-04-10</td>\n      <td>Pittsburgh Penguins</td>\n      <td>3</td>\n      <td>New York Islanders</td>\n      <td>4</td>\n      <td>OT</td>\n      <td>13917</td>\n      <td>03:06:00</td>\n      <td>at Nassau Veterans Memorial Coliseum (Uniondal...</td>\n      <td>2018-2019</td>\n      <td>playoffs</td>\n    </tr>\n    <tr>\n      <th>1</th>\n      <td>2019-04-10</td>\n      <td>Dallas Stars</td>\n      <td>3</td>\n      <td>Nashville Predators</td>\n      <td>2</td>\n      <td>NaN</td>\n      <td>17458</td>\n      <td>02:30:00</td>\n      <td>NaN</td>\n      <td>2018-2019</td>\n      <td>playoffs</td>\n    </tr>\n    <tr>\n      <th>2</th>\n      <td>2019-04-10</td>\n      <td>St. Louis Blues</td>\n      <td>2</td>\n      <td>Winnipeg Jets</td>\n      <td>1</td>\n      <td>NaN</td>\n      <td>15321</td>\n      <td>02:31:00</td>\n      <td>NaN</td>\n      <td>2018-2019</td>\n      <td>playoffs</td>\n    </tr>\n    <tr>\n      <th>3</th>\n      <td>2019-04-10</td>\n      <td>Vegas Golden Knights</td>\n      <td>2</td>\n      <td>San Jose Sharks</td>\n      <td>5</td>\n      <td>NaN</td>\n      <td>17562</td>\n      <td>02:39:00</td>\n      <td>NaN</td>\n      <td>2018-2019</td>\n      <td>playoffs</td>\n    </tr>\n    <tr>\n      <th>4</th>\n      <td>2019-04-10</td>\n      <td>Columbus Blue Jackets</td>\n      <td>4</td>\n      <td>Tampa Bay Lightning</td>\n      <td>3</td>\n      <td>NaN</td>\n      <td>19092</td>\n      <td>02:28:00</td>\n      <td>NaN</td>\n      <td>2018-2019</td>\n      <td>playoffs</td>\n    </tr>\n  </tbody>\n</table>\n</div>"
     },
     "metadata": {},
     "execution_count": 11
    }
   ],
   "source": [
    "scores.head()"
   ]
  },
  {
   "source": [
    "Let's save the data for now."
   ],
   "cell_type": "markdown",
   "metadata": {}
  },
  {
   "cell_type": "code",
   "execution_count": 12,
   "metadata": {},
   "outputs": [],
   "source": [
    "scores.to_pickle('scores.pkl')"
   ]
  }
 ]
}