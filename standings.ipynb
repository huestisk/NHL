{
 "metadata": {
  "language_info": {
   "codemirror_mode": {
    "name": "ipython",
    "version": 3
   },
   "file_extension": ".py",
   "mimetype": "text/x-python",
   "name": "python",
   "nbconvert_exporter": "python",
   "pygments_lexer": "ipython3",
   "version": "3.8.3"
  },
  "orig_nbformat": 2,
  "kernelspec": {
   "name": "python383jvsc74a57bd00be40f15dcfa6f86363c9264ef3f626f3c3a3ec773f4020b380e97c2efd2229f",
   "display_name": "Python 3.8.3 64-bit ('base': conda)"
  }
 },
 "nbformat": 4,
 "nbformat_minor": 2,
 "cells": [
  {
   "source": [
    "# Standings\n",
    "We're gonna recreate the standings for the regular season to get a feel for the data <br>\n",
    "TODO: conferences, goals, home/away record"
   ],
   "cell_type": "markdown",
   "metadata": {}
  },
  {
   "cell_type": "code",
   "execution_count": 1,
   "metadata": {},
   "outputs": [],
   "source": [
    "import pandas as pd\n",
    "import numpy as np"
   ]
  },
  {
   "source": [
    "## Load the correct data"
   ],
   "cell_type": "markdown",
   "metadata": {}
  },
  {
   "cell_type": "code",
   "execution_count": 2,
   "metadata": {},
   "outputs": [
    {
     "output_type": "execute_result",
     "data": {
      "text/plain": [
       "        Date                Visitor  Visitor Goals                 Home  \\\n",
       "0 2019-04-10    Pittsburgh Penguins              3   New York Islanders   \n",
       "1 2019-04-10           Dallas Stars              3  Nashville Predators   \n",
       "2 2019-04-10        St. Louis Blues              2        Winnipeg Jets   \n",
       "3 2019-04-10   Vegas Golden Knights              2      San Jose Sharks   \n",
       "4 2019-04-10  Columbus Blue Jackets              4  Tampa Bay Lightning   \n",
       "\n",
       "   Home Goals Overtime  Attendance          Length  \\\n",
       "0           4       OT       13917 0 days 03:06:00   \n",
       "1           2      NaN       17458 0 days 02:30:00   \n",
       "2           1      NaN       15321 0 days 02:31:00   \n",
       "3           5      NaN       17562 0 days 02:39:00   \n",
       "4           3      NaN       19092 0 days 02:28:00   \n",
       "\n",
       "                                               Notes     Season      Type  \n",
       "0  at Nassau Veterans Memorial Coliseum (Uniondal...  2018-2019  playoffs  \n",
       "1                                                NaN  2018-2019  playoffs  \n",
       "2                                                NaN  2018-2019  playoffs  \n",
       "3                                                NaN  2018-2019  playoffs  \n",
       "4                                                NaN  2018-2019  playoffs  "
      ],
      "text/html": "<div>\n<style scoped>\n    .dataframe tbody tr th:only-of-type {\n        vertical-align: middle;\n    }\n\n    .dataframe tbody tr th {\n        vertical-align: top;\n    }\n\n    .dataframe thead th {\n        text-align: right;\n    }\n</style>\n<table border=\"1\" class=\"dataframe\">\n  <thead>\n    <tr style=\"text-align: right;\">\n      <th></th>\n      <th>Date</th>\n      <th>Visitor</th>\n      <th>Visitor Goals</th>\n      <th>Home</th>\n      <th>Home Goals</th>\n      <th>Overtime</th>\n      <th>Attendance</th>\n      <th>Length</th>\n      <th>Notes</th>\n      <th>Season</th>\n      <th>Type</th>\n    </tr>\n  </thead>\n  <tbody>\n    <tr>\n      <th>0</th>\n      <td>2019-04-10</td>\n      <td>Pittsburgh Penguins</td>\n      <td>3</td>\n      <td>New York Islanders</td>\n      <td>4</td>\n      <td>OT</td>\n      <td>13917</td>\n      <td>0 days 03:06:00</td>\n      <td>at Nassau Veterans Memorial Coliseum (Uniondal...</td>\n      <td>2018-2019</td>\n      <td>playoffs</td>\n    </tr>\n    <tr>\n      <th>1</th>\n      <td>2019-04-10</td>\n      <td>Dallas Stars</td>\n      <td>3</td>\n      <td>Nashville Predators</td>\n      <td>2</td>\n      <td>NaN</td>\n      <td>17458</td>\n      <td>0 days 02:30:00</td>\n      <td>NaN</td>\n      <td>2018-2019</td>\n      <td>playoffs</td>\n    </tr>\n    <tr>\n      <th>2</th>\n      <td>2019-04-10</td>\n      <td>St. Louis Blues</td>\n      <td>2</td>\n      <td>Winnipeg Jets</td>\n      <td>1</td>\n      <td>NaN</td>\n      <td>15321</td>\n      <td>0 days 02:31:00</td>\n      <td>NaN</td>\n      <td>2018-2019</td>\n      <td>playoffs</td>\n    </tr>\n    <tr>\n      <th>3</th>\n      <td>2019-04-10</td>\n      <td>Vegas Golden Knights</td>\n      <td>2</td>\n      <td>San Jose Sharks</td>\n      <td>5</td>\n      <td>NaN</td>\n      <td>17562</td>\n      <td>0 days 02:39:00</td>\n      <td>NaN</td>\n      <td>2018-2019</td>\n      <td>playoffs</td>\n    </tr>\n    <tr>\n      <th>4</th>\n      <td>2019-04-10</td>\n      <td>Columbus Blue Jackets</td>\n      <td>4</td>\n      <td>Tampa Bay Lightning</td>\n      <td>3</td>\n      <td>NaN</td>\n      <td>19092</td>\n      <td>0 days 02:28:00</td>\n      <td>NaN</td>\n      <td>2018-2019</td>\n      <td>playoffs</td>\n    </tr>\n  </tbody>\n</table>\n</div>"
     },
     "metadata": {},
     "execution_count": 2
    }
   ],
   "source": [
    "scores = pd.read_pickle('data/scores.pkl')\n",
    "scores.head()"
   ]
  },
  {
   "source": [
    "Let's remove the playoff data for now and group the scores by season."
   ],
   "cell_type": "markdown",
   "metadata": {}
  },
  {
   "cell_type": "code",
   "execution_count": 3,
   "metadata": {},
   "outputs": [],
   "source": [
    "scores_by_season = scores.loc[scores['Type'] == 'regular season'].groupby('Season')"
   ]
  },
  {
   "source": [
    "## Convert scores to statistics"
   ],
   "cell_type": "markdown",
   "metadata": {}
  },
  {
   "cell_type": "code",
   "execution_count": 4,
   "metadata": {},
   "outputs": [
    {
     "output_type": "stream",
     "name": "stdout",
     "text": [
      "Season 2018-2019\n"
     ]
    },
    {
     "output_type": "display_data",
     "data": {
      "text/plain": "                     Team  Wins  Losses  OT Wins  OT Losses    GP  Points  \\\n29    Tampa Bay Lightning  62.0    16.0     13.0        4.0  95.0   128.0   \n3           Boston Bruins  49.0    24.0     11.0        9.0  93.0   107.0   \n2          Calgary Flames  50.0    25.0      5.0        7.0  87.0   107.0   \n10    Washington Capitals  48.0    26.0      9.0        8.0  91.0   104.0   \n4      New York Islanders  48.0    27.0     11.0        7.0  93.0   103.0   \n14        San Jose Sharks  46.0    27.0      8.0        9.0  90.0   101.0   \n8     Nashville Predators  47.0    29.0      9.0        6.0  91.0   100.0   \n21    Toronto Maple Leafs  46.0    28.0      6.0        8.0  88.0   100.0   \n27    Pittsburgh Penguins  44.0    26.0      7.0       12.0  89.0   100.0   \n11          Winnipeg Jets  47.0    30.0      9.0        5.0  91.0    99.0   \n13    Carolina Hurricanes  46.0    29.0      7.0        7.0  89.0    99.0   \n26        St. Louis Blues  45.0    28.0      9.0        9.0  91.0    99.0   \n7   Columbus Blue Jackets  47.0    31.0     10.0        4.0  92.0    98.0   \n1      Montreal Canadiens  44.0    30.0      7.0        8.0  89.0    96.0   \n17   Vegas Golden Knights  43.0    32.0      7.0        7.0  89.0    93.0   \n28           Dallas Stars  43.0    32.0      7.0        7.0  89.0    93.0   \n23     Colorado Avalanche  38.0    30.0      5.0       14.0  87.0    90.0   \n6         Arizona Coyotes  39.0    35.0      9.0        8.0  91.0    86.0   \n19       Florida Panthers  36.0    32.0     10.0       14.0  92.0    86.0   \n9      Chicago Blackhawks  36.0    34.0     12.0       12.0  94.0    84.0   \n5          Minnesota Wild  37.0    36.0      4.0        9.0  86.0    83.0   \n12    Philadelphia Flyers  37.0    37.0      9.0        8.0  91.0    82.0   \n16      Vancouver Canucks  35.0    36.0     13.0       11.0  95.0    81.0   \n0           Anaheim Ducks  35.0    37.0      8.0       10.0  90.0    80.0   \n18        Edmonton Oilers  35.0    38.0     11.0        9.0  93.0    79.0   \n15       New York Rangers  32.0    36.0      9.0       14.0  91.0    78.0   \n25         Buffalo Sabres  33.0    39.0     12.0       10.0  94.0    76.0   \n22      Detroit Red Wings  32.0    40.0     12.0       10.0  94.0    74.0   \n30      New Jersey Devils  31.0    41.0      7.0       10.0  89.0    72.0   \n24      Los Angeles Kings  31.0    42.0      9.0        9.0  91.0    71.0   \n20        Ottawa Senators  29.0    47.0      6.0        6.0  88.0    64.0   \n\n    Reg Win  \n29     49.0  \n3      38.0  \n2      45.0  \n10     39.0  \n4      37.0  \n14     38.0  \n8      38.0  \n21     40.0  \n27     37.0  \n11     38.0  \n13     39.0  \n26     36.0  \n7      37.0  \n1      37.0  \n17     36.0  \n28     36.0  \n23     33.0  \n6      30.0  \n19     26.0  \n9      24.0  \n5      33.0  \n12     28.0  \n16     22.0  \n0      27.0  \n18     24.0  \n15     23.0  \n25     21.0  \n22     20.0  \n30     24.0  \n24     22.0  \n20     23.0  ",
      "text/html": "<div>\n<style scoped>\n    .dataframe tbody tr th:only-of-type {\n        vertical-align: middle;\n    }\n\n    .dataframe tbody tr th {\n        vertical-align: top;\n    }\n\n    .dataframe thead th {\n        text-align: right;\n    }\n</style>\n<table border=\"1\" class=\"dataframe\">\n  <thead>\n    <tr style=\"text-align: right;\">\n      <th></th>\n      <th>Team</th>\n      <th>Wins</th>\n      <th>Losses</th>\n      <th>OT Wins</th>\n      <th>OT Losses</th>\n      <th>GP</th>\n      <th>Points</th>\n      <th>Reg Win</th>\n    </tr>\n  </thead>\n  <tbody>\n    <tr>\n      <th>29</th>\n      <td>Tampa Bay Lightning</td>\n      <td>62.0</td>\n      <td>16.0</td>\n      <td>13.0</td>\n      <td>4.0</td>\n      <td>95.0</td>\n      <td>128.0</td>\n      <td>49.0</td>\n    </tr>\n    <tr>\n      <th>3</th>\n      <td>Boston Bruins</td>\n      <td>49.0</td>\n      <td>24.0</td>\n      <td>11.0</td>\n      <td>9.0</td>\n      <td>93.0</td>\n      <td>107.0</td>\n      <td>38.0</td>\n    </tr>\n    <tr>\n      <th>2</th>\n      <td>Calgary Flames</td>\n      <td>50.0</td>\n      <td>25.0</td>\n      <td>5.0</td>\n      <td>7.0</td>\n      <td>87.0</td>\n      <td>107.0</td>\n      <td>45.0</td>\n    </tr>\n    <tr>\n      <th>10</th>\n      <td>Washington Capitals</td>\n      <td>48.0</td>\n      <td>26.0</td>\n      <td>9.0</td>\n      <td>8.0</td>\n      <td>91.0</td>\n      <td>104.0</td>\n      <td>39.0</td>\n    </tr>\n    <tr>\n      <th>4</th>\n      <td>New York Islanders</td>\n      <td>48.0</td>\n      <td>27.0</td>\n      <td>11.0</td>\n      <td>7.0</td>\n      <td>93.0</td>\n      <td>103.0</td>\n      <td>37.0</td>\n    </tr>\n    <tr>\n      <th>14</th>\n      <td>San Jose Sharks</td>\n      <td>46.0</td>\n      <td>27.0</td>\n      <td>8.0</td>\n      <td>9.0</td>\n      <td>90.0</td>\n      <td>101.0</td>\n      <td>38.0</td>\n    </tr>\n    <tr>\n      <th>8</th>\n      <td>Nashville Predators</td>\n      <td>47.0</td>\n      <td>29.0</td>\n      <td>9.0</td>\n      <td>6.0</td>\n      <td>91.0</td>\n      <td>100.0</td>\n      <td>38.0</td>\n    </tr>\n    <tr>\n      <th>21</th>\n      <td>Toronto Maple Leafs</td>\n      <td>46.0</td>\n      <td>28.0</td>\n      <td>6.0</td>\n      <td>8.0</td>\n      <td>88.0</td>\n      <td>100.0</td>\n      <td>40.0</td>\n    </tr>\n    <tr>\n      <th>27</th>\n      <td>Pittsburgh Penguins</td>\n      <td>44.0</td>\n      <td>26.0</td>\n      <td>7.0</td>\n      <td>12.0</td>\n      <td>89.0</td>\n      <td>100.0</td>\n      <td>37.0</td>\n    </tr>\n    <tr>\n      <th>11</th>\n      <td>Winnipeg Jets</td>\n      <td>47.0</td>\n      <td>30.0</td>\n      <td>9.0</td>\n      <td>5.0</td>\n      <td>91.0</td>\n      <td>99.0</td>\n      <td>38.0</td>\n    </tr>\n    <tr>\n      <th>13</th>\n      <td>Carolina Hurricanes</td>\n      <td>46.0</td>\n      <td>29.0</td>\n      <td>7.0</td>\n      <td>7.0</td>\n      <td>89.0</td>\n      <td>99.0</td>\n      <td>39.0</td>\n    </tr>\n    <tr>\n      <th>26</th>\n      <td>St. Louis Blues</td>\n      <td>45.0</td>\n      <td>28.0</td>\n      <td>9.0</td>\n      <td>9.0</td>\n      <td>91.0</td>\n      <td>99.0</td>\n      <td>36.0</td>\n    </tr>\n    <tr>\n      <th>7</th>\n      <td>Columbus Blue Jackets</td>\n      <td>47.0</td>\n      <td>31.0</td>\n      <td>10.0</td>\n      <td>4.0</td>\n      <td>92.0</td>\n      <td>98.0</td>\n      <td>37.0</td>\n    </tr>\n    <tr>\n      <th>1</th>\n      <td>Montreal Canadiens</td>\n      <td>44.0</td>\n      <td>30.0</td>\n      <td>7.0</td>\n      <td>8.0</td>\n      <td>89.0</td>\n      <td>96.0</td>\n      <td>37.0</td>\n    </tr>\n    <tr>\n      <th>17</th>\n      <td>Vegas Golden Knights</td>\n      <td>43.0</td>\n      <td>32.0</td>\n      <td>7.0</td>\n      <td>7.0</td>\n      <td>89.0</td>\n      <td>93.0</td>\n      <td>36.0</td>\n    </tr>\n    <tr>\n      <th>28</th>\n      <td>Dallas Stars</td>\n      <td>43.0</td>\n      <td>32.0</td>\n      <td>7.0</td>\n      <td>7.0</td>\n      <td>89.0</td>\n      <td>93.0</td>\n      <td>36.0</td>\n    </tr>\n    <tr>\n      <th>23</th>\n      <td>Colorado Avalanche</td>\n      <td>38.0</td>\n      <td>30.0</td>\n      <td>5.0</td>\n      <td>14.0</td>\n      <td>87.0</td>\n      <td>90.0</td>\n      <td>33.0</td>\n    </tr>\n    <tr>\n      <th>6</th>\n      <td>Arizona Coyotes</td>\n      <td>39.0</td>\n      <td>35.0</td>\n      <td>9.0</td>\n      <td>8.0</td>\n      <td>91.0</td>\n      <td>86.0</td>\n      <td>30.0</td>\n    </tr>\n    <tr>\n      <th>19</th>\n      <td>Florida Panthers</td>\n      <td>36.0</td>\n      <td>32.0</td>\n      <td>10.0</td>\n      <td>14.0</td>\n      <td>92.0</td>\n      <td>86.0</td>\n      <td>26.0</td>\n    </tr>\n    <tr>\n      <th>9</th>\n      <td>Chicago Blackhawks</td>\n      <td>36.0</td>\n      <td>34.0</td>\n      <td>12.0</td>\n      <td>12.0</td>\n      <td>94.0</td>\n      <td>84.0</td>\n      <td>24.0</td>\n    </tr>\n    <tr>\n      <th>5</th>\n      <td>Minnesota Wild</td>\n      <td>37.0</td>\n      <td>36.0</td>\n      <td>4.0</td>\n      <td>9.0</td>\n      <td>86.0</td>\n      <td>83.0</td>\n      <td>33.0</td>\n    </tr>\n    <tr>\n      <th>12</th>\n      <td>Philadelphia Flyers</td>\n      <td>37.0</td>\n      <td>37.0</td>\n      <td>9.0</td>\n      <td>8.0</td>\n      <td>91.0</td>\n      <td>82.0</td>\n      <td>28.0</td>\n    </tr>\n    <tr>\n      <th>16</th>\n      <td>Vancouver Canucks</td>\n      <td>35.0</td>\n      <td>36.0</td>\n      <td>13.0</td>\n      <td>11.0</td>\n      <td>95.0</td>\n      <td>81.0</td>\n      <td>22.0</td>\n    </tr>\n    <tr>\n      <th>0</th>\n      <td>Anaheim Ducks</td>\n      <td>35.0</td>\n      <td>37.0</td>\n      <td>8.0</td>\n      <td>10.0</td>\n      <td>90.0</td>\n      <td>80.0</td>\n      <td>27.0</td>\n    </tr>\n    <tr>\n      <th>18</th>\n      <td>Edmonton Oilers</td>\n      <td>35.0</td>\n      <td>38.0</td>\n      <td>11.0</td>\n      <td>9.0</td>\n      <td>93.0</td>\n      <td>79.0</td>\n      <td>24.0</td>\n    </tr>\n    <tr>\n      <th>15</th>\n      <td>New York Rangers</td>\n      <td>32.0</td>\n      <td>36.0</td>\n      <td>9.0</td>\n      <td>14.0</td>\n      <td>91.0</td>\n      <td>78.0</td>\n      <td>23.0</td>\n    </tr>\n    <tr>\n      <th>25</th>\n      <td>Buffalo Sabres</td>\n      <td>33.0</td>\n      <td>39.0</td>\n      <td>12.0</td>\n      <td>10.0</td>\n      <td>94.0</td>\n      <td>76.0</td>\n      <td>21.0</td>\n    </tr>\n    <tr>\n      <th>22</th>\n      <td>Detroit Red Wings</td>\n      <td>32.0</td>\n      <td>40.0</td>\n      <td>12.0</td>\n      <td>10.0</td>\n      <td>94.0</td>\n      <td>74.0</td>\n      <td>20.0</td>\n    </tr>\n    <tr>\n      <th>30</th>\n      <td>New Jersey Devils</td>\n      <td>31.0</td>\n      <td>41.0</td>\n      <td>7.0</td>\n      <td>10.0</td>\n      <td>89.0</td>\n      <td>72.0</td>\n      <td>24.0</td>\n    </tr>\n    <tr>\n      <th>24</th>\n      <td>Los Angeles Kings</td>\n      <td>31.0</td>\n      <td>42.0</td>\n      <td>9.0</td>\n      <td>9.0</td>\n      <td>91.0</td>\n      <td>71.0</td>\n      <td>22.0</td>\n    </tr>\n    <tr>\n      <th>20</th>\n      <td>Ottawa Senators</td>\n      <td>29.0</td>\n      <td>47.0</td>\n      <td>6.0</td>\n      <td>6.0</td>\n      <td>88.0</td>\n      <td>64.0</td>\n      <td>23.0</td>\n    </tr>\n  </tbody>\n</table>\n</div>"
     },
     "metadata": {}
    },
    {
     "output_type": "stream",
     "name": "stdout",
     "text": [
      "\n",
      "Season 2019-2020\n"
     ]
    },
    {
     "output_type": "display_data",
     "data": {
      "text/plain": "                     Team  Wins  Losses  OT Wins  OT Losses    GP  Points  \\\n7           Boston Bruins  44.0    14.0      6.0       12.0  76.0   100.0   \n23        St. Louis Blues  42.0    19.0      9.0       10.0  80.0    94.0   \n30     Colorado Avalanche  42.0    20.0      5.0        8.0  75.0    92.0   \n17    Tampa Bay Lightning  43.0    21.0      8.0        6.0  78.0    92.0   \n1     Washington Capitals  41.0    20.0     10.0        8.0  79.0    90.0   \n29    Philadelphia Flyers  41.0    21.0     10.0        7.0  79.0    89.0   \n28    Pittsburgh Penguins  40.0    23.0     11.0        6.0  80.0    86.0   \n14   Vegas Golden Knights  39.0    24.0      9.0        8.0  80.0    86.0   \n25        Edmonton Oilers  37.0    25.0      6.0        9.0  77.0    83.0   \n21           Dallas Stars  37.0    24.0     11.0        8.0  80.0    82.0   \n22    Carolina Hurricanes  38.0    25.0     11.0        5.0  79.0    81.0   \n12    Toronto Maple Leafs  36.0    25.0      8.0        9.0  78.0    81.0   \n20  Columbus Blue Jackets  33.0    22.0      8.0       15.0  78.0    81.0   \n26     New York Islanders  35.0    23.0     11.0       10.0  79.0    80.0   \n9           Winnipeg Jets  37.0    28.0      7.0        6.0  78.0    80.0   \n6          Calgary Flames  36.0    27.0     11.0        7.0  81.0    79.0   \n19       New York Rangers  37.0    28.0      6.0        5.0  76.0    79.0   \n27    Nashville Predators  35.0    26.0      7.0        8.0  76.0    78.0   \n0       Vancouver Canucks  36.0    27.0      9.0        6.0  78.0    78.0   \n11       Florida Panthers  35.0    26.0      5.0        8.0  74.0    78.0   \n8          Minnesota Wild  35.0    27.0      5.0        7.0  74.0    77.0   \n4         Arizona Coyotes  33.0    29.0      7.0        8.0  77.0    74.0   \n13     Chicago Blackhawks  32.0    30.0      9.0        8.0  79.0    72.0   \n5      Montreal Canadiens  31.0    31.0     12.0        9.0  83.0    71.0   \n10         Buffalo Sabres  30.0    31.0      8.0        8.0  77.0    68.0   \n15      New Jersey Devils  28.0    29.0      6.0       12.0  75.0    68.0   \n24          Anaheim Ducks  29.0    33.0      9.0        9.0  80.0    67.0   \n16      Los Angeles Kings  29.0    35.0      8.0        6.0  78.0    64.0   \n3         San Jose Sharks  29.0    36.0      7.0        5.0  77.0    63.0   \n2         Ottawa Senators  25.0    34.0      7.0       12.0  78.0    62.0   \n18      Detroit Red Wings  17.0    49.0      4.0        5.0  75.0    39.0   \n\n    Reg Win  \n7      38.0  \n23     33.0  \n30     37.0  \n17     35.0  \n1      31.0  \n29     31.0  \n28     29.0  \n14     30.0  \n25     31.0  \n21     26.0  \n22     27.0  \n12     28.0  \n20     25.0  \n26     24.0  \n9      30.0  \n6      25.0  \n19     31.0  \n27     28.0  \n0      27.0  \n11     30.0  \n8      30.0  \n4      26.0  \n13     23.0  \n5      19.0  \n10     22.0  \n15     22.0  \n24     20.0  \n16     21.0  \n3      22.0  \n2      18.0  \n18     13.0  ",
      "text/html": "<div>\n<style scoped>\n    .dataframe tbody tr th:only-of-type {\n        vertical-align: middle;\n    }\n\n    .dataframe tbody tr th {\n        vertical-align: top;\n    }\n\n    .dataframe thead th {\n        text-align: right;\n    }\n</style>\n<table border=\"1\" class=\"dataframe\">\n  <thead>\n    <tr style=\"text-align: right;\">\n      <th></th>\n      <th>Team</th>\n      <th>Wins</th>\n      <th>Losses</th>\n      <th>OT Wins</th>\n      <th>OT Losses</th>\n      <th>GP</th>\n      <th>Points</th>\n      <th>Reg Win</th>\n    </tr>\n  </thead>\n  <tbody>\n    <tr>\n      <th>7</th>\n      <td>Boston Bruins</td>\n      <td>44.0</td>\n      <td>14.0</td>\n      <td>6.0</td>\n      <td>12.0</td>\n      <td>76.0</td>\n      <td>100.0</td>\n      <td>38.0</td>\n    </tr>\n    <tr>\n      <th>23</th>\n      <td>St. Louis Blues</td>\n      <td>42.0</td>\n      <td>19.0</td>\n      <td>9.0</td>\n      <td>10.0</td>\n      <td>80.0</td>\n      <td>94.0</td>\n      <td>33.0</td>\n    </tr>\n    <tr>\n      <th>30</th>\n      <td>Colorado Avalanche</td>\n      <td>42.0</td>\n      <td>20.0</td>\n      <td>5.0</td>\n      <td>8.0</td>\n      <td>75.0</td>\n      <td>92.0</td>\n      <td>37.0</td>\n    </tr>\n    <tr>\n      <th>17</th>\n      <td>Tampa Bay Lightning</td>\n      <td>43.0</td>\n      <td>21.0</td>\n      <td>8.0</td>\n      <td>6.0</td>\n      <td>78.0</td>\n      <td>92.0</td>\n      <td>35.0</td>\n    </tr>\n    <tr>\n      <th>1</th>\n      <td>Washington Capitals</td>\n      <td>41.0</td>\n      <td>20.0</td>\n      <td>10.0</td>\n      <td>8.0</td>\n      <td>79.0</td>\n      <td>90.0</td>\n      <td>31.0</td>\n    </tr>\n    <tr>\n      <th>29</th>\n      <td>Philadelphia Flyers</td>\n      <td>41.0</td>\n      <td>21.0</td>\n      <td>10.0</td>\n      <td>7.0</td>\n      <td>79.0</td>\n      <td>89.0</td>\n      <td>31.0</td>\n    </tr>\n    <tr>\n      <th>28</th>\n      <td>Pittsburgh Penguins</td>\n      <td>40.0</td>\n      <td>23.0</td>\n      <td>11.0</td>\n      <td>6.0</td>\n      <td>80.0</td>\n      <td>86.0</td>\n      <td>29.0</td>\n    </tr>\n    <tr>\n      <th>14</th>\n      <td>Vegas Golden Knights</td>\n      <td>39.0</td>\n      <td>24.0</td>\n      <td>9.0</td>\n      <td>8.0</td>\n      <td>80.0</td>\n      <td>86.0</td>\n      <td>30.0</td>\n    </tr>\n    <tr>\n      <th>25</th>\n      <td>Edmonton Oilers</td>\n      <td>37.0</td>\n      <td>25.0</td>\n      <td>6.0</td>\n      <td>9.0</td>\n      <td>77.0</td>\n      <td>83.0</td>\n      <td>31.0</td>\n    </tr>\n    <tr>\n      <th>21</th>\n      <td>Dallas Stars</td>\n      <td>37.0</td>\n      <td>24.0</td>\n      <td>11.0</td>\n      <td>8.0</td>\n      <td>80.0</td>\n      <td>82.0</td>\n      <td>26.0</td>\n    </tr>\n    <tr>\n      <th>22</th>\n      <td>Carolina Hurricanes</td>\n      <td>38.0</td>\n      <td>25.0</td>\n      <td>11.0</td>\n      <td>5.0</td>\n      <td>79.0</td>\n      <td>81.0</td>\n      <td>27.0</td>\n    </tr>\n    <tr>\n      <th>12</th>\n      <td>Toronto Maple Leafs</td>\n      <td>36.0</td>\n      <td>25.0</td>\n      <td>8.0</td>\n      <td>9.0</td>\n      <td>78.0</td>\n      <td>81.0</td>\n      <td>28.0</td>\n    </tr>\n    <tr>\n      <th>20</th>\n      <td>Columbus Blue Jackets</td>\n      <td>33.0</td>\n      <td>22.0</td>\n      <td>8.0</td>\n      <td>15.0</td>\n      <td>78.0</td>\n      <td>81.0</td>\n      <td>25.0</td>\n    </tr>\n    <tr>\n      <th>26</th>\n      <td>New York Islanders</td>\n      <td>35.0</td>\n      <td>23.0</td>\n      <td>11.0</td>\n      <td>10.0</td>\n      <td>79.0</td>\n      <td>80.0</td>\n      <td>24.0</td>\n    </tr>\n    <tr>\n      <th>9</th>\n      <td>Winnipeg Jets</td>\n      <td>37.0</td>\n      <td>28.0</td>\n      <td>7.0</td>\n      <td>6.0</td>\n      <td>78.0</td>\n      <td>80.0</td>\n      <td>30.0</td>\n    </tr>\n    <tr>\n      <th>6</th>\n      <td>Calgary Flames</td>\n      <td>36.0</td>\n      <td>27.0</td>\n      <td>11.0</td>\n      <td>7.0</td>\n      <td>81.0</td>\n      <td>79.0</td>\n      <td>25.0</td>\n    </tr>\n    <tr>\n      <th>19</th>\n      <td>New York Rangers</td>\n      <td>37.0</td>\n      <td>28.0</td>\n      <td>6.0</td>\n      <td>5.0</td>\n      <td>76.0</td>\n      <td>79.0</td>\n      <td>31.0</td>\n    </tr>\n    <tr>\n      <th>27</th>\n      <td>Nashville Predators</td>\n      <td>35.0</td>\n      <td>26.0</td>\n      <td>7.0</td>\n      <td>8.0</td>\n      <td>76.0</td>\n      <td>78.0</td>\n      <td>28.0</td>\n    </tr>\n    <tr>\n      <th>0</th>\n      <td>Vancouver Canucks</td>\n      <td>36.0</td>\n      <td>27.0</td>\n      <td>9.0</td>\n      <td>6.0</td>\n      <td>78.0</td>\n      <td>78.0</td>\n      <td>27.0</td>\n    </tr>\n    <tr>\n      <th>11</th>\n      <td>Florida Panthers</td>\n      <td>35.0</td>\n      <td>26.0</td>\n      <td>5.0</td>\n      <td>8.0</td>\n      <td>74.0</td>\n      <td>78.0</td>\n      <td>30.0</td>\n    </tr>\n    <tr>\n      <th>8</th>\n      <td>Minnesota Wild</td>\n      <td>35.0</td>\n      <td>27.0</td>\n      <td>5.0</td>\n      <td>7.0</td>\n      <td>74.0</td>\n      <td>77.0</td>\n      <td>30.0</td>\n    </tr>\n    <tr>\n      <th>4</th>\n      <td>Arizona Coyotes</td>\n      <td>33.0</td>\n      <td>29.0</td>\n      <td>7.0</td>\n      <td>8.0</td>\n      <td>77.0</td>\n      <td>74.0</td>\n      <td>26.0</td>\n    </tr>\n    <tr>\n      <th>13</th>\n      <td>Chicago Blackhawks</td>\n      <td>32.0</td>\n      <td>30.0</td>\n      <td>9.0</td>\n      <td>8.0</td>\n      <td>79.0</td>\n      <td>72.0</td>\n      <td>23.0</td>\n    </tr>\n    <tr>\n      <th>5</th>\n      <td>Montreal Canadiens</td>\n      <td>31.0</td>\n      <td>31.0</td>\n      <td>12.0</td>\n      <td>9.0</td>\n      <td>83.0</td>\n      <td>71.0</td>\n      <td>19.0</td>\n    </tr>\n    <tr>\n      <th>10</th>\n      <td>Buffalo Sabres</td>\n      <td>30.0</td>\n      <td>31.0</td>\n      <td>8.0</td>\n      <td>8.0</td>\n      <td>77.0</td>\n      <td>68.0</td>\n      <td>22.0</td>\n    </tr>\n    <tr>\n      <th>15</th>\n      <td>New Jersey Devils</td>\n      <td>28.0</td>\n      <td>29.0</td>\n      <td>6.0</td>\n      <td>12.0</td>\n      <td>75.0</td>\n      <td>68.0</td>\n      <td>22.0</td>\n    </tr>\n    <tr>\n      <th>24</th>\n      <td>Anaheim Ducks</td>\n      <td>29.0</td>\n      <td>33.0</td>\n      <td>9.0</td>\n      <td>9.0</td>\n      <td>80.0</td>\n      <td>67.0</td>\n      <td>20.0</td>\n    </tr>\n    <tr>\n      <th>16</th>\n      <td>Los Angeles Kings</td>\n      <td>29.0</td>\n      <td>35.0</td>\n      <td>8.0</td>\n      <td>6.0</td>\n      <td>78.0</td>\n      <td>64.0</td>\n      <td>21.0</td>\n    </tr>\n    <tr>\n      <th>3</th>\n      <td>San Jose Sharks</td>\n      <td>29.0</td>\n      <td>36.0</td>\n      <td>7.0</td>\n      <td>5.0</td>\n      <td>77.0</td>\n      <td>63.0</td>\n      <td>22.0</td>\n    </tr>\n    <tr>\n      <th>2</th>\n      <td>Ottawa Senators</td>\n      <td>25.0</td>\n      <td>34.0</td>\n      <td>7.0</td>\n      <td>12.0</td>\n      <td>78.0</td>\n      <td>62.0</td>\n      <td>18.0</td>\n    </tr>\n    <tr>\n      <th>18</th>\n      <td>Detroit Red Wings</td>\n      <td>17.0</td>\n      <td>49.0</td>\n      <td>4.0</td>\n      <td>5.0</td>\n      <td>75.0</td>\n      <td>39.0</td>\n      <td>13.0</td>\n    </tr>\n  </tbody>\n</table>\n</div>"
     },
     "metadata": {}
    },
    {
     "output_type": "stream",
     "name": "stdout",
     "text": [
      "\n",
      "Season 2020-2021\n"
     ]
    },
    {
     "output_type": "display_data",
     "data": {
      "text/plain": "                     Team  Wins  Losses  OT Wins  OT Losses    GP  Points  \\\n23   Vegas Golden Knights  32.0    11.0      7.0        2.0  52.0    66.0   \n18     Colorado Avalanche  30.0     9.0      3.0        4.0  46.0    64.0   \n29       Florida Panthers  29.0    12.0      8.0        5.0  54.0    63.0   \n7     Carolina Hurricanes  29.0    10.0      8.0        5.0  52.0    63.0   \n22    Tampa Bay Lightning  30.0    13.0      6.0        2.0  51.0    62.0   \n6     Washington Capitals  29.0    13.0      5.0        4.0  51.0    62.0   \n14    Toronto Maple Leafs  28.0    12.0      6.0        5.0  51.0    61.0   \n11     New York Islanders  28.0    13.0      8.0        4.0  53.0    60.0   \n2     Pittsburgh Penguins  28.0    14.0      7.0        3.0  52.0    59.0   \n8          Minnesota Wild  28.0    13.0      5.0        3.0  49.0    59.0   \n16          Winnipeg Jets  27.0    15.0      6.0        3.0  51.0    57.0   \n9           Boston Bruins  25.0    12.0      7.0        6.0  50.0    56.0   \n20        Edmonton Oilers  27.0    15.0      2.0        2.0  46.0    56.0   \n26       New York Rangers  23.0    16.0      3.0        6.0  48.0    52.0   \n25    Nashville Predators  25.0    21.0      8.0        1.0  55.0    51.0   \n30           Dallas Stars  18.0    14.0      3.0       12.0  47.0    48.0   \n4      Montreal Canadiens  19.0    15.0      2.0        9.0  45.0    47.0   \n3      Chicago Blackhawks  21.0    20.0      7.0        5.0  53.0    47.0   \n21    Philadelphia Flyers  20.0    18.0      7.0        7.0  52.0    47.0   \n17        Arizona Coyotes  20.0    21.0      4.0        5.0  50.0    45.0   \n0         St. Louis Blues  19.0    18.0      6.0        6.0  49.0    44.0   \n13         Calgary Flames  19.0    23.0      3.0        3.0  48.0    41.0   \n5         San Jose Sharks  18.0    22.0      6.0        5.0  51.0    41.0   \n24      Detroit Red Wings  16.0    24.0      2.0        7.0  49.0    39.0   \n10  Columbus Blue Jackets  15.0    23.0      4.0        9.0  51.0    39.0   \n27      Los Angeles Kings  16.0    20.0      2.0        6.0  44.0    38.0   \n1       Vancouver Canucks  17.0    18.0      6.0        3.0  44.0    37.0   \n28        Ottawa Senators  16.0    26.0      4.0        4.0  50.0    36.0   \n12          Anaheim Ducks  14.0    25.0      5.0        7.0  51.0    35.0   \n19      New Jersey Devils  14.0    24.0      3.0        6.0  47.0    34.0   \n15         Buffalo Sabres  12.0    26.0      3.0        7.0  48.0    31.0   \n\n    Reg Win  \n23     25.0  \n18     27.0  \n29     21.0  \n7      21.0  \n22     24.0  \n6      24.0  \n14     22.0  \n11     20.0  \n2      21.0  \n8      23.0  \n16     21.0  \n9      18.0  \n20     25.0  \n26     20.0  \n25     17.0  \n30     15.0  \n4      17.0  \n3      14.0  \n21     13.0  \n17     16.0  \n0      13.0  \n13     16.0  \n5      12.0  \n24     14.0  \n10     11.0  \n27     14.0  \n1      11.0  \n28     12.0  \n12      9.0  \n19     11.0  \n15      9.0  ",
      "text/html": "<div>\n<style scoped>\n    .dataframe tbody tr th:only-of-type {\n        vertical-align: middle;\n    }\n\n    .dataframe tbody tr th {\n        vertical-align: top;\n    }\n\n    .dataframe thead th {\n        text-align: right;\n    }\n</style>\n<table border=\"1\" class=\"dataframe\">\n  <thead>\n    <tr style=\"text-align: right;\">\n      <th></th>\n      <th>Team</th>\n      <th>Wins</th>\n      <th>Losses</th>\n      <th>OT Wins</th>\n      <th>OT Losses</th>\n      <th>GP</th>\n      <th>Points</th>\n      <th>Reg Win</th>\n    </tr>\n  </thead>\n  <tbody>\n    <tr>\n      <th>23</th>\n      <td>Vegas Golden Knights</td>\n      <td>32.0</td>\n      <td>11.0</td>\n      <td>7.0</td>\n      <td>2.0</td>\n      <td>52.0</td>\n      <td>66.0</td>\n      <td>25.0</td>\n    </tr>\n    <tr>\n      <th>18</th>\n      <td>Colorado Avalanche</td>\n      <td>30.0</td>\n      <td>9.0</td>\n      <td>3.0</td>\n      <td>4.0</td>\n      <td>46.0</td>\n      <td>64.0</td>\n      <td>27.0</td>\n    </tr>\n    <tr>\n      <th>29</th>\n      <td>Florida Panthers</td>\n      <td>29.0</td>\n      <td>12.0</td>\n      <td>8.0</td>\n      <td>5.0</td>\n      <td>54.0</td>\n      <td>63.0</td>\n      <td>21.0</td>\n    </tr>\n    <tr>\n      <th>7</th>\n      <td>Carolina Hurricanes</td>\n      <td>29.0</td>\n      <td>10.0</td>\n      <td>8.0</td>\n      <td>5.0</td>\n      <td>52.0</td>\n      <td>63.0</td>\n      <td>21.0</td>\n    </tr>\n    <tr>\n      <th>22</th>\n      <td>Tampa Bay Lightning</td>\n      <td>30.0</td>\n      <td>13.0</td>\n      <td>6.0</td>\n      <td>2.0</td>\n      <td>51.0</td>\n      <td>62.0</td>\n      <td>24.0</td>\n    </tr>\n    <tr>\n      <th>6</th>\n      <td>Washington Capitals</td>\n      <td>29.0</td>\n      <td>13.0</td>\n      <td>5.0</td>\n      <td>4.0</td>\n      <td>51.0</td>\n      <td>62.0</td>\n      <td>24.0</td>\n    </tr>\n    <tr>\n      <th>14</th>\n      <td>Toronto Maple Leafs</td>\n      <td>28.0</td>\n      <td>12.0</td>\n      <td>6.0</td>\n      <td>5.0</td>\n      <td>51.0</td>\n      <td>61.0</td>\n      <td>22.0</td>\n    </tr>\n    <tr>\n      <th>11</th>\n      <td>New York Islanders</td>\n      <td>28.0</td>\n      <td>13.0</td>\n      <td>8.0</td>\n      <td>4.0</td>\n      <td>53.0</td>\n      <td>60.0</td>\n      <td>20.0</td>\n    </tr>\n    <tr>\n      <th>2</th>\n      <td>Pittsburgh Penguins</td>\n      <td>28.0</td>\n      <td>14.0</td>\n      <td>7.0</td>\n      <td>3.0</td>\n      <td>52.0</td>\n      <td>59.0</td>\n      <td>21.0</td>\n    </tr>\n    <tr>\n      <th>8</th>\n      <td>Minnesota Wild</td>\n      <td>28.0</td>\n      <td>13.0</td>\n      <td>5.0</td>\n      <td>3.0</td>\n      <td>49.0</td>\n      <td>59.0</td>\n      <td>23.0</td>\n    </tr>\n    <tr>\n      <th>16</th>\n      <td>Winnipeg Jets</td>\n      <td>27.0</td>\n      <td>15.0</td>\n      <td>6.0</td>\n      <td>3.0</td>\n      <td>51.0</td>\n      <td>57.0</td>\n      <td>21.0</td>\n    </tr>\n    <tr>\n      <th>9</th>\n      <td>Boston Bruins</td>\n      <td>25.0</td>\n      <td>12.0</td>\n      <td>7.0</td>\n      <td>6.0</td>\n      <td>50.0</td>\n      <td>56.0</td>\n      <td>18.0</td>\n    </tr>\n    <tr>\n      <th>20</th>\n      <td>Edmonton Oilers</td>\n      <td>27.0</td>\n      <td>15.0</td>\n      <td>2.0</td>\n      <td>2.0</td>\n      <td>46.0</td>\n      <td>56.0</td>\n      <td>25.0</td>\n    </tr>\n    <tr>\n      <th>26</th>\n      <td>New York Rangers</td>\n      <td>23.0</td>\n      <td>16.0</td>\n      <td>3.0</td>\n      <td>6.0</td>\n      <td>48.0</td>\n      <td>52.0</td>\n      <td>20.0</td>\n    </tr>\n    <tr>\n      <th>25</th>\n      <td>Nashville Predators</td>\n      <td>25.0</td>\n      <td>21.0</td>\n      <td>8.0</td>\n      <td>1.0</td>\n      <td>55.0</td>\n      <td>51.0</td>\n      <td>17.0</td>\n    </tr>\n    <tr>\n      <th>30</th>\n      <td>Dallas Stars</td>\n      <td>18.0</td>\n      <td>14.0</td>\n      <td>3.0</td>\n      <td>12.0</td>\n      <td>47.0</td>\n      <td>48.0</td>\n      <td>15.0</td>\n    </tr>\n    <tr>\n      <th>4</th>\n      <td>Montreal Canadiens</td>\n      <td>19.0</td>\n      <td>15.0</td>\n      <td>2.0</td>\n      <td>9.0</td>\n      <td>45.0</td>\n      <td>47.0</td>\n      <td>17.0</td>\n    </tr>\n    <tr>\n      <th>3</th>\n      <td>Chicago Blackhawks</td>\n      <td>21.0</td>\n      <td>20.0</td>\n      <td>7.0</td>\n      <td>5.0</td>\n      <td>53.0</td>\n      <td>47.0</td>\n      <td>14.0</td>\n    </tr>\n    <tr>\n      <th>21</th>\n      <td>Philadelphia Flyers</td>\n      <td>20.0</td>\n      <td>18.0</td>\n      <td>7.0</td>\n      <td>7.0</td>\n      <td>52.0</td>\n      <td>47.0</td>\n      <td>13.0</td>\n    </tr>\n    <tr>\n      <th>17</th>\n      <td>Arizona Coyotes</td>\n      <td>20.0</td>\n      <td>21.0</td>\n      <td>4.0</td>\n      <td>5.0</td>\n      <td>50.0</td>\n      <td>45.0</td>\n      <td>16.0</td>\n    </tr>\n    <tr>\n      <th>0</th>\n      <td>St. Louis Blues</td>\n      <td>19.0</td>\n      <td>18.0</td>\n      <td>6.0</td>\n      <td>6.0</td>\n      <td>49.0</td>\n      <td>44.0</td>\n      <td>13.0</td>\n    </tr>\n    <tr>\n      <th>13</th>\n      <td>Calgary Flames</td>\n      <td>19.0</td>\n      <td>23.0</td>\n      <td>3.0</td>\n      <td>3.0</td>\n      <td>48.0</td>\n      <td>41.0</td>\n      <td>16.0</td>\n    </tr>\n    <tr>\n      <th>5</th>\n      <td>San Jose Sharks</td>\n      <td>18.0</td>\n      <td>22.0</td>\n      <td>6.0</td>\n      <td>5.0</td>\n      <td>51.0</td>\n      <td>41.0</td>\n      <td>12.0</td>\n    </tr>\n    <tr>\n      <th>24</th>\n      <td>Detroit Red Wings</td>\n      <td>16.0</td>\n      <td>24.0</td>\n      <td>2.0</td>\n      <td>7.0</td>\n      <td>49.0</td>\n      <td>39.0</td>\n      <td>14.0</td>\n    </tr>\n    <tr>\n      <th>10</th>\n      <td>Columbus Blue Jackets</td>\n      <td>15.0</td>\n      <td>23.0</td>\n      <td>4.0</td>\n      <td>9.0</td>\n      <td>51.0</td>\n      <td>39.0</td>\n      <td>11.0</td>\n    </tr>\n    <tr>\n      <th>27</th>\n      <td>Los Angeles Kings</td>\n      <td>16.0</td>\n      <td>20.0</td>\n      <td>2.0</td>\n      <td>6.0</td>\n      <td>44.0</td>\n      <td>38.0</td>\n      <td>14.0</td>\n    </tr>\n    <tr>\n      <th>1</th>\n      <td>Vancouver Canucks</td>\n      <td>17.0</td>\n      <td>18.0</td>\n      <td>6.0</td>\n      <td>3.0</td>\n      <td>44.0</td>\n      <td>37.0</td>\n      <td>11.0</td>\n    </tr>\n    <tr>\n      <th>28</th>\n      <td>Ottawa Senators</td>\n      <td>16.0</td>\n      <td>26.0</td>\n      <td>4.0</td>\n      <td>4.0</td>\n      <td>50.0</td>\n      <td>36.0</td>\n      <td>12.0</td>\n    </tr>\n    <tr>\n      <th>12</th>\n      <td>Anaheim Ducks</td>\n      <td>14.0</td>\n      <td>25.0</td>\n      <td>5.0</td>\n      <td>7.0</td>\n      <td>51.0</td>\n      <td>35.0</td>\n      <td>9.0</td>\n    </tr>\n    <tr>\n      <th>19</th>\n      <td>New Jersey Devils</td>\n      <td>14.0</td>\n      <td>24.0</td>\n      <td>3.0</td>\n      <td>6.0</td>\n      <td>47.0</td>\n      <td>34.0</td>\n      <td>11.0</td>\n    </tr>\n    <tr>\n      <th>15</th>\n      <td>Buffalo Sabres</td>\n      <td>12.0</td>\n      <td>26.0</td>\n      <td>3.0</td>\n      <td>7.0</td>\n      <td>48.0</td>\n      <td>31.0</td>\n      <td>9.0</td>\n    </tr>\n  </tbody>\n</table>\n</div>"
     },
     "metadata": {}
    },
    {
     "output_type": "stream",
     "name": "stdout",
     "text": [
      "\n"
     ]
    }
   ],
   "source": [
    "for name, games in scores_by_season:\n",
    "    # create empty list\n",
    "    df = pd.DataFrame({'Team': pd.Series([], dtype='category'),\n",
    "                        'Wins': pd.Series([], dtype='int'),\n",
    "                        'Losses': pd.Series([], dtype='int'),\n",
    "                        'OT Wins': pd.Series([], dtype='int'),\n",
    "                        'OT Losses': pd.Series([], dtype='int')})\n",
    "    # add teams\n",
    "    df['Team'] = games['Visitor'].unique()\n",
    "    # replace nans with zeros\n",
    "    df = df.apply(lambda x: x.fillna(0) if x.dtype.kind in 'biufc' else x)\n",
    "    # count wins, losses and OT\n",
    "    for _, row in games.iterrows():\n",
    "        home_idx = df.index[df['Team'] == row['Home']].tolist()[0]\n",
    "        visit_idx = df.index[df['Team'] == row['Visitor']].tolist()[0]\n",
    "        if row['Home Goals'] > row['Visitor Goals']:    # Home team wins\n",
    "            df.at[home_idx, 'Wins'] += 1\n",
    "            if pd.notnull(row['Overtime']):   # 2OT, etc possible\n",
    "                df.at[home_idx, 'OT Wins'] += 1\n",
    "                df.at[visit_idx, 'OT Losses'] += 1\n",
    "            else:\n",
    "                df.at[visit_idx, 'Losses'] += 1\n",
    "        elif row['Home Goals'] < row['Visitor Goals']:  # Visitor team wins\n",
    "            df.at[visit_idx, 'Wins'] += 1\n",
    "            if pd.notnull(row['Overtime']):   # 2OT, etc possible\n",
    "                df.at[visit_idx, 'OT Wins'] += 1\n",
    "                df.at[home_idx, 'OT Losses'] += 1\n",
    "            else:\n",
    "                df.at[home_idx, 'Losses'] += 1\n",
    "    # add metrics\n",
    "    df['GP'] = df.sum(axis=1, numeric_only=True)\n",
    "    df['Points'] = 2 * df['Wins'] + 1 * df['OT Losses']\n",
    "    df['Reg Win'] = df['Wins'] - df['OT Wins']\n",
    "    # print table\n",
    "    print('Season ' + name)\n",
    "    display(df.sort_values('Points', ascending=False))\n",
    "    print()"
   ]
  },
  {
   "cell_type": "code",
   "execution_count": null,
   "metadata": {},
   "outputs": [],
   "source": []
  }
 ]
}