{
 "metadata": {
  "language_info": {
   "codemirror_mode": {
    "name": "ipython",
    "version": 3
   },
   "file_extension": ".py",
   "mimetype": "text/x-python",
   "name": "python",
   "nbconvert_exporter": "python",
   "pygments_lexer": "ipython3",
   "version": "3.8.3"
  },
  "orig_nbformat": 2,
  "kernelspec": {
   "name": "python383jvsc74a57bd00be40f15dcfa6f86363c9264ef3f626f3c3a3ec773f4020b380e97c2efd2229f",
   "display_name": "Python 3.8.3 64-bit ('base': conda)"
  }
 },
 "nbformat": 4,
 "nbformat_minor": 2,
 "cells": [
  {
   "source": [
    "# Matchups\n",
    "Analyse the performance of each team against the others"
   ],
   "cell_type": "markdown",
   "metadata": {}
  },
  {
   "cell_type": "code",
   "execution_count": 1,
   "metadata": {},
   "outputs": [],
   "source": [
    "import pandas as pd\n",
    "import numpy as np"
   ]
  },
  {
   "source": [
    "## Read and convert data"
   ],
   "cell_type": "markdown",
   "metadata": {}
  },
  {
   "cell_type": "code",
   "execution_count": 2,
   "metadata": {},
   "outputs": [
    {
     "output_type": "execute_result",
     "data": {
      "text/plain": [
       "        Date                Visitor  Visitor Goals                 Home  \\\n",
       "0 2019-04-10    Pittsburgh Penguins              3   New York Islanders   \n",
       "1 2019-04-10           Dallas Stars              3  Nashville Predators   \n",
       "2 2019-04-10        St. Louis Blues              2        Winnipeg Jets   \n",
       "3 2019-04-10   Vegas Golden Knights              2      San Jose Sharks   \n",
       "4 2019-04-10  Columbus Blue Jackets              4  Tampa Bay Lightning   \n",
       "\n",
       "   Home Goals Overtime  Attendance          Length  \\\n",
       "0           4       OT       13917 0 days 03:06:00   \n",
       "1           2      NaN       17458 0 days 02:30:00   \n",
       "2           1      NaN       15321 0 days 02:31:00   \n",
       "3           5      NaN       17562 0 days 02:39:00   \n",
       "4           3      NaN       19092 0 days 02:28:00   \n",
       "\n",
       "                                               Notes     Season      Type  \n",
       "0  at Nassau Veterans Memorial Coliseum (Uniondal...  2018-2019  playoffs  \n",
       "1                                                NaN  2018-2019  playoffs  \n",
       "2                                                NaN  2018-2019  playoffs  \n",
       "3                                                NaN  2018-2019  playoffs  \n",
       "4                                                NaN  2018-2019  playoffs  "
      ],
      "text/html": "<div>\n<style scoped>\n    .dataframe tbody tr th:only-of-type {\n        vertical-align: middle;\n    }\n\n    .dataframe tbody tr th {\n        vertical-align: top;\n    }\n\n    .dataframe thead th {\n        text-align: right;\n    }\n</style>\n<table border=\"1\" class=\"dataframe\">\n  <thead>\n    <tr style=\"text-align: right;\">\n      <th></th>\n      <th>Date</th>\n      <th>Visitor</th>\n      <th>Visitor Goals</th>\n      <th>Home</th>\n      <th>Home Goals</th>\n      <th>Overtime</th>\n      <th>Attendance</th>\n      <th>Length</th>\n      <th>Notes</th>\n      <th>Season</th>\n      <th>Type</th>\n    </tr>\n  </thead>\n  <tbody>\n    <tr>\n      <th>0</th>\n      <td>2019-04-10</td>\n      <td>Pittsburgh Penguins</td>\n      <td>3</td>\n      <td>New York Islanders</td>\n      <td>4</td>\n      <td>OT</td>\n      <td>13917</td>\n      <td>0 days 03:06:00</td>\n      <td>at Nassau Veterans Memorial Coliseum (Uniondal...</td>\n      <td>2018-2019</td>\n      <td>playoffs</td>\n    </tr>\n    <tr>\n      <th>1</th>\n      <td>2019-04-10</td>\n      <td>Dallas Stars</td>\n      <td>3</td>\n      <td>Nashville Predators</td>\n      <td>2</td>\n      <td>NaN</td>\n      <td>17458</td>\n      <td>0 days 02:30:00</td>\n      <td>NaN</td>\n      <td>2018-2019</td>\n      <td>playoffs</td>\n    </tr>\n    <tr>\n      <th>2</th>\n      <td>2019-04-10</td>\n      <td>St. Louis Blues</td>\n      <td>2</td>\n      <td>Winnipeg Jets</td>\n      <td>1</td>\n      <td>NaN</td>\n      <td>15321</td>\n      <td>0 days 02:31:00</td>\n      <td>NaN</td>\n      <td>2018-2019</td>\n      <td>playoffs</td>\n    </tr>\n    <tr>\n      <th>3</th>\n      <td>2019-04-10</td>\n      <td>Vegas Golden Knights</td>\n      <td>2</td>\n      <td>San Jose Sharks</td>\n      <td>5</td>\n      <td>NaN</td>\n      <td>17562</td>\n      <td>0 days 02:39:00</td>\n      <td>NaN</td>\n      <td>2018-2019</td>\n      <td>playoffs</td>\n    </tr>\n    <tr>\n      <th>4</th>\n      <td>2019-04-10</td>\n      <td>Columbus Blue Jackets</td>\n      <td>4</td>\n      <td>Tampa Bay Lightning</td>\n      <td>3</td>\n      <td>NaN</td>\n      <td>19092</td>\n      <td>0 days 02:28:00</td>\n      <td>NaN</td>\n      <td>2018-2019</td>\n      <td>playoffs</td>\n    </tr>\n  </tbody>\n</table>\n</div>"
     },
     "metadata": {},
     "execution_count": 2
    }
   ],
   "source": [
    "scores = pd.read_pickle('data/scores.pkl')\n",
    "scores.head()"
   ]
  },
  {
   "cell_type": "code",
   "execution_count": 3,
   "metadata": {},
   "outputs": [],
   "source": [
    "df = pd.DataFrame({'Team': pd.Series([], dtype='category'),\n",
    "                   'Opponent': pd.Series([], dtype='category'),\n",
    "                   'Goals': pd.Series([], dtype='int'),    # Goals scored\n",
    "                   'GA': pd.Series([], dtype='int'),       # Goals against\n",
    "                   'Home': pd.Series([], dtype='bool'),\n",
    "                   'Overtime': pd.Series([], dtype='bool'),\n",
    "                   'Date': pd.Series([], dtype='datetime64[ns]'),\n",
    "                   'Season': pd.Series([], dtype='category'),\n",
    "                   'Type': pd.Series([], dtype='category')})"
   ]
  },
  {
   "cell_type": "code",
   "execution_count": 4,
   "metadata": {},
   "outputs": [],
   "source": [
    "home = scores.drop(columns=['Attendance', 'Length', 'Notes'])\n",
    "away = home.copy()"
   ]
  },
  {
   "cell_type": "code",
   "execution_count": 5,
   "metadata": {},
   "outputs": [],
   "source": [
    "home = home.rename(columns={'Home':'Team', 'Visitor':'Opponent', 'Home Goals':'Goals', 'Visitor Goals':'GA'}, inplace=False)\n",
    "home['Home'] = True\n",
    "home['Overtime'] = home['Overtime'].notnull()"
   ]
  },
  {
   "cell_type": "code",
   "execution_count": 6,
   "metadata": {},
   "outputs": [],
   "source": [
    "df = df.append(home, ignore_index=True)"
   ]
  },
  {
   "cell_type": "code",
   "execution_count": 7,
   "metadata": {},
   "outputs": [],
   "source": [
    "away = away.rename(columns={'Visitor':'Team', 'Home':'Opponent', 'Home Goals':'GA', 'Visitor Goals':'Goals'}, inplace=False)\n",
    "away['Home'] = False\n",
    "away['Overtime'] = away['Overtime'].notnull()"
   ]
  },
  {
   "cell_type": "code",
   "execution_count": 8,
   "metadata": {},
   "outputs": [
    {
     "output_type": "display_data",
     "data": {
      "text/plain": "                     Team               Opponent  Goals  GA   Home  Overtime  \\\n0      New York Islanders    Pittsburgh Penguins      4   3   True      True   \n1     Nashville Predators           Dallas Stars      2   3   True     False   \n2           Winnipeg Jets        St. Louis Blues      1   2   True     False   \n3         San Jose Sharks   Vegas Golden Knights      5   2   True     False   \n4     Tampa Bay Lightning  Columbus Blue Jackets      3   4   True     False   \n...                   ...                    ...    ...  ..    ...       ...   \n9781         Dallas Stars    Tampa Bay Lightning      2   3  False     False   \n9782  Tampa Bay Lightning           Dallas Stars      5   2  False     False   \n9783  Tampa Bay Lightning           Dallas Stars      5   4  False      True   \n9784         Dallas Stars    Tampa Bay Lightning      3   2  False      True   \n9785  Tampa Bay Lightning           Dallas Stars      2   0  False     False   \n\n           Date     Season      Type  \n0    2019-04-10  2018-2019  playoffs  \n1    2019-04-10  2018-2019  playoffs  \n2    2019-04-10  2018-2019  playoffs  \n3    2019-04-10  2018-2019  playoffs  \n4    2019-04-10  2018-2019  playoffs  \n...         ...        ...       ...  \n9781 2020-09-21  2019-2020  playoffs  \n9782 2020-09-23  2019-2020  playoffs  \n9783 2020-09-25  2019-2020  playoffs  \n9784 2020-09-26  2019-2020  playoffs  \n9785 2020-09-28  2019-2020  playoffs  \n\n[9786 rows x 9 columns]",
      "text/html": "<div>\n<style scoped>\n    .dataframe tbody tr th:only-of-type {\n        vertical-align: middle;\n    }\n\n    .dataframe tbody tr th {\n        vertical-align: top;\n    }\n\n    .dataframe thead th {\n        text-align: right;\n    }\n</style>\n<table border=\"1\" class=\"dataframe\">\n  <thead>\n    <tr style=\"text-align: right;\">\n      <th></th>\n      <th>Team</th>\n      <th>Opponent</th>\n      <th>Goals</th>\n      <th>GA</th>\n      <th>Home</th>\n      <th>Overtime</th>\n      <th>Date</th>\n      <th>Season</th>\n      <th>Type</th>\n    </tr>\n  </thead>\n  <tbody>\n    <tr>\n      <th>0</th>\n      <td>New York Islanders</td>\n      <td>Pittsburgh Penguins</td>\n      <td>4</td>\n      <td>3</td>\n      <td>True</td>\n      <td>True</td>\n      <td>2019-04-10</td>\n      <td>2018-2019</td>\n      <td>playoffs</td>\n    </tr>\n    <tr>\n      <th>1</th>\n      <td>Nashville Predators</td>\n      <td>Dallas Stars</td>\n      <td>2</td>\n      <td>3</td>\n      <td>True</td>\n      <td>False</td>\n      <td>2019-04-10</td>\n      <td>2018-2019</td>\n      <td>playoffs</td>\n    </tr>\n    <tr>\n      <th>2</th>\n      <td>Winnipeg Jets</td>\n      <td>St. Louis Blues</td>\n      <td>1</td>\n      <td>2</td>\n      <td>True</td>\n      <td>False</td>\n      <td>2019-04-10</td>\n      <td>2018-2019</td>\n      <td>playoffs</td>\n    </tr>\n    <tr>\n      <th>3</th>\n      <td>San Jose Sharks</td>\n      <td>Vegas Golden Knights</td>\n      <td>5</td>\n      <td>2</td>\n      <td>True</td>\n      <td>False</td>\n      <td>2019-04-10</td>\n      <td>2018-2019</td>\n      <td>playoffs</td>\n    </tr>\n    <tr>\n      <th>4</th>\n      <td>Tampa Bay Lightning</td>\n      <td>Columbus Blue Jackets</td>\n      <td>3</td>\n      <td>4</td>\n      <td>True</td>\n      <td>False</td>\n      <td>2019-04-10</td>\n      <td>2018-2019</td>\n      <td>playoffs</td>\n    </tr>\n    <tr>\n      <th>...</th>\n      <td>...</td>\n      <td>...</td>\n      <td>...</td>\n      <td>...</td>\n      <td>...</td>\n      <td>...</td>\n      <td>...</td>\n      <td>...</td>\n      <td>...</td>\n    </tr>\n    <tr>\n      <th>9781</th>\n      <td>Dallas Stars</td>\n      <td>Tampa Bay Lightning</td>\n      <td>2</td>\n      <td>3</td>\n      <td>False</td>\n      <td>False</td>\n      <td>2020-09-21</td>\n      <td>2019-2020</td>\n      <td>playoffs</td>\n    </tr>\n    <tr>\n      <th>9782</th>\n      <td>Tampa Bay Lightning</td>\n      <td>Dallas Stars</td>\n      <td>5</td>\n      <td>2</td>\n      <td>False</td>\n      <td>False</td>\n      <td>2020-09-23</td>\n      <td>2019-2020</td>\n      <td>playoffs</td>\n    </tr>\n    <tr>\n      <th>9783</th>\n      <td>Tampa Bay Lightning</td>\n      <td>Dallas Stars</td>\n      <td>5</td>\n      <td>4</td>\n      <td>False</td>\n      <td>True</td>\n      <td>2020-09-25</td>\n      <td>2019-2020</td>\n      <td>playoffs</td>\n    </tr>\n    <tr>\n      <th>9784</th>\n      <td>Dallas Stars</td>\n      <td>Tampa Bay Lightning</td>\n      <td>3</td>\n      <td>2</td>\n      <td>False</td>\n      <td>True</td>\n      <td>2020-09-26</td>\n      <td>2019-2020</td>\n      <td>playoffs</td>\n    </tr>\n    <tr>\n      <th>9785</th>\n      <td>Tampa Bay Lightning</td>\n      <td>Dallas Stars</td>\n      <td>2</td>\n      <td>0</td>\n      <td>False</td>\n      <td>False</td>\n      <td>2020-09-28</td>\n      <td>2019-2020</td>\n      <td>playoffs</td>\n    </tr>\n  </tbody>\n</table>\n<p>9786 rows × 9 columns</p>\n</div>"
     },
     "metadata": {}
    }
   ],
   "source": [
    "df = pd.concat([df, home, away], ignore_index=True)\n",
    "display(df)"
   ]
  },
  {
   "source": [
    "## Team analysis"
   ],
   "cell_type": "markdown",
   "metadata": {}
  },
  {
   "cell_type": "code",
   "execution_count": 9,
   "metadata": {},
   "outputs": [],
   "source": [
    "def record_per_team(data, team, season=None, playoffs=False):\n",
    "    record = pd.DataFrame({'Opponent': pd.Series([], dtype='category'),\n",
    "                           'Games': pd.Series([], dtype='int'),\n",
    "                           'Wins': pd.Series([], dtype='int'),\n",
    "                           'Losses': pd.Series([], dtype='int'),\n",
    "                           'OT Wins': pd.Series([], dtype='int'),\n",
    "                           'OT Losses': pd.Series([], dtype='int'),\n",
    "                           'ROW': pd.Series([], dtype='int'),\n",
    "                           'Goals': pd.Series([], dtype='int'),     # Goals scored\n",
    "                           'GA': pd.Series([], dtype='int')})       # Goals against\n",
    "    \n",
    "    df = data.loc[data['Team'] == team].copy()\n",
    "    record['Opponent'] = df['Opponent'].unique()\n",
    "    record = record.apply(lambda x: x.fillna(0) if x.dtype.kind in 'biufc' else x)\n",
    "\n",
    "    for _, row in df.iterrows():\n",
    "        idx = record.index[record['Opponent'] == row['Opponent']].tolist()[0]\n",
    "\n",
    "        record.at[idx, 'Games'] += 1\n",
    "\n",
    "        if row['Goals'] > row['GA']:\n",
    "            record.at[idx, 'Wins'] += 1\n",
    "            if row['Overtime']:\n",
    "                record.at[idx, 'OT Wins'] += 1\n",
    "        elif row['Overtime']:\n",
    "            record.at[idx, 'OT Losses'] += 1\n",
    "        else:\n",
    "            record.at[idx, 'Losses'] += 1\n",
    "\n",
    "        record.at[idx, 'Goals'] += row['Goals']\n",
    "        record.at[idx, 'GA'] += row['GA']\n",
    "\n",
    "    record['Diff'] = record['Goals'] - record['GA']\n",
    "    record['ROW'] = record['Wins'] - record['OT Wins']  # Regulation Wins\n",
    "    display(record)"
   ]
  },
  {
   "cell_type": "code",
   "execution_count": 10,
   "metadata": {},
   "outputs": [
    {
     "output_type": "display_data",
     "data": {
      "text/plain": "                 Opponent  Games  Wins  Losses  OT Wins  OT Losses   ROW  \\\n0   Columbus Blue Jackets   28.0  16.0    12.0      6.0        0.0  10.0   \n1      Chicago Blackhawks   17.0  14.0     2.0      1.0        1.0  13.0   \n2     Nashville Predators   18.0  10.0     6.0      1.0        2.0   9.0   \n3       Detroit Red Wings   19.0  15.0     3.0      2.0        1.0  13.0   \n4        Florida Panthers   22.0  16.0     6.0      5.0        0.0  11.0   \n5     Carolina Hurricanes   19.0  13.0     4.0      2.0        2.0  11.0   \n6            Dallas Stars   21.0  13.0     3.0      2.0        5.0  11.0   \n7       Vancouver Canucks    5.0   3.0     2.0      0.0        0.0   3.0   \n8       New Jersey Devils    7.0   6.0     1.0      1.0        0.0   5.0   \n9         Edmonton Oilers    5.0   5.0     0.0      0.0        0.0   5.0   \n10     New York Islanders   18.0  11.0     5.0      2.0        2.0   9.0   \n11        Ottawa Senators   10.0   7.0     3.0      3.0        0.0   4.0   \n12          Anaheim Ducks    6.0   4.0     2.0      1.0        0.0   3.0   \n13         Buffalo Sabres   12.0  11.0     1.0      2.0        0.0   9.0   \n14          Boston Bruins   21.0  16.0     5.0      5.0        0.0  11.0   \n15     Colorado Avalanche    6.0   4.0     2.0      1.0        0.0   3.0   \n16       New York Rangers    7.0   6.0     1.0      1.0        0.0   5.0   \n17    Toronto Maple Leafs   10.0   5.0     5.0      0.0        0.0   5.0   \n18    Philadelphia Flyers    9.0   7.0     2.0      3.0        0.0   4.0   \n19     Montreal Canadiens   12.0  11.0     1.0      0.0        0.0  11.0   \n20        San Jose Sharks    6.0   5.0     1.0      0.0        0.0   5.0   \n21   Vegas Golden Knights    6.0   3.0     1.0      0.0        2.0   3.0   \n22        St. Louis Blues    6.0   0.0     4.0      0.0        2.0   0.0   \n23    Pittsburgh Penguins    9.0   8.0     1.0      1.0        0.0   7.0   \n24         Calgary Flames    5.0   5.0     0.0      1.0        0.0   4.0   \n25      Los Angeles Kings    6.0   6.0     0.0      4.0        0.0   2.0   \n26          Winnipeg Jets    6.0   3.0     2.0      0.0        1.0   3.0   \n27         Minnesota Wild    6.0   0.0     5.0      0.0        1.0   0.0   \n28    Washington Capitals   11.0   5.0     5.0      3.0        1.0   2.0   \n29        Arizona Coyotes    6.0   4.0     2.0      0.0        0.0   4.0   \n\n    Goals    GA  Diff  \n0    87.0  80.0   7.0  \n1    70.0  40.0  30.0  \n2    58.0  52.0   6.0  \n3    61.0  47.0  14.0  \n4    93.0  63.0  30.0  \n5    55.0  37.0  18.0  \n6    67.0  43.0  24.0  \n7    25.0  14.0  11.0  \n8    39.0  20.0  19.0  \n9    22.0   9.0  13.0  \n10   51.0  43.0   8.0  \n11   42.0  32.0  10.0  \n12   20.0  14.0   6.0  \n13   49.0  31.0  18.0  \n14   71.0  53.0  18.0  \n15   23.0  17.0   6.0  \n16   38.0  21.0  17.0  \n17   35.0  26.0   9.0  \n18   36.0  31.0   5.0  \n19   47.0  25.0  22.0  \n20   31.0  13.0  18.0  \n21   18.0  17.0   1.0  \n22   10.0  17.0  -7.0  \n23   32.0  24.0   8.0  \n24   25.0  16.0   9.0  \n25   26.0  16.0  10.0  \n26   27.0  18.0   9.0  \n27   14.0  24.0 -10.0  \n28   37.0  43.0  -6.0  \n29   20.0  16.0   4.0  ",
      "text/html": "<div>\n<style scoped>\n    .dataframe tbody tr th:only-of-type {\n        vertical-align: middle;\n    }\n\n    .dataframe tbody tr th {\n        vertical-align: top;\n    }\n\n    .dataframe thead th {\n        text-align: right;\n    }\n</style>\n<table border=\"1\" class=\"dataframe\">\n  <thead>\n    <tr style=\"text-align: right;\">\n      <th></th>\n      <th>Opponent</th>\n      <th>Games</th>\n      <th>Wins</th>\n      <th>Losses</th>\n      <th>OT Wins</th>\n      <th>OT Losses</th>\n      <th>ROW</th>\n      <th>Goals</th>\n      <th>GA</th>\n      <th>Diff</th>\n    </tr>\n  </thead>\n  <tbody>\n    <tr>\n      <th>0</th>\n      <td>Columbus Blue Jackets</td>\n      <td>28.0</td>\n      <td>16.0</td>\n      <td>12.0</td>\n      <td>6.0</td>\n      <td>0.0</td>\n      <td>10.0</td>\n      <td>87.0</td>\n      <td>80.0</td>\n      <td>7.0</td>\n    </tr>\n    <tr>\n      <th>1</th>\n      <td>Chicago Blackhawks</td>\n      <td>17.0</td>\n      <td>14.0</td>\n      <td>2.0</td>\n      <td>1.0</td>\n      <td>1.0</td>\n      <td>13.0</td>\n      <td>70.0</td>\n      <td>40.0</td>\n      <td>30.0</td>\n    </tr>\n    <tr>\n      <th>2</th>\n      <td>Nashville Predators</td>\n      <td>18.0</td>\n      <td>10.0</td>\n      <td>6.0</td>\n      <td>1.0</td>\n      <td>2.0</td>\n      <td>9.0</td>\n      <td>58.0</td>\n      <td>52.0</td>\n      <td>6.0</td>\n    </tr>\n    <tr>\n      <th>3</th>\n      <td>Detroit Red Wings</td>\n      <td>19.0</td>\n      <td>15.0</td>\n      <td>3.0</td>\n      <td>2.0</td>\n      <td>1.0</td>\n      <td>13.0</td>\n      <td>61.0</td>\n      <td>47.0</td>\n      <td>14.0</td>\n    </tr>\n    <tr>\n      <th>4</th>\n      <td>Florida Panthers</td>\n      <td>22.0</td>\n      <td>16.0</td>\n      <td>6.0</td>\n      <td>5.0</td>\n      <td>0.0</td>\n      <td>11.0</td>\n      <td>93.0</td>\n      <td>63.0</td>\n      <td>30.0</td>\n    </tr>\n    <tr>\n      <th>5</th>\n      <td>Carolina Hurricanes</td>\n      <td>19.0</td>\n      <td>13.0</td>\n      <td>4.0</td>\n      <td>2.0</td>\n      <td>2.0</td>\n      <td>11.0</td>\n      <td>55.0</td>\n      <td>37.0</td>\n      <td>18.0</td>\n    </tr>\n    <tr>\n      <th>6</th>\n      <td>Dallas Stars</td>\n      <td>21.0</td>\n      <td>13.0</td>\n      <td>3.0</td>\n      <td>2.0</td>\n      <td>5.0</td>\n      <td>11.0</td>\n      <td>67.0</td>\n      <td>43.0</td>\n      <td>24.0</td>\n    </tr>\n    <tr>\n      <th>7</th>\n      <td>Vancouver Canucks</td>\n      <td>5.0</td>\n      <td>3.0</td>\n      <td>2.0</td>\n      <td>0.0</td>\n      <td>0.0</td>\n      <td>3.0</td>\n      <td>25.0</td>\n      <td>14.0</td>\n      <td>11.0</td>\n    </tr>\n    <tr>\n      <th>8</th>\n      <td>New Jersey Devils</td>\n      <td>7.0</td>\n      <td>6.0</td>\n      <td>1.0</td>\n      <td>1.0</td>\n      <td>0.0</td>\n      <td>5.0</td>\n      <td>39.0</td>\n      <td>20.0</td>\n      <td>19.0</td>\n    </tr>\n    <tr>\n      <th>9</th>\n      <td>Edmonton Oilers</td>\n      <td>5.0</td>\n      <td>5.0</td>\n      <td>0.0</td>\n      <td>0.0</td>\n      <td>0.0</td>\n      <td>5.0</td>\n      <td>22.0</td>\n      <td>9.0</td>\n      <td>13.0</td>\n    </tr>\n    <tr>\n      <th>10</th>\n      <td>New York Islanders</td>\n      <td>18.0</td>\n      <td>11.0</td>\n      <td>5.0</td>\n      <td>2.0</td>\n      <td>2.0</td>\n      <td>9.0</td>\n      <td>51.0</td>\n      <td>43.0</td>\n      <td>8.0</td>\n    </tr>\n    <tr>\n      <th>11</th>\n      <td>Ottawa Senators</td>\n      <td>10.0</td>\n      <td>7.0</td>\n      <td>3.0</td>\n      <td>3.0</td>\n      <td>0.0</td>\n      <td>4.0</td>\n      <td>42.0</td>\n      <td>32.0</td>\n      <td>10.0</td>\n    </tr>\n    <tr>\n      <th>12</th>\n      <td>Anaheim Ducks</td>\n      <td>6.0</td>\n      <td>4.0</td>\n      <td>2.0</td>\n      <td>1.0</td>\n      <td>0.0</td>\n      <td>3.0</td>\n      <td>20.0</td>\n      <td>14.0</td>\n      <td>6.0</td>\n    </tr>\n    <tr>\n      <th>13</th>\n      <td>Buffalo Sabres</td>\n      <td>12.0</td>\n      <td>11.0</td>\n      <td>1.0</td>\n      <td>2.0</td>\n      <td>0.0</td>\n      <td>9.0</td>\n      <td>49.0</td>\n      <td>31.0</td>\n      <td>18.0</td>\n    </tr>\n    <tr>\n      <th>14</th>\n      <td>Boston Bruins</td>\n      <td>21.0</td>\n      <td>16.0</td>\n      <td>5.0</td>\n      <td>5.0</td>\n      <td>0.0</td>\n      <td>11.0</td>\n      <td>71.0</td>\n      <td>53.0</td>\n      <td>18.0</td>\n    </tr>\n    <tr>\n      <th>15</th>\n      <td>Colorado Avalanche</td>\n      <td>6.0</td>\n      <td>4.0</td>\n      <td>2.0</td>\n      <td>1.0</td>\n      <td>0.0</td>\n      <td>3.0</td>\n      <td>23.0</td>\n      <td>17.0</td>\n      <td>6.0</td>\n    </tr>\n    <tr>\n      <th>16</th>\n      <td>New York Rangers</td>\n      <td>7.0</td>\n      <td>6.0</td>\n      <td>1.0</td>\n      <td>1.0</td>\n      <td>0.0</td>\n      <td>5.0</td>\n      <td>38.0</td>\n      <td>21.0</td>\n      <td>17.0</td>\n    </tr>\n    <tr>\n      <th>17</th>\n      <td>Toronto Maple Leafs</td>\n      <td>10.0</td>\n      <td>5.0</td>\n      <td>5.0</td>\n      <td>0.0</td>\n      <td>0.0</td>\n      <td>5.0</td>\n      <td>35.0</td>\n      <td>26.0</td>\n      <td>9.0</td>\n    </tr>\n    <tr>\n      <th>18</th>\n      <td>Philadelphia Flyers</td>\n      <td>9.0</td>\n      <td>7.0</td>\n      <td>2.0</td>\n      <td>3.0</td>\n      <td>0.0</td>\n      <td>4.0</td>\n      <td>36.0</td>\n      <td>31.0</td>\n      <td>5.0</td>\n    </tr>\n    <tr>\n      <th>19</th>\n      <td>Montreal Canadiens</td>\n      <td>12.0</td>\n      <td>11.0</td>\n      <td>1.0</td>\n      <td>0.0</td>\n      <td>0.0</td>\n      <td>11.0</td>\n      <td>47.0</td>\n      <td>25.0</td>\n      <td>22.0</td>\n    </tr>\n    <tr>\n      <th>20</th>\n      <td>San Jose Sharks</td>\n      <td>6.0</td>\n      <td>5.0</td>\n      <td>1.0</td>\n      <td>0.0</td>\n      <td>0.0</td>\n      <td>5.0</td>\n      <td>31.0</td>\n      <td>13.0</td>\n      <td>18.0</td>\n    </tr>\n    <tr>\n      <th>21</th>\n      <td>Vegas Golden Knights</td>\n      <td>6.0</td>\n      <td>3.0</td>\n      <td>1.0</td>\n      <td>0.0</td>\n      <td>2.0</td>\n      <td>3.0</td>\n      <td>18.0</td>\n      <td>17.0</td>\n      <td>1.0</td>\n    </tr>\n    <tr>\n      <th>22</th>\n      <td>St. Louis Blues</td>\n      <td>6.0</td>\n      <td>0.0</td>\n      <td>4.0</td>\n      <td>0.0</td>\n      <td>2.0</td>\n      <td>0.0</td>\n      <td>10.0</td>\n      <td>17.0</td>\n      <td>-7.0</td>\n    </tr>\n    <tr>\n      <th>23</th>\n      <td>Pittsburgh Penguins</td>\n      <td>9.0</td>\n      <td>8.0</td>\n      <td>1.0</td>\n      <td>1.0</td>\n      <td>0.0</td>\n      <td>7.0</td>\n      <td>32.0</td>\n      <td>24.0</td>\n      <td>8.0</td>\n    </tr>\n    <tr>\n      <th>24</th>\n      <td>Calgary Flames</td>\n      <td>5.0</td>\n      <td>5.0</td>\n      <td>0.0</td>\n      <td>1.0</td>\n      <td>0.0</td>\n      <td>4.0</td>\n      <td>25.0</td>\n      <td>16.0</td>\n      <td>9.0</td>\n    </tr>\n    <tr>\n      <th>25</th>\n      <td>Los Angeles Kings</td>\n      <td>6.0</td>\n      <td>6.0</td>\n      <td>0.0</td>\n      <td>4.0</td>\n      <td>0.0</td>\n      <td>2.0</td>\n      <td>26.0</td>\n      <td>16.0</td>\n      <td>10.0</td>\n    </tr>\n    <tr>\n      <th>26</th>\n      <td>Winnipeg Jets</td>\n      <td>6.0</td>\n      <td>3.0</td>\n      <td>2.0</td>\n      <td>0.0</td>\n      <td>1.0</td>\n      <td>3.0</td>\n      <td>27.0</td>\n      <td>18.0</td>\n      <td>9.0</td>\n    </tr>\n    <tr>\n      <th>27</th>\n      <td>Minnesota Wild</td>\n      <td>6.0</td>\n      <td>0.0</td>\n      <td>5.0</td>\n      <td>0.0</td>\n      <td>1.0</td>\n      <td>0.0</td>\n      <td>14.0</td>\n      <td>24.0</td>\n      <td>-10.0</td>\n    </tr>\n    <tr>\n      <th>28</th>\n      <td>Washington Capitals</td>\n      <td>11.0</td>\n      <td>5.0</td>\n      <td>5.0</td>\n      <td>3.0</td>\n      <td>1.0</td>\n      <td>2.0</td>\n      <td>37.0</td>\n      <td>43.0</td>\n      <td>-6.0</td>\n    </tr>\n    <tr>\n      <th>29</th>\n      <td>Arizona Coyotes</td>\n      <td>6.0</td>\n      <td>4.0</td>\n      <td>2.0</td>\n      <td>0.0</td>\n      <td>0.0</td>\n      <td>4.0</td>\n      <td>20.0</td>\n      <td>16.0</td>\n      <td>4.0</td>\n    </tr>\n  </tbody>\n</table>\n</div>"
     },
     "metadata": {}
    }
   ],
   "source": [
    "# for team, data in df.groupby('Team'):\n",
    "record_per_team(df, 'Tampa Bay Lightning')"
   ]
  }
 ]
}